{
 "metadata": {
  "language_info": {
   "codemirror_mode": {
    "name": "ipython",
    "version": 3
   },
   "file_extension": ".py",
   "mimetype": "text/x-python",
   "name": "python",
   "nbconvert_exporter": "python",
   "pygments_lexer": "ipython3",
   "version": "3.8.3-final"
  },
  "orig_nbformat": 2,
  "kernelspec": {
   "name": "python3",
   "display_name": "Python 3",
   "language": "python"
  }
 },
 "nbformat": 4,
 "nbformat_minor": 2,
 "cells": [
  {
   "cell_type": "code",
   "execution_count": 1,
   "metadata": {},
   "outputs": [
    {
     "output_type": "stream",
     "name": "stdout",
     "text": [
      "connection !\n"
     ]
    }
   ],
   "source": [
    "import pymongo\n",
    "import json\n",
    "from pprint import pprint\n",
    "from pymongo import MongoClient\n",
    "client = MongoClient('localhost', 27017)\n",
    "db = client.startest\n",
    "ships = db.ships\n",
    "\n",
    "print('connection !')"
   ]
  },
  {
   "cell_type": "code",
   "execution_count": 2,
   "metadata": {},
   "outputs": [],
   "source": [
    "db.ships.drop()"
   ]
  },
  {
   "cell_type": "code",
   "execution_count": 3,
   "metadata": {},
   "outputs": [
    {
     "output_type": "execute_result",
     "data": {
      "text/plain": [
       "<pymongo.results.InsertOneResult at 0x25e763e8800>"
      ]
     },
     "metadata": {},
     "execution_count": 3
    }
   ],
   "source": [
    "with open('vaisseau.json') as f:\n",
    "    file_data = json.load(f)\n",
    "\n",
    "ships.insert_one(file_data)"
   ]
  },
  {
   "cell_type": "code",
   "execution_count": 4,
   "metadata": {},
   "outputs": [
    {
     "output_type": "stream",
     "name": "stdout",
     "text": [
      "Tout les vaisseaus!\n{'_id': ObjectId('601a752a09935f162e5eae86'), 'vaisseau': [{'nom': 'F7C HORNET', 'constructeur': 'Anvil Aerospace', 'hauteur': 22, 'largeur': 6, 'masse': 73535, 'role': 'Medium Fighter', 'prix': 150}, {'nom': 'CONSTELLATION AQUILA', 'constructeur': 'RSI', 'hauteur': 61, 'largeur': 14, 'masse': 439108, 'role': 'Expedition', 'prix': 372}, {'nom': 'AURORA ES', 'constructeur': 'RSI', 'hauteur': 18, 'largeur': 4, 'masse': 25172, 'role': 'Starter/Pathfinder', 'prix': 24}, {'nom': 'MANTIS', 'constructeur': 'RSI', 'hauteur': 30, 'largeur': 8, 'masse': 225621, 'role': 'Military, Stealth', 'prix': 180}, {'nom': 'CONSTELLATION TAURUS', 'constructeur': 'RSI', 'hauteur': 61, 'largeur': 14, 'masse': 416009, 'role': 'Medium Freight', 'prix': 180}, {'nom': 'CONSTELLATION AQUILA', 'constructeur': 'RSI', 'hauteur': 61, 'largeur': 14, 'masse': 439108, 'role': 'Expedition', 'prix': 372}, {'nom': 'CONSTELLATION ANDROMEDA', 'constructeur': 'RSI', 'hauteur': 61, 'largeur': 14, 'masse': 419850, 'role': 'Medium Freight / Gun Ship', 'prix': 330}, {'nom': '3001', 'constructeur': 'Origin', 'hauteur': 27, 'largeur': 8, 'masse': 66320, 'role': 'Touring', 'prix': 72}, {'nom': 'CUTLASS BLACK', 'constructeur': 'Drake', 'hauteur': 29, 'largeur': 10, 'masse': 226700, 'role': 'Medium Fighter / Medium Freight', 'prix': 138}, {'nom': 'AVENGER TITAN', 'constructeur': 'AEGIS', 'hauteur': 22, 'largeur': 5, 'masse': 50056, 'role': 'Light Freight', 'prix': 84}, {'nom': 'GLADIUS', 'constructeur': 'AEGIS', 'hauteur': 20, 'largeur': 5, 'masse': 48958, 'role': 'Light Fighter', 'prix': 108}, {'nom': 'TERRAPIN', 'constructeur': 'Anvil Aerospace', 'hauteur': 19, 'largeur': 6, 'masse': 86454, 'role': 'Pathfinder', 'prix': 1320}, {'nom': 'CARRACK EXPEDITION', 'constructeur': 'Anvil Aerospace', 'hauteur': 126, 'largeur': 36, 'masse': 4397858, 'role': 'Expedition', 'prix': 1320}, {'nom': 'ARROW', 'constructeur': 'Anvil Aerospace', 'hauteur': 16, 'largeur': 4, 'masse': 30752, 'role': 'Light Fighter', 'prix': 108}, {'nom': 'REDEEMER', 'constructeur': 'AEGIS', 'hauteur': 37, 'largeur': 11, 'masse': 120380, 'role': 'Gunship', 'prix': 530}, {'nom': 'JAVELIN', 'constructeur': 'AEGIS', 'hauteur': 480, 'largeur': 72, 'masse': 109860179, 'role': 'Destroyer', 'prix': 1240}, {'nom': 'NAUTILUS', 'constructeur': 'AEGIS', 'hauteur': 125, 'largeur': 21, 'masse': 34567, 'role': 'Minelayer', 'prix': 1240}, {'nom': 'VULCAN', 'constructeur': 'AEGIS', 'hauteur': 38, 'largeur': 10, 'masse': 625330, 'role': 'Medium Repair / Medium Refuel', 'prix': 134}, {'nom': 'X1 BASE', 'constructeur': 'ORIGIN', 'hauteur': 5, 'largeur': 1, 'masse': 1610, 'role': 'Touring', 'prix': 50}, {'nom': 'HAWK', 'constructeur': 'Anvil Aerospace', 'hauteur': 17, 'largeur': 6, 'masse': 40000, 'role': 'Light Fighter', 'prix': 650}, {'nom': 'CRUCIBLE', 'constructeur': 'Anvil Aerospace', 'hauteur': 90, 'largeur': 20, 'masse': 3650500, 'role': 'Heavy Repair', 'prix': 1800}, {'nom': 'VALKYRIE', 'constructeur': 'Anvil Aerospace', 'hauteur': 38, 'largeur': 9, 'masse': 56000, 'role': 'Military, Industrial', 'prix': 650}, {'nom': 'POLARIS', 'constructeur': 'RSI', 'hauteur': 155, 'largeur': 35, 'masse': 17155000, 'role': 'Corvette', 'prix': 1790}, {'nom': 'ORION', 'constructeur': 'RSI', 'hauteur': 170, 'largeur': 50, 'masse': 26496000, 'role': 'Heavy Mining', 'prix': 780}, {'nom': 'HERALD', 'constructeur': 'Drake', 'hauteur': 23, 'largeur': 9, 'masse': 64001, 'role': 'Medium data', 'prix': 650}, {'nom': 'CORSAIR', 'constructeur': 'Drake', 'hauteur': 55, 'largeur': 31, 'masse': 45000, 'role': 'Exploration', 'prix': 780}, {'nom': 'VULTURE', 'constructeur': 'DRAKE', 'hauteur': 33, 'largeur': 9, 'masse': 55000, 'role': 'Light Salvage', 'prix': 549}, {'nom': 'CATERPILLAR', 'constructeur': 'Drake', 'hauteur': 111, 'largeur': 13, 'masse': 1608205, 'role': 'Transport', 'prix': 1200}, {'nom': 'KRAKEN', 'constructeur': 'Drake', 'hauteur': 270, 'largeur': 64, 'masse': 37000, 'role': 'Multi-Role - Light Carrier', 'prix': 1450}, {'nom': 'ECLIPSE', 'constructeur': 'AEGIS', 'hauteur': 20, 'largeur': 4, 'masse': 54216, 'role': 'Stealth Bomber', 'prix': 490}]}\n"
     ]
    }
   ],
   "source": [
    "allships = ships.find()\n",
    "print(\"Tout les vaisseaus!\")\n",
    "for ship in allships:\n",
    "    print(ship)\n"
   ]
  },
  {
   "cell_type": "code",
   "execution_count": 5,
   "metadata": {},
   "outputs": [
    {
     "output_type": "stream",
     "name": "stdout",
     "text": [
      "Tout les vaisseaus!\n{'_id': ObjectId('601a752a09935f162e5eae86'), 'vaisseau': [{'nom': 'F7C HORNET', 'constructeur': 'Anvil Aerospace', 'hauteur': 22, 'largeur': 6, 'masse': 73535, 'role': 'Medium Fighter', 'prix': 150}, {'nom': 'CONSTELLATION AQUILA', 'constructeur': 'RSI', 'hauteur': 61, 'largeur': 14, 'masse': 439108, 'role': 'Expedition', 'prix': 372}, {'nom': 'AURORA ES', 'constructeur': 'RSI', 'hauteur': 18, 'largeur': 4, 'masse': 25172, 'role': 'Starter/Pathfinder', 'prix': 24}, {'nom': 'MANTIS', 'constructeur': 'RSI', 'hauteur': 30, 'largeur': 8, 'masse': 225621, 'role': 'Military, Stealth', 'prix': 180}, {'nom': 'CONSTELLATION TAURUS', 'constructeur': 'RSI', 'hauteur': 61, 'largeur': 14, 'masse': 416009, 'role': 'Medium Freight', 'prix': 180}, {'nom': 'CONSTELLATION AQUILA', 'constructeur': 'RSI', 'hauteur': 61, 'largeur': 14, 'masse': 439108, 'role': 'Expedition', 'prix': 372}, {'nom': 'CONSTELLATION ANDROMEDA', 'constructeur': 'RSI', 'hauteur': 61, 'largeur': 14, 'masse': 419850, 'role': 'Medium Freight / Gun Ship', 'prix': 330}, {'nom': '3001', 'constructeur': 'Origin', 'hauteur': 27, 'largeur': 8, 'masse': 66320, 'role': 'Touring', 'prix': 72}, {'nom': 'CUTLASS BLACK', 'constructeur': 'Drake', 'hauteur': 29, 'largeur': 10, 'masse': 226700, 'role': 'Medium Fighter / Medium Freight', 'prix': 138}, {'nom': 'AVENGER TITAN', 'constructeur': 'AEGIS', 'hauteur': 22, 'largeur': 5, 'masse': 50056, 'role': 'Light Freight', 'prix': 84}, {'nom': 'GLADIUS', 'constructeur': 'AEGIS', 'hauteur': 20, 'largeur': 5, 'masse': 48958, 'role': 'Light Fighter', 'prix': 108}, {'nom': 'TERRAPIN', 'constructeur': 'Anvil Aerospace', 'hauteur': 19, 'largeur': 6, 'masse': 86454, 'role': 'Pathfinder', 'prix': 1320}, {'nom': 'CARRACK EXPEDITION', 'constructeur': 'Anvil Aerospace', 'hauteur': 126, 'largeur': 36, 'masse': 4397858, 'role': 'Expedition', 'prix': 1320}, {'nom': 'ARROW', 'constructeur': 'Anvil Aerospace', 'hauteur': 16, 'largeur': 4, 'masse': 30752, 'role': 'Light Fighter', 'prix': 108}, {'nom': 'REDEEMER', 'constructeur': 'AEGIS', 'hauteur': 37, 'largeur': 11, 'masse': 120380, 'role': 'Gunship', 'prix': 530}, {'nom': 'JAVELIN', 'constructeur': 'AEGIS', 'hauteur': 480, 'largeur': 72, 'masse': 109860179, 'role': 'Destroyer', 'prix': 1240}, {'nom': 'NAUTILUS', 'constructeur': 'AEGIS', 'hauteur': 125, 'largeur': 21, 'masse': 34567, 'role': 'Minelayer', 'prix': 1240}, {'nom': 'VULCAN', 'constructeur': 'AEGIS', 'hauteur': 38, 'largeur': 10, 'masse': 625330, 'role': 'Medium Repair / Medium Refuel', 'prix': 134}, {'nom': 'X1 BASE', 'constructeur': 'ORIGIN', 'hauteur': 5, 'largeur': 1, 'masse': 1610, 'role': 'Touring', 'prix': 50}, {'nom': 'HAWK', 'constructeur': 'Anvil Aerospace', 'hauteur': 17, 'largeur': 6, 'masse': 40000, 'role': 'Light Fighter', 'prix': 650}, {'nom': 'CRUCIBLE', 'constructeur': 'Anvil Aerospace', 'hauteur': 90, 'largeur': 20, 'masse': 3650500, 'role': 'Heavy Repair', 'prix': 1800}, {'nom': 'VALKYRIE', 'constructeur': 'Anvil Aerospace', 'hauteur': 38, 'largeur': 9, 'masse': 56000, 'role': 'Military, Industrial', 'prix': 650}, {'nom': 'POLARIS', 'constructeur': 'RSI', 'hauteur': 155, 'largeur': 35, 'masse': 17155000, 'role': 'Corvette', 'prix': 1790}, {'nom': 'ORION', 'constructeur': 'RSI', 'hauteur': 170, 'largeur': 50, 'masse': 26496000, 'role': 'Heavy Mining', 'prix': 780}, {'nom': 'HERALD', 'constructeur': 'Drake', 'hauteur': 23, 'largeur': 9, 'masse': 64001, 'role': 'Medium data', 'prix': 650}, {'nom': 'CORSAIR', 'constructeur': 'Drake', 'hauteur': 55, 'largeur': 31, 'masse': 45000, 'role': 'Exploration', 'prix': 780}, {'nom': 'VULTURE', 'constructeur': 'DRAKE', 'hauteur': 33, 'largeur': 9, 'masse': 55000, 'role': 'Light Salvage', 'prix': 549}, {'nom': 'CATERPILLAR', 'constructeur': 'Drake', 'hauteur': 111, 'largeur': 13, 'masse': 1608205, 'role': 'Transport', 'prix': 1200}, {'nom': 'KRAKEN', 'constructeur': 'Drake', 'hauteur': 270, 'largeur': 64, 'masse': 37000, 'role': 'Multi-Role - Light Carrier', 'prix': 1450}, {'nom': 'ECLIPSE', 'constructeur': 'AEGIS', 'hauteur': 20, 'largeur': 4, 'masse': 54216, 'role': 'Stealth Bomber', 'prix': 490}]}\n"
     ]
    },
    {
     "output_type": "error",
     "ename": "AttributeError",
     "evalue": "'NoneType' object has no attribute 'pretty'",
     "traceback": [
      "\u001b[1;31m---------------------------------------------------------------------------\u001b[0m",
      "\u001b[1;31mAttributeError\u001b[0m                            Traceback (most recent call last)",
      "\u001b[1;32m<ipython-input-5-32b8f672a691>\u001b[0m in \u001b[0;36m<module>\u001b[1;34m\u001b[0m\n\u001b[0;32m      2\u001b[0m \u001b[0mprint\u001b[0m\u001b[1;33m(\u001b[0m\u001b[1;34m\"Tout les vaisseaus!\"\u001b[0m\u001b[1;33m)\u001b[0m\u001b[1;33m\u001b[0m\u001b[1;33m\u001b[0m\u001b[0m\n\u001b[0;32m      3\u001b[0m \u001b[1;32mfor\u001b[0m \u001b[0mship\u001b[0m \u001b[1;32min\u001b[0m \u001b[0mallships\u001b[0m\u001b[1;33m:\u001b[0m\u001b[1;33m\u001b[0m\u001b[1;33m\u001b[0m\u001b[0m\n\u001b[1;32m----> 4\u001b[1;33m     \u001b[0mprint\u001b[0m\u001b[1;33m(\u001b[0m\u001b[0mship\u001b[0m\u001b[1;33m)\u001b[0m\u001b[1;33m.\u001b[0m\u001b[0mpretty\u001b[0m\u001b[1;33m(\u001b[0m\u001b[1;33m)\u001b[0m\u001b[1;33m\u001b[0m\u001b[1;33m\u001b[0m\u001b[0m\n\u001b[0m\u001b[0;32m      5\u001b[0m \u001b[1;33m\u001b[0m\u001b[0m\n",
      "\u001b[1;31mAttributeError\u001b[0m: 'NoneType' object has no attribute 'pretty'"
     ]
    }
   ],
   "source": [
    "allships = ships.find()\n",
    "print(\"Tout les vaisseaus!\")\n",
    "for ship in allships:\n",
    "    print(ship).pretty()\n",
    "    \n"
   ]
  },
  {
   "cell_type": "code",
   "execution_count": 6,
   "metadata": {},
   "outputs": [
    {
     "output_type": "error",
     "ename": "AttributeError",
     "evalue": "'Cursor' object has no attribute 'pretty'",
     "traceback": [
      "\u001b[1;31m---------------------------------------------------------------------------\u001b[0m",
      "\u001b[1;31mAttributeError\u001b[0m                            Traceback (most recent call last)",
      "\u001b[1;32m<ipython-input-6-104321d12278>\u001b[0m in \u001b[0;36m<module>\u001b[1;34m\u001b[0m\n\u001b[1;32m----> 1\u001b[1;33m \u001b[0mdb\u001b[0m\u001b[1;33m.\u001b[0m\u001b[0mships\u001b[0m\u001b[1;33m.\u001b[0m\u001b[0mfind\u001b[0m\u001b[1;33m(\u001b[0m\u001b[1;33m)\u001b[0m\u001b[1;33m.\u001b[0m\u001b[0mpretty\u001b[0m\u001b[1;33m(\u001b[0m\u001b[1;33m)\u001b[0m\u001b[1;33m\u001b[0m\u001b[1;33m\u001b[0m\u001b[0m\n\u001b[0m",
      "\u001b[1;31mAttributeError\u001b[0m: 'Cursor' object has no attribute 'pretty'"
     ]
    }
   ],
   "source": [
    "db.ships.find().pretty()\n"
   ]
  },
  {
   "cell_type": "code",
   "execution_count": 7,
   "metadata": {},
   "outputs": [
    {
     "output_type": "error",
     "ename": "AttributeError",
     "evalue": "'Cursor' object has no attribute 'pretty'",
     "traceback": [
      "\u001b[1;31m---------------------------------------------------------------------------\u001b[0m",
      "\u001b[1;31mAttributeError\u001b[0m                            Traceback (most recent call last)",
      "\u001b[1;32m<ipython-input-7-db7778db33ab>\u001b[0m in \u001b[0;36m<module>\u001b[1;34m\u001b[0m\n\u001b[1;32m----> 1\u001b[1;33m \u001b[0mdb\u001b[0m\u001b[1;33m.\u001b[0m\u001b[0mships\u001b[0m\u001b[1;33m.\u001b[0m\u001b[0mfind\u001b[0m\u001b[1;33m(\u001b[0m\u001b[1;33m)\u001b[0m\u001b[1;33m.\u001b[0m\u001b[0mskip\u001b[0m\u001b[1;33m(\u001b[0m\u001b[1;36m9\u001b[0m\u001b[1;33m)\u001b[0m\u001b[1;33m.\u001b[0m\u001b[0mlimit\u001b[0m\u001b[1;33m(\u001b[0m\u001b[1;36m12\u001b[0m\u001b[1;33m)\u001b[0m\u001b[1;33m.\u001b[0m\u001b[0mpretty\u001b[0m\u001b[1;33m(\u001b[0m\u001b[1;33m)\u001b[0m\u001b[1;33m\u001b[0m\u001b[1;33m\u001b[0m\u001b[0m\n\u001b[0m",
      "\u001b[1;31mAttributeError\u001b[0m: 'Cursor' object has no attribute 'pretty'"
     ]
    }
   ],
   "source": [
    "db.ships.find().skip(9).limit(12).pretty()"
   ]
  },
  {
   "cell_type": "code",
   "execution_count": 8,
   "metadata": {},
   "outputs": [
    {
     "output_type": "stream",
     "name": "stdout",
     "text": [
      "Tout les vaisseaus!\n"
     ]
    },
    {
     "output_type": "error",
     "ename": "AttributeError",
     "evalue": "'Cursor' object has no attribute 'pretty'",
     "traceback": [
      "\u001b[1;31m---------------------------------------------------------------------------\u001b[0m",
      "\u001b[1;31mAttributeError\u001b[0m                            Traceback (most recent call last)",
      "\u001b[1;32m<ipython-input-8-3d587686dcf5>\u001b[0m in \u001b[0;36m<module>\u001b[1;34m\u001b[0m\n\u001b[0;32m      2\u001b[0m \u001b[0mprint\u001b[0m\u001b[1;33m(\u001b[0m\u001b[1;34m\"Tout les vaisseaus!\"\u001b[0m\u001b[1;33m)\u001b[0m\u001b[1;33m\u001b[0m\u001b[1;33m\u001b[0m\u001b[0m\n\u001b[0;32m      3\u001b[0m \u001b[1;32mfor\u001b[0m \u001b[0mship\u001b[0m \u001b[1;32min\u001b[0m \u001b[0mallships\u001b[0m\u001b[1;33m:\u001b[0m\u001b[1;33m\u001b[0m\u001b[1;33m\u001b[0m\u001b[0m\n\u001b[1;32m----> 4\u001b[1;33m      \u001b[0mdb\u001b[0m\u001b[1;33m.\u001b[0m\u001b[0mship\u001b[0m\u001b[1;33m.\u001b[0m\u001b[0mfind\u001b[0m\u001b[1;33m(\u001b[0m\u001b[1;33m)\u001b[0m\u001b[1;33m.\u001b[0m\u001b[0mpretty\u001b[0m\u001b[1;33m(\u001b[0m\u001b[1;33m)\u001b[0m\u001b[1;33m\u001b[0m\u001b[1;33m\u001b[0m\u001b[0m\n\u001b[0m",
      "\u001b[1;31mAttributeError\u001b[0m: 'Cursor' object has no attribute 'pretty'"
     ]
    }
   ],
   "source": [
    "allships = ships.find()\n",
    "print(\"Tout les vaisseaus!\")\n",
    "for ship in allships:\n",
    "     db.ship.find().pretty()"
   ]
  },
  {
   "cell_type": "code",
   "execution_count": 9,
   "metadata": {},
   "outputs": [
    {
     "output_type": "error",
     "ename": "TypeError",
     "evalue": "if no direction is specified, key_or_list must be an instance of list",
     "traceback": [
      "\u001b[1;31m---------------------------------------------------------------------------\u001b[0m",
      "\u001b[1;31mTypeError\u001b[0m                                 Traceback (most recent call last)",
      "\u001b[1;32m<ipython-input-9-cd7802af93e5>\u001b[0m in \u001b[0;36m<module>\u001b[1;34m\u001b[0m\n\u001b[1;32m----> 1\u001b[1;33m \u001b[0mdb\u001b[0m\u001b[1;33m.\u001b[0m\u001b[0mships\u001b[0m\u001b[1;33m.\u001b[0m\u001b[0mfind\u001b[0m\u001b[1;33m(\u001b[0m\u001b[1;33m)\u001b[0m\u001b[1;33m.\u001b[0m\u001b[0msort\u001b[0m\u001b[1;33m(\u001b[0m\u001b[1;33m{\u001b[0m\u001b[1;34m\"nom\"\u001b[0m\u001b[1;33m:\u001b[0m\u001b[1;33m-\u001b[0m\u001b[1;36m1\u001b[0m\u001b[1;33m}\u001b[0m\u001b[1;33m)\u001b[0m\u001b[1;33m.\u001b[0m\u001b[0mpretty\u001b[0m\u001b[1;33m(\u001b[0m\u001b[1;33m)\u001b[0m\u001b[1;33m\u001b[0m\u001b[1;33m\u001b[0m\u001b[0m\n\u001b[0m",
      "\u001b[1;32m~\\AppData\\Roaming\\Python\\Python38\\site-packages\\pymongo\\cursor.py\u001b[0m in \u001b[0;36msort\u001b[1;34m(self, key_or_list, direction)\u001b[0m\n\u001b[0;32m    760\u001b[0m         \"\"\"\n\u001b[0;32m    761\u001b[0m         \u001b[0mself\u001b[0m\u001b[1;33m.\u001b[0m\u001b[0m__check_okay_to_chain\u001b[0m\u001b[1;33m(\u001b[0m\u001b[1;33m)\u001b[0m\u001b[1;33m\u001b[0m\u001b[1;33m\u001b[0m\u001b[0m\n\u001b[1;32m--> 762\u001b[1;33m         \u001b[0mkeys\u001b[0m \u001b[1;33m=\u001b[0m \u001b[0mhelpers\u001b[0m\u001b[1;33m.\u001b[0m\u001b[0m_index_list\u001b[0m\u001b[1;33m(\u001b[0m\u001b[0mkey_or_list\u001b[0m\u001b[1;33m,\u001b[0m \u001b[0mdirection\u001b[0m\u001b[1;33m)\u001b[0m\u001b[1;33m\u001b[0m\u001b[1;33m\u001b[0m\u001b[0m\n\u001b[0m\u001b[0;32m    763\u001b[0m         \u001b[0mself\u001b[0m\u001b[1;33m.\u001b[0m\u001b[0m__ordering\u001b[0m \u001b[1;33m=\u001b[0m \u001b[0mhelpers\u001b[0m\u001b[1;33m.\u001b[0m\u001b[0m_index_document\u001b[0m\u001b[1;33m(\u001b[0m\u001b[0mkeys\u001b[0m\u001b[1;33m)\u001b[0m\u001b[1;33m\u001b[0m\u001b[1;33m\u001b[0m\u001b[0m\n\u001b[0;32m    764\u001b[0m         \u001b[1;32mreturn\u001b[0m \u001b[0mself\u001b[0m\u001b[1;33m\u001b[0m\u001b[1;33m\u001b[0m\u001b[0m\n",
      "\u001b[1;32m~\\AppData\\Roaming\\Python\\Python38\\site-packages\\pymongo\\helpers.py\u001b[0m in \u001b[0;36m_index_list\u001b[1;34m(key_or_list, direction)\u001b[0m\n\u001b[0;32m     72\u001b[0m             \u001b[1;32mreturn\u001b[0m \u001b[1;33m[\u001b[0m\u001b[1;33m(\u001b[0m\u001b[0mkey_or_list\u001b[0m\u001b[1;33m,\u001b[0m \u001b[0mASCENDING\u001b[0m\u001b[1;33m)\u001b[0m\u001b[1;33m]\u001b[0m\u001b[1;33m\u001b[0m\u001b[1;33m\u001b[0m\u001b[0m\n\u001b[0;32m     73\u001b[0m         \u001b[1;32melif\u001b[0m \u001b[1;32mnot\u001b[0m \u001b[0misinstance\u001b[0m\u001b[1;33m(\u001b[0m\u001b[0mkey_or_list\u001b[0m\u001b[1;33m,\u001b[0m \u001b[1;33m(\u001b[0m\u001b[0mlist\u001b[0m\u001b[1;33m,\u001b[0m \u001b[0mtuple\u001b[0m\u001b[1;33m)\u001b[0m\u001b[1;33m)\u001b[0m\u001b[1;33m:\u001b[0m\u001b[1;33m\u001b[0m\u001b[1;33m\u001b[0m\u001b[0m\n\u001b[1;32m---> 74\u001b[1;33m             raise TypeError(\"if no direction is specified, \"\n\u001b[0m\u001b[0;32m     75\u001b[0m                             \"key_or_list must be an instance of list\")\n\u001b[0;32m     76\u001b[0m         \u001b[1;32mreturn\u001b[0m \u001b[0mkey_or_list\u001b[0m\u001b[1;33m\u001b[0m\u001b[1;33m\u001b[0m\u001b[0m\n",
      "\u001b[1;31mTypeError\u001b[0m: if no direction is specified, key_or_list must be an instance of list"
     ]
    }
   ],
   "source": [
    "db.ships.find().sort({\"nom\":-1}).pretty()"
   ]
  },
  {
   "cell_type": "code",
   "execution_count": 10,
   "metadata": {},
   "outputs": [
    {
     "output_type": "error",
     "ename": "TypeError",
     "evalue": "if no direction is specified, key_or_list must be an instance of list",
     "traceback": [
      "\u001b[1;31m---------------------------------------------------------------------------\u001b[0m",
      "\u001b[1;31mTypeError\u001b[0m                                 Traceback (most recent call last)",
      "\u001b[1;32m<ipython-input-10-ef02268cda10>\u001b[0m in \u001b[0;36m<module>\u001b[1;34m\u001b[0m\n\u001b[1;32m----> 1\u001b[1;33m \u001b[0mdb\u001b[0m\u001b[1;33m.\u001b[0m\u001b[0mships\u001b[0m\u001b[1;33m.\u001b[0m\u001b[0mfind\u001b[0m\u001b[1;33m(\u001b[0m\u001b[1;33m{\u001b[0m\u001b[1;34m\"nom\"\u001b[0m\u001b[1;33m:\u001b[0m\u001b[1;36m1\u001b[0m\u001b[1;33m,\u001b[0m \u001b[1;34m\"constructeur\"\u001b[0m\u001b[1;33m:\u001b[0m\u001b[1;36m1\u001b[0m\u001b[1;33m,\u001b[0m \u001b[1;34m\"prix\"\u001b[0m\u001b[1;33m:\u001b[0m\u001b[1;36m1\u001b[0m\u001b[1;33m}\u001b[0m\u001b[1;33m)\u001b[0m\u001b[1;33m.\u001b[0m\u001b[0msort\u001b[0m\u001b[1;33m(\u001b[0m\u001b[1;33m{\u001b[0m\u001b[1;34m\"nom\"\u001b[0m\u001b[1;33m:\u001b[0m\u001b[1;33m-\u001b[0m\u001b[1;36m1\u001b[0m\u001b[1;33m}\u001b[0m\u001b[1;33m)\u001b[0m\u001b[1;33m.\u001b[0m\u001b[0mpretty\u001b[0m\u001b[1;33m(\u001b[0m\u001b[1;33m)\u001b[0m\u001b[1;33m\u001b[0m\u001b[1;33m\u001b[0m\u001b[0m\n\u001b[0m",
      "\u001b[1;32m~\\AppData\\Roaming\\Python\\Python38\\site-packages\\pymongo\\cursor.py\u001b[0m in \u001b[0;36msort\u001b[1;34m(self, key_or_list, direction)\u001b[0m\n\u001b[0;32m    760\u001b[0m         \"\"\"\n\u001b[0;32m    761\u001b[0m         \u001b[0mself\u001b[0m\u001b[1;33m.\u001b[0m\u001b[0m__check_okay_to_chain\u001b[0m\u001b[1;33m(\u001b[0m\u001b[1;33m)\u001b[0m\u001b[1;33m\u001b[0m\u001b[1;33m\u001b[0m\u001b[0m\n\u001b[1;32m--> 762\u001b[1;33m         \u001b[0mkeys\u001b[0m \u001b[1;33m=\u001b[0m \u001b[0mhelpers\u001b[0m\u001b[1;33m.\u001b[0m\u001b[0m_index_list\u001b[0m\u001b[1;33m(\u001b[0m\u001b[0mkey_or_list\u001b[0m\u001b[1;33m,\u001b[0m \u001b[0mdirection\u001b[0m\u001b[1;33m)\u001b[0m\u001b[1;33m\u001b[0m\u001b[1;33m\u001b[0m\u001b[0m\n\u001b[0m\u001b[0;32m    763\u001b[0m         \u001b[0mself\u001b[0m\u001b[1;33m.\u001b[0m\u001b[0m__ordering\u001b[0m \u001b[1;33m=\u001b[0m \u001b[0mhelpers\u001b[0m\u001b[1;33m.\u001b[0m\u001b[0m_index_document\u001b[0m\u001b[1;33m(\u001b[0m\u001b[0mkeys\u001b[0m\u001b[1;33m)\u001b[0m\u001b[1;33m\u001b[0m\u001b[1;33m\u001b[0m\u001b[0m\n\u001b[0;32m    764\u001b[0m         \u001b[1;32mreturn\u001b[0m \u001b[0mself\u001b[0m\u001b[1;33m\u001b[0m\u001b[1;33m\u001b[0m\u001b[0m\n",
      "\u001b[1;32m~\\AppData\\Roaming\\Python\\Python38\\site-packages\\pymongo\\helpers.py\u001b[0m in \u001b[0;36m_index_list\u001b[1;34m(key_or_list, direction)\u001b[0m\n\u001b[0;32m     72\u001b[0m             \u001b[1;32mreturn\u001b[0m \u001b[1;33m[\u001b[0m\u001b[1;33m(\u001b[0m\u001b[0mkey_or_list\u001b[0m\u001b[1;33m,\u001b[0m \u001b[0mASCENDING\u001b[0m\u001b[1;33m)\u001b[0m\u001b[1;33m]\u001b[0m\u001b[1;33m\u001b[0m\u001b[1;33m\u001b[0m\u001b[0m\n\u001b[0;32m     73\u001b[0m         \u001b[1;32melif\u001b[0m \u001b[1;32mnot\u001b[0m \u001b[0misinstance\u001b[0m\u001b[1;33m(\u001b[0m\u001b[0mkey_or_list\u001b[0m\u001b[1;33m,\u001b[0m \u001b[1;33m(\u001b[0m\u001b[0mlist\u001b[0m\u001b[1;33m,\u001b[0m \u001b[0mtuple\u001b[0m\u001b[1;33m)\u001b[0m\u001b[1;33m)\u001b[0m\u001b[1;33m:\u001b[0m\u001b[1;33m\u001b[0m\u001b[1;33m\u001b[0m\u001b[0m\n\u001b[1;32m---> 74\u001b[1;33m             raise TypeError(\"if no direction is specified, \"\n\u001b[0m\u001b[0;32m     75\u001b[0m                             \"key_or_list must be an instance of list\")\n\u001b[0;32m     76\u001b[0m         \u001b[1;32mreturn\u001b[0m \u001b[0mkey_or_list\u001b[0m\u001b[1;33m\u001b[0m\u001b[1;33m\u001b[0m\u001b[0m\n",
      "\u001b[1;31mTypeError\u001b[0m: if no direction is specified, key_or_list must be an instance of list"
     ]
    }
   ],
   "source": [
    "db.ships.find({\"nom\":1, \"constructeur\":1, \"prix\":1}).sort({\"nom\":-1}).pretty()"
   ]
  },
  {
   "cell_type": "code",
   "execution_count": 11,
   "metadata": {},
   "outputs": [
    {
     "output_type": "error",
     "ename": "AttributeError",
     "evalue": "'Cursor' object has no attribute 'pretty'",
     "traceback": [
      "\u001b[1;31m---------------------------------------------------------------------------\u001b[0m",
      "\u001b[1;31mAttributeError\u001b[0m                            Traceback (most recent call last)",
      "\u001b[1;32m<ipython-input-11-b4fe2215377b>\u001b[0m in \u001b[0;36m<module>\u001b[1;34m\u001b[0m\n\u001b[1;32m----> 1\u001b[1;33m \u001b[0mdb\u001b[0m\u001b[1;33m.\u001b[0m\u001b[0mships\u001b[0m\u001b[1;33m.\u001b[0m\u001b[0mfind\u001b[0m\u001b[1;33m(\u001b[0m\u001b[1;33m{\u001b[0m\u001b[1;34m\"nom\"\u001b[0m\u001b[1;33m:\u001b[0m\u001b[1;36m1\u001b[0m\u001b[1;33m,\u001b[0m \u001b[1;34m\"constructeur\"\u001b[0m\u001b[1;33m:\u001b[0m\u001b[1;36m1\u001b[0m\u001b[1;33m,\u001b[0m \u001b[1;34m\"prix\"\u001b[0m\u001b[1;33m:\u001b[0m\u001b[1;36m1\u001b[0m\u001b[1;33m}\u001b[0m\u001b[1;33m)\u001b[0m\u001b[1;33m.\u001b[0m\u001b[0mpretty\u001b[0m\u001b[1;33m(\u001b[0m\u001b[1;33m)\u001b[0m\u001b[1;33m\u001b[0m\u001b[1;33m\u001b[0m\u001b[0m\n\u001b[0m",
      "\u001b[1;31mAttributeError\u001b[0m: 'Cursor' object has no attribute 'pretty'"
     ]
    }
   ],
   "source": [
    "db.ships.find({\"nom\":1, \"constructeur\":1, \"prix\":1}).pretty()"
   ]
  },
  {
   "cell_type": "code",
   "execution_count": 12,
   "metadata": {},
   "outputs": [
    {
     "output_type": "error",
     "ename": "ImportError",
     "evalue": "cannot import name 'pretty' from 'pymongo' (C:\\Users\\PC-PORTABLE-AXEL\\AppData\\Roaming\\Python\\Python38\\site-packages\\pymongo\\__init__.py)",
     "traceback": [
      "\u001b[1;31m---------------------------------------------------------------------------\u001b[0m",
      "\u001b[1;31mImportError\u001b[0m                               Traceback (most recent call last)",
      "\u001b[1;32m<ipython-input-12-89fae4bfd714>\u001b[0m in \u001b[0;36m<module>\u001b[1;34m\u001b[0m\n\u001b[1;32m----> 1\u001b[1;33m \u001b[1;32mfrom\u001b[0m \u001b[0mpymongo\u001b[0m \u001b[1;32mimport\u001b[0m \u001b[0mpretty\u001b[0m\u001b[1;33m\u001b[0m\u001b[1;33m\u001b[0m\u001b[0m\n\u001b[0m",
      "\u001b[1;31mImportError\u001b[0m: cannot import name 'pretty' from 'pymongo' (C:\\Users\\PC-PORTABLE-AXEL\\AppData\\Roaming\\Python\\Python38\\site-packages\\pymongo\\__init__.py)"
     ]
    }
   ],
   "source": [
    "from pymongo import pretty\n"
   ]
  },
  {
   "cell_type": "code",
   "execution_count": 13,
   "metadata": {},
   "outputs": [
    {
     "output_type": "stream",
     "name": "stdout",
     "text": [
      "Tout les vaisseaus!\n{'_id': ObjectId('601a752a09935f162e5eae86'),\n 'vaisseau': [{'constructeur': 'Anvil Aerospace',\n               'hauteur': 22,\n               'largeur': 6,\n               'masse': 73535,\n               'nom': 'F7C HORNET',\n               'prix': 150,\n               'role': 'Medium Fighter'},\n              {'constructeur': 'RSI',\n               'hauteur': 61,\n               'largeur': 14,\n               'masse': 439108,\n               'nom': 'CONSTELLATION AQUILA',\n               'prix': 372,\n               'role': 'Expedition'},\n              {'constructeur': 'RSI',\n               'hauteur': 18,\n               'largeur': 4,\n               'masse': 25172,\n               'nom': 'AURORA ES',\n               'prix': 24,\n               'role': 'Starter/Pathfinder'},\n              {'constructeur': 'RSI',\n               'hauteur': 30,\n               'largeur': 8,\n               'masse': 225621,\n               'nom': 'MANTIS',\n               'prix': 180,\n               'role': 'Military, Stealth'},\n              {'constructeur': 'RSI',\n               'hauteur': 61,\n               'largeur': 14,\n               'masse': 416009,\n               'nom': 'CONSTELLATION TAURUS',\n               'prix': 180,\n               'role': 'Medium Freight'},\n              {'constructeur': 'RSI',\n               'hauteur': 61,\n               'largeur': 14,\n               'masse': 439108,\n               'nom': 'CONSTELLATION AQUILA',\n               'prix': 372,\n               'role': 'Expedition'},\n              {'constructeur': 'RSI',\n               'hauteur': 61,\n               'largeur': 14,\n               'masse': 419850,\n               'nom': 'CONSTELLATION ANDROMEDA',\n               'prix': 330,\n               'role': 'Medium Freight / Gun Ship'},\n              {'constructeur': 'Origin',\n               'hauteur': 27,\n               'largeur': 8,\n               'masse': 66320,\n               'nom': '3001',\n               'prix': 72,\n               'role': 'Touring'},\n              {'constructeur': 'Drake',\n               'hauteur': 29,\n               'largeur': 10,\n               'masse': 226700,\n               'nom': 'CUTLASS BLACK',\n               'prix': 138,\n               'role': 'Medium Fighter / Medium Freight'},\n              {'constructeur': 'AEGIS',\n               'hauteur': 22,\n               'largeur': 5,\n               'masse': 50056,\n               'nom': 'AVENGER TITAN',\n               'prix': 84,\n               'role': 'Light Freight'},\n              {'constructeur': 'AEGIS',\n               'hauteur': 20,\n               'largeur': 5,\n               'masse': 48958,\n               'nom': 'GLADIUS',\n               'prix': 108,\n               'role': 'Light Fighter'},\n              {'constructeur': 'Anvil Aerospace',\n               'hauteur': 19,\n               'largeur': 6,\n               'masse': 86454,\n               'nom': 'TERRAPIN',\n               'prix': 1320,\n               'role': 'Pathfinder'},\n              {'constructeur': 'Anvil Aerospace',\n               'hauteur': 126,\n               'largeur': 36,\n               'masse': 4397858,\n               'nom': 'CARRACK EXPEDITION',\n               'prix': 1320,\n               'role': 'Expedition'},\n              {'constructeur': 'Anvil Aerospace',\n               'hauteur': 16,\n               'largeur': 4,\n               'masse': 30752,\n               'nom': 'ARROW',\n               'prix': 108,\n               'role': 'Light Fighter'},\n              {'constructeur': 'AEGIS',\n               'hauteur': 37,\n               'largeur': 11,\n               'masse': 120380,\n               'nom': 'REDEEMER',\n               'prix': 530,\n               'role': 'Gunship'},\n              {'constructeur': 'AEGIS',\n               'hauteur': 480,\n               'largeur': 72,\n               'masse': 109860179,\n               'nom': 'JAVELIN',\n               'prix': 1240,\n               'role': 'Destroyer'},\n              {'constructeur': 'AEGIS',\n               'hauteur': 125,\n               'largeur': 21,\n               'masse': 34567,\n               'nom': 'NAUTILUS',\n               'prix': 1240,\n               'role': 'Minelayer'},\n              {'constructeur': 'AEGIS',\n               'hauteur': 38,\n               'largeur': 10,\n               'masse': 625330,\n               'nom': 'VULCAN',\n               'prix': 134,\n               'role': 'Medium Repair / Medium Refuel'},\n              {'constructeur': 'ORIGIN',\n               'hauteur': 5,\n               'largeur': 1,\n               'masse': 1610,\n               'nom': 'X1 BASE',\n               'prix': 50,\n               'role': 'Touring'},\n              {'constructeur': 'Anvil Aerospace',\n               'hauteur': 17,\n               'largeur': 6,\n               'masse': 40000,\n               'nom': 'HAWK',\n               'prix': 650,\n               'role': 'Light Fighter'},\n              {'constructeur': 'Anvil Aerospace',\n               'hauteur': 90,\n               'largeur': 20,\n               'masse': 3650500,\n               'nom': 'CRUCIBLE',\n               'prix': 1800,\n               'role': 'Heavy Repair'},\n              {'constructeur': 'Anvil Aerospace',\n               'hauteur': 38,\n               'largeur': 9,\n               'masse': 56000,\n               'nom': 'VALKYRIE',\n               'prix': 650,\n               'role': 'Military, Industrial'},\n              {'constructeur': 'RSI',\n               'hauteur': 155,\n               'largeur': 35,\n               'masse': 17155000,\n               'nom': 'POLARIS',\n               'prix': 1790,\n               'role': 'Corvette'},\n              {'constructeur': 'RSI',\n               'hauteur': 170,\n               'largeur': 50,\n               'masse': 26496000,\n               'nom': 'ORION',\n               'prix': 780,\n               'role': 'Heavy Mining'},\n              {'constructeur': 'Drake',\n               'hauteur': 23,\n               'largeur': 9,\n               'masse': 64001,\n               'nom': 'HERALD',\n               'prix': 650,\n               'role': 'Medium data'},\n              {'constructeur': 'Drake',\n               'hauteur': 55,\n               'largeur': 31,\n               'masse': 45000,\n               'nom': 'CORSAIR',\n               'prix': 780,\n               'role': 'Exploration'},\n              {'constructeur': 'DRAKE',\n               'hauteur': 33,\n               'largeur': 9,\n               'masse': 55000,\n               'nom': 'VULTURE',\n               'prix': 549,\n               'role': 'Light Salvage'},\n              {'constructeur': 'Drake',\n               'hauteur': 111,\n               'largeur': 13,\n               'masse': 1608205,\n               'nom': 'CATERPILLAR',\n               'prix': 1200,\n               'role': 'Transport'},\n              {'constructeur': 'Drake',\n               'hauteur': 270,\n               'largeur': 64,\n               'masse': 37000,\n               'nom': 'KRAKEN',\n               'prix': 1450,\n               'role': 'Multi-Role - Light Carrier'},\n              {'constructeur': 'AEGIS',\n               'hauteur': 20,\n               'largeur': 4,\n               'masse': 54216,\n               'nom': 'ECLIPSE',\n               'prix': 490,\n               'role': 'Stealth Bomber'}]}\n"
     ]
    }
   ],
   "source": [
    "allships = ships.find()\n",
    "print(\"Tout les vaisseaus!\")\n",
    "for ship in allships:\n",
    "    pprint(ship)"
   ]
  },
  {
   "cell_type": "code",
   "execution_count": 1,
   "metadata": {},
   "outputs": [
    {
     "output_type": "error",
     "ename": "NameError",
     "evalue": "name 'db' is not defined",
     "traceback": [
      "\u001b[1;31m---------------------------------------------------------------------------\u001b[0m",
      "\u001b[1;31mNameError\u001b[0m                                 Traceback (most recent call last)",
      "\u001b[1;32m<ipython-input-1-a8a7c6242a8c>\u001b[0m in \u001b[0;36m<module>\u001b[1;34m\u001b[0m\n\u001b[1;32m----> 1\u001b[1;33m \u001b[0mdb\u001b[0m\u001b[1;33m.\u001b[0m\u001b[0mshipss\u001b[0m\u001b[1;33m.\u001b[0m\u001b[0mfind\u001b[0m\u001b[1;33m(\u001b[0m\u001b[1;33m{\u001b[0m\u001b[1;34m\"constructeur\"\u001b[0m\u001b[1;33m:\u001b[0m\u001b[1;34m\"AEGIS\"\u001b[0m\u001b[1;33m}\u001b[0m\u001b[1;33m)\u001b[0m\u001b[1;33m.\u001b[0m\u001b[0mpretty\u001b[0m\u001b[1;33m(\u001b[0m\u001b[1;33m)\u001b[0m\u001b[1;33m\u001b[0m\u001b[1;33m\u001b[0m\u001b[0m\n\u001b[0m",
      "\u001b[1;31mNameError\u001b[0m: name 'db' is not defined"
     ]
    }
   ],
   "source": [
    "db.shipss.find({\"constructeur\":\"AEGIS\"}).pretty()"
   ]
  },
  {
   "cell_type": "code",
   "execution_count": 2,
   "metadata": {},
   "outputs": [
    {
     "output_type": "error",
     "ename": "NameError",
     "evalue": "name 'client' is not defined",
     "traceback": [
      "\u001b[1;31m---------------------------------------------------------------------------\u001b[0m",
      "\u001b[1;31mNameError\u001b[0m                                 Traceback (most recent call last)",
      "\u001b[1;32m<ipython-input-2-746b99aa33f7>\u001b[0m in \u001b[0;36m<module>\u001b[1;34m\u001b[0m\n\u001b[1;32m----> 1\u001b[1;33m \u001b[0mdb\u001b[0m \u001b[1;33m=\u001b[0m \u001b[0mclient\u001b[0m\u001b[1;33m.\u001b[0m\u001b[0mstartest\u001b[0m\u001b[1;33m\u001b[0m\u001b[1;33m\u001b[0m\u001b[0m\n\u001b[0m",
      "\u001b[1;31mNameError\u001b[0m: name 'client' is not defined"
     ]
    }
   ],
   "source": [
    "db = client.startest\n"
   ]
  },
  {
   "cell_type": "code",
   "execution_count": 3,
   "metadata": {},
   "outputs": [
    {
     "output_type": "stream",
     "name": "stdout",
     "text": [
      "connection !\n"
     ]
    }
   ],
   "source": [
    "import pymongo\n",
    "import json\n",
    "from pprint import pprint\n",
    "from pymongo import MongoClient\n",
    "client = MongoClient('localhost', 27017)\n",
    "db = client.startest\n",
    "ships = db.ships\n",
    "\n",
    "print('connection !')\n"
   ]
  },
  {
   "cell_type": "code",
   "execution_count": 4,
   "metadata": {},
   "outputs": [
    {
     "output_type": "error",
     "ename": "AttributeError",
     "evalue": "'Cursor' object has no attribute 'pretty'",
     "traceback": [
      "\u001b[1;31m---------------------------------------------------------------------------\u001b[0m",
      "\u001b[1;31mAttributeError\u001b[0m                            Traceback (most recent call last)",
      "\u001b[1;32m<ipython-input-4-a8a7c6242a8c>\u001b[0m in \u001b[0;36m<module>\u001b[1;34m\u001b[0m\n\u001b[1;32m----> 1\u001b[1;33m \u001b[0mdb\u001b[0m\u001b[1;33m.\u001b[0m\u001b[0mshipss\u001b[0m\u001b[1;33m.\u001b[0m\u001b[0mfind\u001b[0m\u001b[1;33m(\u001b[0m\u001b[1;33m{\u001b[0m\u001b[1;34m\"constructeur\"\u001b[0m\u001b[1;33m:\u001b[0m\u001b[1;34m\"AEGIS\"\u001b[0m\u001b[1;33m}\u001b[0m\u001b[1;33m)\u001b[0m\u001b[1;33m.\u001b[0m\u001b[0mpretty\u001b[0m\u001b[1;33m(\u001b[0m\u001b[1;33m)\u001b[0m\u001b[1;33m\u001b[0m\u001b[1;33m\u001b[0m\u001b[0m\n\u001b[0m",
      "\u001b[1;31mAttributeError\u001b[0m: 'Cursor' object has no attribute 'pretty'"
     ]
    }
   ],
   "source": [
    "db.shipss.find({\"constructeur\":\"AEGIS\"}).pretty()\n"
   ]
  },
  {
   "cell_type": "code",
   "execution_count": 5,
   "metadata": {},
   "outputs": [
    {
     "output_type": "stream",
     "name": "stdout",
     "text": [
      "vaisseaux AEGIS!\n"
     ]
    },
    {
     "output_type": "error",
     "ename": "ServerSelectionTimeoutError",
     "evalue": "localhost:27017: [WinError 10061] Aucune connexion n’a pu être établie car l’ordinateur cible l’a expressément refusée, Timeout: 30s, Topology Description: <TopologyDescription id: 601aab415d1f038194632aaf, topology_type: Single, servers: [<ServerDescription ('localhost', 27017) server_type: Unknown, rtt: None, error=AutoReconnect('localhost:27017: [WinError 10061] Aucune connexion n’a pu être établie car l’ordinateur cible l’a expressément refusée')>]>",
     "traceback": [
      "\u001b[1;31m---------------------------------------------------------------------------\u001b[0m",
      "\u001b[1;31mServerSelectionTimeoutError\u001b[0m               Traceback (most recent call last)",
      "\u001b[1;32m<ipython-input-5-a9e2bd6fc996>\u001b[0m in \u001b[0;36m<module>\u001b[1;34m\u001b[0m\n\u001b[0;32m      1\u001b[0m \u001b[0maegisships\u001b[0m \u001b[1;33m=\u001b[0m \u001b[0mdb\u001b[0m\u001b[1;33m.\u001b[0m\u001b[0mshipss\u001b[0m\u001b[1;33m.\u001b[0m\u001b[0mfind\u001b[0m\u001b[1;33m(\u001b[0m\u001b[1;33m{\u001b[0m\u001b[1;34m\"constructeur\"\u001b[0m\u001b[1;33m:\u001b[0m\u001b[1;34m\"AEGIS\"\u001b[0m\u001b[1;33m}\u001b[0m\u001b[1;33m)\u001b[0m\u001b[1;33m\u001b[0m\u001b[1;33m\u001b[0m\u001b[0m\n\u001b[0;32m      2\u001b[0m \u001b[0mprint\u001b[0m\u001b[1;33m(\u001b[0m\u001b[1;34m\"vaisseaux AEGIS!\"\u001b[0m\u001b[1;33m)\u001b[0m\u001b[1;33m\u001b[0m\u001b[1;33m\u001b[0m\u001b[0m\n\u001b[1;32m----> 3\u001b[1;33m \u001b[1;32mfor\u001b[0m \u001b[0mship\u001b[0m \u001b[1;32min\u001b[0m \u001b[0maegisships\u001b[0m\u001b[1;33m:\u001b[0m\u001b[1;33m\u001b[0m\u001b[1;33m\u001b[0m\u001b[0m\n\u001b[0m\u001b[0;32m      4\u001b[0m     \u001b[0mpprint\u001b[0m\u001b[1;33m(\u001b[0m\u001b[0mship\u001b[0m\u001b[1;33m)\u001b[0m\u001b[1;33m\u001b[0m\u001b[1;33m\u001b[0m\u001b[0m\n",
      "\u001b[1;32m~\\AppData\\Roaming\\Python\\Python38\\site-packages\\pymongo\\cursor.py\u001b[0m in \u001b[0;36mnext\u001b[1;34m(self)\u001b[0m\n\u001b[0;32m   1205\u001b[0m         \u001b[1;32mif\u001b[0m \u001b[0mself\u001b[0m\u001b[1;33m.\u001b[0m\u001b[0m__empty\u001b[0m\u001b[1;33m:\u001b[0m\u001b[1;33m\u001b[0m\u001b[1;33m\u001b[0m\u001b[0m\n\u001b[0;32m   1206\u001b[0m             \u001b[1;32mraise\u001b[0m \u001b[0mStopIteration\u001b[0m\u001b[1;33m\u001b[0m\u001b[1;33m\u001b[0m\u001b[0m\n\u001b[1;32m-> 1207\u001b[1;33m         \u001b[1;32mif\u001b[0m \u001b[0mlen\u001b[0m\u001b[1;33m(\u001b[0m\u001b[0mself\u001b[0m\u001b[1;33m.\u001b[0m\u001b[0m__data\u001b[0m\u001b[1;33m)\u001b[0m \u001b[1;32mor\u001b[0m \u001b[0mself\u001b[0m\u001b[1;33m.\u001b[0m\u001b[0m_refresh\u001b[0m\u001b[1;33m(\u001b[0m\u001b[1;33m)\u001b[0m\u001b[1;33m:\u001b[0m\u001b[1;33m\u001b[0m\u001b[1;33m\u001b[0m\u001b[0m\n\u001b[0m\u001b[0;32m   1208\u001b[0m             \u001b[1;32mif\u001b[0m \u001b[0mself\u001b[0m\u001b[1;33m.\u001b[0m\u001b[0m__manipulate\u001b[0m\u001b[1;33m:\u001b[0m\u001b[1;33m\u001b[0m\u001b[1;33m\u001b[0m\u001b[0m\n\u001b[0;32m   1209\u001b[0m                 \u001b[0m_db\u001b[0m \u001b[1;33m=\u001b[0m \u001b[0mself\u001b[0m\u001b[1;33m.\u001b[0m\u001b[0m__collection\u001b[0m\u001b[1;33m.\u001b[0m\u001b[0mdatabase\u001b[0m\u001b[1;33m\u001b[0m\u001b[1;33m\u001b[0m\u001b[0m\n",
      "\u001b[1;32m~\\AppData\\Roaming\\Python\\Python38\\site-packages\\pymongo\\cursor.py\u001b[0m in \u001b[0;36m_refresh\u001b[1;34m(self)\u001b[0m\n\u001b[0;32m   1098\u001b[0m \u001b[1;33m\u001b[0m\u001b[0m\n\u001b[0;32m   1099\u001b[0m         \u001b[1;32mif\u001b[0m \u001b[1;32mnot\u001b[0m \u001b[0mself\u001b[0m\u001b[1;33m.\u001b[0m\u001b[0m__session\u001b[0m\u001b[1;33m:\u001b[0m\u001b[1;33m\u001b[0m\u001b[1;33m\u001b[0m\u001b[0m\n\u001b[1;32m-> 1100\u001b[1;33m             \u001b[0mself\u001b[0m\u001b[1;33m.\u001b[0m\u001b[0m__session\u001b[0m \u001b[1;33m=\u001b[0m \u001b[0mself\u001b[0m\u001b[1;33m.\u001b[0m\u001b[0m__collection\u001b[0m\u001b[1;33m.\u001b[0m\u001b[0mdatabase\u001b[0m\u001b[1;33m.\u001b[0m\u001b[0mclient\u001b[0m\u001b[1;33m.\u001b[0m\u001b[0m_ensure_session\u001b[0m\u001b[1;33m(\u001b[0m\u001b[1;33m)\u001b[0m\u001b[1;33m\u001b[0m\u001b[1;33m\u001b[0m\u001b[0m\n\u001b[0m\u001b[0;32m   1101\u001b[0m \u001b[1;33m\u001b[0m\u001b[0m\n\u001b[0;32m   1102\u001b[0m         \u001b[1;32mif\u001b[0m \u001b[0mself\u001b[0m\u001b[1;33m.\u001b[0m\u001b[0m__id\u001b[0m \u001b[1;32mis\u001b[0m \u001b[1;32mNone\u001b[0m\u001b[1;33m:\u001b[0m  \u001b[1;31m# Query\u001b[0m\u001b[1;33m\u001b[0m\u001b[1;33m\u001b[0m\u001b[0m\n",
      "\u001b[1;32m~\\AppData\\Roaming\\Python\\Python38\\site-packages\\pymongo\\mongo_client.py\u001b[0m in \u001b[0;36m_ensure_session\u001b[1;34m(self, session)\u001b[0m\n\u001b[0;32m   1814\u001b[0m             \u001b[1;31m# Don't make implicit sessions causally consistent. Applications\u001b[0m\u001b[1;33m\u001b[0m\u001b[1;33m\u001b[0m\u001b[1;33m\u001b[0m\u001b[0m\n\u001b[0;32m   1815\u001b[0m             \u001b[1;31m# should always opt-in.\u001b[0m\u001b[1;33m\u001b[0m\u001b[1;33m\u001b[0m\u001b[1;33m\u001b[0m\u001b[0m\n\u001b[1;32m-> 1816\u001b[1;33m             \u001b[1;32mreturn\u001b[0m \u001b[0mself\u001b[0m\u001b[1;33m.\u001b[0m\u001b[0m__start_session\u001b[0m\u001b[1;33m(\u001b[0m\u001b[1;32mTrue\u001b[0m\u001b[1;33m,\u001b[0m \u001b[0mcausal_consistency\u001b[0m\u001b[1;33m=\u001b[0m\u001b[1;32mFalse\u001b[0m\u001b[1;33m)\u001b[0m\u001b[1;33m\u001b[0m\u001b[1;33m\u001b[0m\u001b[0m\n\u001b[0m\u001b[0;32m   1817\u001b[0m         \u001b[1;32mexcept\u001b[0m \u001b[1;33m(\u001b[0m\u001b[0mConfigurationError\u001b[0m\u001b[1;33m,\u001b[0m \u001b[0mInvalidOperation\u001b[0m\u001b[1;33m)\u001b[0m\u001b[1;33m:\u001b[0m\u001b[1;33m\u001b[0m\u001b[1;33m\u001b[0m\u001b[0m\n\u001b[0;32m   1818\u001b[0m             \u001b[1;31m# Sessions not supported, or multiple users authenticated.\u001b[0m\u001b[1;33m\u001b[0m\u001b[1;33m\u001b[0m\u001b[1;33m\u001b[0m\u001b[0m\n",
      "\u001b[1;32m~\\AppData\\Roaming\\Python\\Python38\\site-packages\\pymongo\\mongo_client.py\u001b[0m in \u001b[0;36m__start_session\u001b[1;34m(self, implicit, **kwargs)\u001b[0m\n\u001b[0;32m   1764\u001b[0m \u001b[1;33m\u001b[0m\u001b[0m\n\u001b[0;32m   1765\u001b[0m         \u001b[1;31m# Raises ConfigurationError if sessions are not supported.\u001b[0m\u001b[1;33m\u001b[0m\u001b[1;33m\u001b[0m\u001b[1;33m\u001b[0m\u001b[0m\n\u001b[1;32m-> 1766\u001b[1;33m         \u001b[0mserver_session\u001b[0m \u001b[1;33m=\u001b[0m \u001b[0mself\u001b[0m\u001b[1;33m.\u001b[0m\u001b[0m_get_server_session\u001b[0m\u001b[1;33m(\u001b[0m\u001b[1;33m)\u001b[0m\u001b[1;33m\u001b[0m\u001b[1;33m\u001b[0m\u001b[0m\n\u001b[0m\u001b[0;32m   1767\u001b[0m         \u001b[0mopts\u001b[0m \u001b[1;33m=\u001b[0m \u001b[0mclient_session\u001b[0m\u001b[1;33m.\u001b[0m\u001b[0mSessionOptions\u001b[0m\u001b[1;33m(\u001b[0m\u001b[1;33m**\u001b[0m\u001b[0mkwargs\u001b[0m\u001b[1;33m)\u001b[0m\u001b[1;33m\u001b[0m\u001b[1;33m\u001b[0m\u001b[0m\n\u001b[0;32m   1768\u001b[0m         return client_session.ClientSession(\n",
      "\u001b[1;32m~\\AppData\\Roaming\\Python\\Python38\\site-packages\\pymongo\\mongo_client.py\u001b[0m in \u001b[0;36m_get_server_session\u001b[1;34m(self)\u001b[0m\n\u001b[0;32m   1800\u001b[0m     \u001b[1;32mdef\u001b[0m \u001b[0m_get_server_session\u001b[0m\u001b[1;33m(\u001b[0m\u001b[0mself\u001b[0m\u001b[1;33m)\u001b[0m\u001b[1;33m:\u001b[0m\u001b[1;33m\u001b[0m\u001b[1;33m\u001b[0m\u001b[0m\n\u001b[0;32m   1801\u001b[0m         \u001b[1;34m\"\"\"Internal: start or resume a _ServerSession.\"\"\"\u001b[0m\u001b[1;33m\u001b[0m\u001b[1;33m\u001b[0m\u001b[0m\n\u001b[1;32m-> 1802\u001b[1;33m         \u001b[1;32mreturn\u001b[0m \u001b[0mself\u001b[0m\u001b[1;33m.\u001b[0m\u001b[0m_topology\u001b[0m\u001b[1;33m.\u001b[0m\u001b[0mget_server_session\u001b[0m\u001b[1;33m(\u001b[0m\u001b[1;33m)\u001b[0m\u001b[1;33m\u001b[0m\u001b[1;33m\u001b[0m\u001b[0m\n\u001b[0m\u001b[0;32m   1803\u001b[0m \u001b[1;33m\u001b[0m\u001b[0m\n\u001b[0;32m   1804\u001b[0m     \u001b[1;32mdef\u001b[0m \u001b[0m_return_server_session\u001b[0m\u001b[1;33m(\u001b[0m\u001b[0mself\u001b[0m\u001b[1;33m,\u001b[0m \u001b[0mserver_session\u001b[0m\u001b[1;33m,\u001b[0m \u001b[0mlock\u001b[0m\u001b[1;33m)\u001b[0m\u001b[1;33m:\u001b[0m\u001b[1;33m\u001b[0m\u001b[1;33m\u001b[0m\u001b[0m\n",
      "\u001b[1;32m~\\AppData\\Roaming\\Python\\Python38\\site-packages\\pymongo\\topology.py\u001b[0m in \u001b[0;36mget_server_session\u001b[1;34m(self)\u001b[0m\n\u001b[0;32m    483\u001b[0m                 \u001b[1;32mif\u001b[0m \u001b[0mself\u001b[0m\u001b[1;33m.\u001b[0m\u001b[0m_description\u001b[0m\u001b[1;33m.\u001b[0m\u001b[0mtopology_type\u001b[0m \u001b[1;33m==\u001b[0m \u001b[0mTOPOLOGY_TYPE\u001b[0m\u001b[1;33m.\u001b[0m\u001b[0mSingle\u001b[0m\u001b[1;33m:\u001b[0m\u001b[1;33m\u001b[0m\u001b[1;33m\u001b[0m\u001b[0m\n\u001b[0;32m    484\u001b[0m                     \u001b[1;32mif\u001b[0m \u001b[1;32mnot\u001b[0m \u001b[0mself\u001b[0m\u001b[1;33m.\u001b[0m\u001b[0m_description\u001b[0m\u001b[1;33m.\u001b[0m\u001b[0mhas_known_servers\u001b[0m\u001b[1;33m:\u001b[0m\u001b[1;33m\u001b[0m\u001b[1;33m\u001b[0m\u001b[0m\n\u001b[1;32m--> 485\u001b[1;33m                         self._select_servers_loop(\n\u001b[0m\u001b[0;32m    486\u001b[0m                             \u001b[0many_server_selector\u001b[0m\u001b[1;33m,\u001b[0m\u001b[1;33m\u001b[0m\u001b[1;33m\u001b[0m\u001b[0m\n\u001b[0;32m    487\u001b[0m                             \u001b[0mself\u001b[0m\u001b[1;33m.\u001b[0m\u001b[0m_settings\u001b[0m\u001b[1;33m.\u001b[0m\u001b[0mserver_selection_timeout\u001b[0m\u001b[1;33m,\u001b[0m\u001b[1;33m\u001b[0m\u001b[1;33m\u001b[0m\u001b[0m\n",
      "\u001b[1;32m~\\AppData\\Roaming\\Python\\Python38\\site-packages\\pymongo\\topology.py\u001b[0m in \u001b[0;36m_select_servers_loop\u001b[1;34m(self, selector, timeout, address)\u001b[0m\n\u001b[0;32m    213\u001b[0m             \u001b[1;31m# No suitable servers.\u001b[0m\u001b[1;33m\u001b[0m\u001b[1;33m\u001b[0m\u001b[1;33m\u001b[0m\u001b[0m\n\u001b[0;32m    214\u001b[0m             \u001b[1;32mif\u001b[0m \u001b[0mtimeout\u001b[0m \u001b[1;33m==\u001b[0m \u001b[1;36m0\u001b[0m \u001b[1;32mor\u001b[0m \u001b[0mnow\u001b[0m \u001b[1;33m>\u001b[0m \u001b[0mend_time\u001b[0m\u001b[1;33m:\u001b[0m\u001b[1;33m\u001b[0m\u001b[1;33m\u001b[0m\u001b[0m\n\u001b[1;32m--> 215\u001b[1;33m                 raise ServerSelectionTimeoutError(\n\u001b[0m\u001b[0;32m    216\u001b[0m                     \u001b[1;34m\"%s, Timeout: %ss, Topology Description: %r\"\u001b[0m \u001b[1;33m%\u001b[0m\u001b[1;33m\u001b[0m\u001b[1;33m\u001b[0m\u001b[0m\n\u001b[0;32m    217\u001b[0m                     (self._error_message(selector), timeout, self.description))\n",
      "\u001b[1;31mServerSelectionTimeoutError\u001b[0m: localhost:27017: [WinError 10061] Aucune connexion n’a pu être établie car l’ordinateur cible l’a expressément refusée, Timeout: 30s, Topology Description: <TopologyDescription id: 601aab415d1f038194632aaf, topology_type: Single, servers: [<ServerDescription ('localhost', 27017) server_type: Unknown, rtt: None, error=AutoReconnect('localhost:27017: [WinError 10061] Aucune connexion n’a pu être établie car l’ordinateur cible l’a expressément refusée')>]>"
     ]
    }
   ],
   "source": [
    "aegisships = db.shipss.find({\"constructeur\":\"AEGIS\"})\n",
    "print(\"vaisseaux AEGIS!\")\n",
    "for ship in aegisships:\n",
    "    pprint(ship)"
   ]
  },
  {
   "cell_type": "code",
   "execution_count": 6,
   "metadata": {},
   "outputs": [
    {
     "output_type": "stream",
     "name": "stdout",
     "text": [
      "vaisseaux AEGIS!\n"
     ]
    },
    {
     "output_type": "error",
     "ename": "ServerSelectionTimeoutError",
     "evalue": "localhost:27017: [WinError 10061] Aucune connexion n’a pu être établie car l’ordinateur cible l’a expressément refusée, Timeout: 30s, Topology Description: <TopologyDescription id: 601aab415d1f038194632aaf, topology_type: Single, servers: [<ServerDescription ('localhost', 27017) server_type: Unknown, rtt: None, error=AutoReconnect('localhost:27017: [WinError 10061] Aucune connexion n’a pu être établie car l’ordinateur cible l’a expressément refusée')>]>",
     "traceback": [
      "\u001b[1;31m---------------------------------------------------------------------------\u001b[0m",
      "\u001b[1;31mServerSelectionTimeoutError\u001b[0m               Traceback (most recent call last)",
      "\u001b[1;32m<ipython-input-6-2a9af350343f>\u001b[0m in \u001b[0;36m<module>\u001b[1;34m\u001b[0m\n\u001b[0;32m      2\u001b[0m \u001b[0mprint\u001b[0m\u001b[1;33m(\u001b[0m\u001b[1;34m\"vaisseaux AEGIS!\"\u001b[0m\u001b[1;33m)\u001b[0m\u001b[1;33m\u001b[0m\u001b[1;33m\u001b[0m\u001b[0m\n\u001b[0;32m      3\u001b[0m \u001b[0mcompteur\u001b[0m \u001b[1;33m=\u001b[0m \u001b[1;36m0\u001b[0m\u001b[1;33m\u001b[0m\u001b[1;33m\u001b[0m\u001b[0m\n\u001b[1;32m----> 4\u001b[1;33m \u001b[1;32mfor\u001b[0m \u001b[0mship\u001b[0m \u001b[1;32min\u001b[0m \u001b[0maegisships\u001b[0m\u001b[1;33m:\u001b[0m\u001b[1;33m\u001b[0m\u001b[1;33m\u001b[0m\u001b[0m\n\u001b[0m\u001b[0;32m      5\u001b[0m     \u001b[0mpprint\u001b[0m\u001b[1;33m(\u001b[0m\u001b[0mship\u001b[0m\u001b[1;33m)\u001b[0m\u001b[1;33m\u001b[0m\u001b[1;33m\u001b[0m\u001b[0m\n\u001b[0;32m      6\u001b[0m     \u001b[0mprint\u001b[0m\u001b[1;33m(\u001b[0m\u001b[1;34m\"vaisseau \"\u001b[0m \u001b[1;33m+\u001b[0m \u001b[0mcompteur\u001b[0m\u001b[1;33m)\u001b[0m\u001b[1;33m\u001b[0m\u001b[1;33m\u001b[0m\u001b[0m\n",
      "\u001b[1;32m~\\AppData\\Roaming\\Python\\Python38\\site-packages\\pymongo\\cursor.py\u001b[0m in \u001b[0;36mnext\u001b[1;34m(self)\u001b[0m\n\u001b[0;32m   1205\u001b[0m         \u001b[1;32mif\u001b[0m \u001b[0mself\u001b[0m\u001b[1;33m.\u001b[0m\u001b[0m__empty\u001b[0m\u001b[1;33m:\u001b[0m\u001b[1;33m\u001b[0m\u001b[1;33m\u001b[0m\u001b[0m\n\u001b[0;32m   1206\u001b[0m             \u001b[1;32mraise\u001b[0m \u001b[0mStopIteration\u001b[0m\u001b[1;33m\u001b[0m\u001b[1;33m\u001b[0m\u001b[0m\n\u001b[1;32m-> 1207\u001b[1;33m         \u001b[1;32mif\u001b[0m \u001b[0mlen\u001b[0m\u001b[1;33m(\u001b[0m\u001b[0mself\u001b[0m\u001b[1;33m.\u001b[0m\u001b[0m__data\u001b[0m\u001b[1;33m)\u001b[0m \u001b[1;32mor\u001b[0m \u001b[0mself\u001b[0m\u001b[1;33m.\u001b[0m\u001b[0m_refresh\u001b[0m\u001b[1;33m(\u001b[0m\u001b[1;33m)\u001b[0m\u001b[1;33m:\u001b[0m\u001b[1;33m\u001b[0m\u001b[1;33m\u001b[0m\u001b[0m\n\u001b[0m\u001b[0;32m   1208\u001b[0m             \u001b[1;32mif\u001b[0m \u001b[0mself\u001b[0m\u001b[1;33m.\u001b[0m\u001b[0m__manipulate\u001b[0m\u001b[1;33m:\u001b[0m\u001b[1;33m\u001b[0m\u001b[1;33m\u001b[0m\u001b[0m\n\u001b[0;32m   1209\u001b[0m                 \u001b[0m_db\u001b[0m \u001b[1;33m=\u001b[0m \u001b[0mself\u001b[0m\u001b[1;33m.\u001b[0m\u001b[0m__collection\u001b[0m\u001b[1;33m.\u001b[0m\u001b[0mdatabase\u001b[0m\u001b[1;33m\u001b[0m\u001b[1;33m\u001b[0m\u001b[0m\n",
      "\u001b[1;32m~\\AppData\\Roaming\\Python\\Python38\\site-packages\\pymongo\\cursor.py\u001b[0m in \u001b[0;36m_refresh\u001b[1;34m(self)\u001b[0m\n\u001b[0;32m   1098\u001b[0m \u001b[1;33m\u001b[0m\u001b[0m\n\u001b[0;32m   1099\u001b[0m         \u001b[1;32mif\u001b[0m \u001b[1;32mnot\u001b[0m \u001b[0mself\u001b[0m\u001b[1;33m.\u001b[0m\u001b[0m__session\u001b[0m\u001b[1;33m:\u001b[0m\u001b[1;33m\u001b[0m\u001b[1;33m\u001b[0m\u001b[0m\n\u001b[1;32m-> 1100\u001b[1;33m             \u001b[0mself\u001b[0m\u001b[1;33m.\u001b[0m\u001b[0m__session\u001b[0m \u001b[1;33m=\u001b[0m \u001b[0mself\u001b[0m\u001b[1;33m.\u001b[0m\u001b[0m__collection\u001b[0m\u001b[1;33m.\u001b[0m\u001b[0mdatabase\u001b[0m\u001b[1;33m.\u001b[0m\u001b[0mclient\u001b[0m\u001b[1;33m.\u001b[0m\u001b[0m_ensure_session\u001b[0m\u001b[1;33m(\u001b[0m\u001b[1;33m)\u001b[0m\u001b[1;33m\u001b[0m\u001b[1;33m\u001b[0m\u001b[0m\n\u001b[0m\u001b[0;32m   1101\u001b[0m \u001b[1;33m\u001b[0m\u001b[0m\n\u001b[0;32m   1102\u001b[0m         \u001b[1;32mif\u001b[0m \u001b[0mself\u001b[0m\u001b[1;33m.\u001b[0m\u001b[0m__id\u001b[0m \u001b[1;32mis\u001b[0m \u001b[1;32mNone\u001b[0m\u001b[1;33m:\u001b[0m  \u001b[1;31m# Query\u001b[0m\u001b[1;33m\u001b[0m\u001b[1;33m\u001b[0m\u001b[0m\n",
      "\u001b[1;32m~\\AppData\\Roaming\\Python\\Python38\\site-packages\\pymongo\\mongo_client.py\u001b[0m in \u001b[0;36m_ensure_session\u001b[1;34m(self, session)\u001b[0m\n\u001b[0;32m   1814\u001b[0m             \u001b[1;31m# Don't make implicit sessions causally consistent. Applications\u001b[0m\u001b[1;33m\u001b[0m\u001b[1;33m\u001b[0m\u001b[1;33m\u001b[0m\u001b[0m\n\u001b[0;32m   1815\u001b[0m             \u001b[1;31m# should always opt-in.\u001b[0m\u001b[1;33m\u001b[0m\u001b[1;33m\u001b[0m\u001b[1;33m\u001b[0m\u001b[0m\n\u001b[1;32m-> 1816\u001b[1;33m             \u001b[1;32mreturn\u001b[0m \u001b[0mself\u001b[0m\u001b[1;33m.\u001b[0m\u001b[0m__start_session\u001b[0m\u001b[1;33m(\u001b[0m\u001b[1;32mTrue\u001b[0m\u001b[1;33m,\u001b[0m \u001b[0mcausal_consistency\u001b[0m\u001b[1;33m=\u001b[0m\u001b[1;32mFalse\u001b[0m\u001b[1;33m)\u001b[0m\u001b[1;33m\u001b[0m\u001b[1;33m\u001b[0m\u001b[0m\n\u001b[0m\u001b[0;32m   1817\u001b[0m         \u001b[1;32mexcept\u001b[0m \u001b[1;33m(\u001b[0m\u001b[0mConfigurationError\u001b[0m\u001b[1;33m,\u001b[0m \u001b[0mInvalidOperation\u001b[0m\u001b[1;33m)\u001b[0m\u001b[1;33m:\u001b[0m\u001b[1;33m\u001b[0m\u001b[1;33m\u001b[0m\u001b[0m\n\u001b[0;32m   1818\u001b[0m             \u001b[1;31m# Sessions not supported, or multiple users authenticated.\u001b[0m\u001b[1;33m\u001b[0m\u001b[1;33m\u001b[0m\u001b[1;33m\u001b[0m\u001b[0m\n",
      "\u001b[1;32m~\\AppData\\Roaming\\Python\\Python38\\site-packages\\pymongo\\mongo_client.py\u001b[0m in \u001b[0;36m__start_session\u001b[1;34m(self, implicit, **kwargs)\u001b[0m\n\u001b[0;32m   1764\u001b[0m \u001b[1;33m\u001b[0m\u001b[0m\n\u001b[0;32m   1765\u001b[0m         \u001b[1;31m# Raises ConfigurationError if sessions are not supported.\u001b[0m\u001b[1;33m\u001b[0m\u001b[1;33m\u001b[0m\u001b[1;33m\u001b[0m\u001b[0m\n\u001b[1;32m-> 1766\u001b[1;33m         \u001b[0mserver_session\u001b[0m \u001b[1;33m=\u001b[0m \u001b[0mself\u001b[0m\u001b[1;33m.\u001b[0m\u001b[0m_get_server_session\u001b[0m\u001b[1;33m(\u001b[0m\u001b[1;33m)\u001b[0m\u001b[1;33m\u001b[0m\u001b[1;33m\u001b[0m\u001b[0m\n\u001b[0m\u001b[0;32m   1767\u001b[0m         \u001b[0mopts\u001b[0m \u001b[1;33m=\u001b[0m \u001b[0mclient_session\u001b[0m\u001b[1;33m.\u001b[0m\u001b[0mSessionOptions\u001b[0m\u001b[1;33m(\u001b[0m\u001b[1;33m**\u001b[0m\u001b[0mkwargs\u001b[0m\u001b[1;33m)\u001b[0m\u001b[1;33m\u001b[0m\u001b[1;33m\u001b[0m\u001b[0m\n\u001b[0;32m   1768\u001b[0m         return client_session.ClientSession(\n",
      "\u001b[1;32m~\\AppData\\Roaming\\Python\\Python38\\site-packages\\pymongo\\mongo_client.py\u001b[0m in \u001b[0;36m_get_server_session\u001b[1;34m(self)\u001b[0m\n\u001b[0;32m   1800\u001b[0m     \u001b[1;32mdef\u001b[0m \u001b[0m_get_server_session\u001b[0m\u001b[1;33m(\u001b[0m\u001b[0mself\u001b[0m\u001b[1;33m)\u001b[0m\u001b[1;33m:\u001b[0m\u001b[1;33m\u001b[0m\u001b[1;33m\u001b[0m\u001b[0m\n\u001b[0;32m   1801\u001b[0m         \u001b[1;34m\"\"\"Internal: start or resume a _ServerSession.\"\"\"\u001b[0m\u001b[1;33m\u001b[0m\u001b[1;33m\u001b[0m\u001b[0m\n\u001b[1;32m-> 1802\u001b[1;33m         \u001b[1;32mreturn\u001b[0m \u001b[0mself\u001b[0m\u001b[1;33m.\u001b[0m\u001b[0m_topology\u001b[0m\u001b[1;33m.\u001b[0m\u001b[0mget_server_session\u001b[0m\u001b[1;33m(\u001b[0m\u001b[1;33m)\u001b[0m\u001b[1;33m\u001b[0m\u001b[1;33m\u001b[0m\u001b[0m\n\u001b[0m\u001b[0;32m   1803\u001b[0m \u001b[1;33m\u001b[0m\u001b[0m\n\u001b[0;32m   1804\u001b[0m     \u001b[1;32mdef\u001b[0m \u001b[0m_return_server_session\u001b[0m\u001b[1;33m(\u001b[0m\u001b[0mself\u001b[0m\u001b[1;33m,\u001b[0m \u001b[0mserver_session\u001b[0m\u001b[1;33m,\u001b[0m \u001b[0mlock\u001b[0m\u001b[1;33m)\u001b[0m\u001b[1;33m:\u001b[0m\u001b[1;33m\u001b[0m\u001b[1;33m\u001b[0m\u001b[0m\n",
      "\u001b[1;32m~\\AppData\\Roaming\\Python\\Python38\\site-packages\\pymongo\\topology.py\u001b[0m in \u001b[0;36mget_server_session\u001b[1;34m(self)\u001b[0m\n\u001b[0;32m    483\u001b[0m                 \u001b[1;32mif\u001b[0m \u001b[0mself\u001b[0m\u001b[1;33m.\u001b[0m\u001b[0m_description\u001b[0m\u001b[1;33m.\u001b[0m\u001b[0mtopology_type\u001b[0m \u001b[1;33m==\u001b[0m \u001b[0mTOPOLOGY_TYPE\u001b[0m\u001b[1;33m.\u001b[0m\u001b[0mSingle\u001b[0m\u001b[1;33m:\u001b[0m\u001b[1;33m\u001b[0m\u001b[1;33m\u001b[0m\u001b[0m\n\u001b[0;32m    484\u001b[0m                     \u001b[1;32mif\u001b[0m \u001b[1;32mnot\u001b[0m \u001b[0mself\u001b[0m\u001b[1;33m.\u001b[0m\u001b[0m_description\u001b[0m\u001b[1;33m.\u001b[0m\u001b[0mhas_known_servers\u001b[0m\u001b[1;33m:\u001b[0m\u001b[1;33m\u001b[0m\u001b[1;33m\u001b[0m\u001b[0m\n\u001b[1;32m--> 485\u001b[1;33m                         self._select_servers_loop(\n\u001b[0m\u001b[0;32m    486\u001b[0m                             \u001b[0many_server_selector\u001b[0m\u001b[1;33m,\u001b[0m\u001b[1;33m\u001b[0m\u001b[1;33m\u001b[0m\u001b[0m\n\u001b[0;32m    487\u001b[0m                             \u001b[0mself\u001b[0m\u001b[1;33m.\u001b[0m\u001b[0m_settings\u001b[0m\u001b[1;33m.\u001b[0m\u001b[0mserver_selection_timeout\u001b[0m\u001b[1;33m,\u001b[0m\u001b[1;33m\u001b[0m\u001b[1;33m\u001b[0m\u001b[0m\n",
      "\u001b[1;32m~\\AppData\\Roaming\\Python\\Python38\\site-packages\\pymongo\\topology.py\u001b[0m in \u001b[0;36m_select_servers_loop\u001b[1;34m(self, selector, timeout, address)\u001b[0m\n\u001b[0;32m    213\u001b[0m             \u001b[1;31m# No suitable servers.\u001b[0m\u001b[1;33m\u001b[0m\u001b[1;33m\u001b[0m\u001b[1;33m\u001b[0m\u001b[0m\n\u001b[0;32m    214\u001b[0m             \u001b[1;32mif\u001b[0m \u001b[0mtimeout\u001b[0m \u001b[1;33m==\u001b[0m \u001b[1;36m0\u001b[0m \u001b[1;32mor\u001b[0m \u001b[0mnow\u001b[0m \u001b[1;33m>\u001b[0m \u001b[0mend_time\u001b[0m\u001b[1;33m:\u001b[0m\u001b[1;33m\u001b[0m\u001b[1;33m\u001b[0m\u001b[0m\n\u001b[1;32m--> 215\u001b[1;33m                 raise ServerSelectionTimeoutError(\n\u001b[0m\u001b[0;32m    216\u001b[0m                     \u001b[1;34m\"%s, Timeout: %ss, Topology Description: %r\"\u001b[0m \u001b[1;33m%\u001b[0m\u001b[1;33m\u001b[0m\u001b[1;33m\u001b[0m\u001b[0m\n\u001b[0;32m    217\u001b[0m                     (self._error_message(selector), timeout, self.description))\n",
      "\u001b[1;31mServerSelectionTimeoutError\u001b[0m: localhost:27017: [WinError 10061] Aucune connexion n’a pu être établie car l’ordinateur cible l’a expressément refusée, Timeout: 30s, Topology Description: <TopologyDescription id: 601aab415d1f038194632aaf, topology_type: Single, servers: [<ServerDescription ('localhost', 27017) server_type: Unknown, rtt: None, error=AutoReconnect('localhost:27017: [WinError 10061] Aucune connexion n’a pu être établie car l’ordinateur cible l’a expressément refusée')>]>"
     ]
    }
   ],
   "source": [
    "aegisships = db.shipss.find({\"constructeur\": \"AEGIS\"})\n",
    "print(\"vaisseaux AEGIS!\")\n",
    "compteur = 0\n",
    "for ship in aegisships:\n",
    "    pprint(ship)\n",
    "    print(\"vaisseau \" + compteur)"
   ]
  },
  {
   "cell_type": "code",
   "execution_count": 9,
   "metadata": {},
   "outputs": [
    {
     "output_type": "error",
     "ename": "ServerSelectionTimeoutError",
     "evalue": "localhost:27017: [WinError 10061] Aucune connexion n’a pu être établie car l’ordinateur cible l’a expressément refusée, Timeout: 30s, Topology Description: <TopologyDescription id: 601aab415d1f038194632aaf, topology_type: Single, servers: [<ServerDescription ('localhost', 27017) server_type: Unknown, rtt: None, error=AutoReconnect('localhost:27017: [WinError 10061] Aucune connexion n’a pu être établie car l’ordinateur cible l’a expressément refusée')>]>",
     "traceback": [
      "\u001b[1;31m---------------------------------------------------------------------------\u001b[0m",
      "\u001b[1;31mServerSelectionTimeoutError\u001b[0m               Traceback (most recent call last)",
      "\u001b[1;32m<ipython-input-9-f0b7441f4f82>\u001b[0m in \u001b[0;36m<module>\u001b[1;34m\u001b[0m\n\u001b[1;32m----> 1\u001b[1;33m \u001b[0mdb\u001b[0m\u001b[1;33m.\u001b[0m\u001b[0mships\u001b[0m\u001b[1;33m.\u001b[0m\u001b[0mdrop\u001b[0m\u001b[1;33m(\u001b[0m\u001b[1;33m)\u001b[0m\u001b[1;33m\u001b[0m\u001b[1;33m\u001b[0m\u001b[0m\n\u001b[0m\u001b[0;32m      2\u001b[0m \u001b[1;33m\u001b[0m\u001b[0m\n\u001b[0;32m      3\u001b[0m \u001b[1;32mwith\u001b[0m \u001b[0mopen\u001b[0m\u001b[1;33m(\u001b[0m\u001b[1;34m'vaisseau.json'\u001b[0m\u001b[1;33m)\u001b[0m \u001b[1;32mas\u001b[0m \u001b[0mf\u001b[0m\u001b[1;33m:\u001b[0m\u001b[1;33m\u001b[0m\u001b[1;33m\u001b[0m\u001b[0m\n\u001b[0;32m      4\u001b[0m     \u001b[0mfile_data\u001b[0m \u001b[1;33m=\u001b[0m \u001b[0mjson\u001b[0m\u001b[1;33m.\u001b[0m\u001b[0mload\u001b[0m\u001b[1;33m(\u001b[0m\u001b[0mf\u001b[0m\u001b[1;33m)\u001b[0m\u001b[1;33m\u001b[0m\u001b[1;33m\u001b[0m\u001b[0m\n\u001b[0;32m      5\u001b[0m \u001b[1;33m\u001b[0m\u001b[0m\n",
      "\u001b[1;32m~\\AppData\\Roaming\\Python\\Python38\\site-packages\\pymongo\\collection.py\u001b[0m in \u001b[0;36mdrop\u001b[1;34m(self, session)\u001b[0m\n\u001b[0;32m   1125\u001b[0m             \u001b[0mself\u001b[0m\u001b[1;33m.\u001b[0m\u001b[0mwrite_concern\u001b[0m\u001b[1;33m,\u001b[0m\u001b[1;33m\u001b[0m\u001b[1;33m\u001b[0m\u001b[0m\n\u001b[0;32m   1126\u001b[0m             self.read_concern)\n\u001b[1;32m-> 1127\u001b[1;33m         \u001b[0mdbo\u001b[0m\u001b[1;33m.\u001b[0m\u001b[0mdrop_collection\u001b[0m\u001b[1;33m(\u001b[0m\u001b[0mself\u001b[0m\u001b[1;33m.\u001b[0m\u001b[0m__name\u001b[0m\u001b[1;33m,\u001b[0m \u001b[0msession\u001b[0m\u001b[1;33m=\u001b[0m\u001b[0msession\u001b[0m\u001b[1;33m)\u001b[0m\u001b[1;33m\u001b[0m\u001b[1;33m\u001b[0m\u001b[0m\n\u001b[0m\u001b[0;32m   1128\u001b[0m \u001b[1;33m\u001b[0m\u001b[0m\n\u001b[0;32m   1129\u001b[0m     def _delete(\n",
      "\u001b[1;32m~\\AppData\\Roaming\\Python\\Python38\\site-packages\\pymongo\\database.py\u001b[0m in \u001b[0;36mdrop_collection\u001b[1;34m(self, name_or_collection, session)\u001b[0m\n\u001b[0;32m    919\u001b[0m         \u001b[0mself\u001b[0m\u001b[1;33m.\u001b[0m\u001b[0m__client\u001b[0m\u001b[1;33m.\u001b[0m\u001b[0m_purge_index\u001b[0m\u001b[1;33m(\u001b[0m\u001b[0mself\u001b[0m\u001b[1;33m.\u001b[0m\u001b[0m__name\u001b[0m\u001b[1;33m,\u001b[0m \u001b[0mname\u001b[0m\u001b[1;33m)\u001b[0m\u001b[1;33m\u001b[0m\u001b[1;33m\u001b[0m\u001b[0m\n\u001b[0;32m    920\u001b[0m \u001b[1;33m\u001b[0m\u001b[0m\n\u001b[1;32m--> 921\u001b[1;33m         \u001b[1;32mwith\u001b[0m \u001b[0mself\u001b[0m\u001b[1;33m.\u001b[0m\u001b[0m__client\u001b[0m\u001b[1;33m.\u001b[0m\u001b[0m_socket_for_writes\u001b[0m\u001b[1;33m(\u001b[0m\u001b[0msession\u001b[0m\u001b[1;33m)\u001b[0m \u001b[1;32mas\u001b[0m \u001b[0msock_info\u001b[0m\u001b[1;33m:\u001b[0m\u001b[1;33m\u001b[0m\u001b[1;33m\u001b[0m\u001b[0m\n\u001b[0m\u001b[0;32m    922\u001b[0m             return self._command(\n\u001b[0;32m    923\u001b[0m                 \u001b[0msock_info\u001b[0m\u001b[1;33m,\u001b[0m \u001b[1;34m'drop'\u001b[0m\u001b[1;33m,\u001b[0m \u001b[0mvalue\u001b[0m\u001b[1;33m=\u001b[0m\u001b[0m_unicode\u001b[0m\u001b[1;33m(\u001b[0m\u001b[0mname\u001b[0m\u001b[1;33m)\u001b[0m\u001b[1;33m,\u001b[0m\u001b[1;33m\u001b[0m\u001b[1;33m\u001b[0m\u001b[0m\n",
      "\u001b[1;32m~\\AppData\\Roaming\\Python\\Python38\\site-packages\\pymongo\\mongo_client.py\u001b[0m in \u001b[0;36m_socket_for_writes\u001b[1;34m(self, session)\u001b[0m\n\u001b[0;32m   1291\u001b[0m \u001b[1;33m\u001b[0m\u001b[0m\n\u001b[0;32m   1292\u001b[0m     \u001b[1;32mdef\u001b[0m \u001b[0m_socket_for_writes\u001b[0m\u001b[1;33m(\u001b[0m\u001b[0mself\u001b[0m\u001b[1;33m,\u001b[0m \u001b[0msession\u001b[0m\u001b[1;33m)\u001b[0m\u001b[1;33m:\u001b[0m\u001b[1;33m\u001b[0m\u001b[1;33m\u001b[0m\u001b[0m\n\u001b[1;32m-> 1293\u001b[1;33m         \u001b[0mserver\u001b[0m \u001b[1;33m=\u001b[0m \u001b[0mself\u001b[0m\u001b[1;33m.\u001b[0m\u001b[0m_select_server\u001b[0m\u001b[1;33m(\u001b[0m\u001b[0mwritable_server_selector\u001b[0m\u001b[1;33m,\u001b[0m \u001b[0msession\u001b[0m\u001b[1;33m)\u001b[0m\u001b[1;33m\u001b[0m\u001b[1;33m\u001b[0m\u001b[0m\n\u001b[0m\u001b[0;32m   1294\u001b[0m         \u001b[1;32mreturn\u001b[0m \u001b[0mself\u001b[0m\u001b[1;33m.\u001b[0m\u001b[0m_get_socket\u001b[0m\u001b[1;33m(\u001b[0m\u001b[0mserver\u001b[0m\u001b[1;33m,\u001b[0m \u001b[0msession\u001b[0m\u001b[1;33m)\u001b[0m\u001b[1;33m\u001b[0m\u001b[1;33m\u001b[0m\u001b[0m\n\u001b[0;32m   1295\u001b[0m \u001b[1;33m\u001b[0m\u001b[0m\n",
      "\u001b[1;32m~\\AppData\\Roaming\\Python\\Python38\\site-packages\\pymongo\\mongo_client.py\u001b[0m in \u001b[0;36m_select_server\u001b[1;34m(self, server_selector, session, address)\u001b[0m\n\u001b[0;32m   1276\u001b[0m                                         % address)\n\u001b[0;32m   1277\u001b[0m             \u001b[1;32melse\u001b[0m\u001b[1;33m:\u001b[0m\u001b[1;33m\u001b[0m\u001b[1;33m\u001b[0m\u001b[0m\n\u001b[1;32m-> 1278\u001b[1;33m                 \u001b[0mserver\u001b[0m \u001b[1;33m=\u001b[0m \u001b[0mtopology\u001b[0m\u001b[1;33m.\u001b[0m\u001b[0mselect_server\u001b[0m\u001b[1;33m(\u001b[0m\u001b[0mserver_selector\u001b[0m\u001b[1;33m)\u001b[0m\u001b[1;33m\u001b[0m\u001b[1;33m\u001b[0m\u001b[0m\n\u001b[0m\u001b[0;32m   1279\u001b[0m                 \u001b[1;31m# Pin this session to the selected server if it's performing a\u001b[0m\u001b[1;33m\u001b[0m\u001b[1;33m\u001b[0m\u001b[1;33m\u001b[0m\u001b[0m\n\u001b[0;32m   1280\u001b[0m                 \u001b[1;31m# sharded transaction.\u001b[0m\u001b[1;33m\u001b[0m\u001b[1;33m\u001b[0m\u001b[1;33m\u001b[0m\u001b[0m\n",
      "\u001b[1;32m~\\AppData\\Roaming\\Python\\Python38\\site-packages\\pymongo\\topology.py\u001b[0m in \u001b[0;36mselect_server\u001b[1;34m(self, selector, server_selection_timeout, address)\u001b[0m\n\u001b[0;32m    239\u001b[0m                       address=None):\n\u001b[0;32m    240\u001b[0m         \u001b[1;34m\"\"\"Like select_servers, but choose a random server if several match.\"\"\"\u001b[0m\u001b[1;33m\u001b[0m\u001b[1;33m\u001b[0m\u001b[0m\n\u001b[1;32m--> 241\u001b[1;33m         return random.choice(self.select_servers(selector,\n\u001b[0m\u001b[0;32m    242\u001b[0m                                                  \u001b[0mserver_selection_timeout\u001b[0m\u001b[1;33m,\u001b[0m\u001b[1;33m\u001b[0m\u001b[1;33m\u001b[0m\u001b[0m\n\u001b[0;32m    243\u001b[0m                                                  address))\n",
      "\u001b[1;32m~\\AppData\\Roaming\\Python\\Python38\\site-packages\\pymongo\\topology.py\u001b[0m in \u001b[0;36mselect_servers\u001b[1;34m(self, selector, server_selection_timeout, address)\u001b[0m\n\u001b[0;32m    197\u001b[0m \u001b[1;33m\u001b[0m\u001b[0m\n\u001b[0;32m    198\u001b[0m         \u001b[1;32mwith\u001b[0m \u001b[0mself\u001b[0m\u001b[1;33m.\u001b[0m\u001b[0m_lock\u001b[0m\u001b[1;33m:\u001b[0m\u001b[1;33m\u001b[0m\u001b[1;33m\u001b[0m\u001b[0m\n\u001b[1;32m--> 199\u001b[1;33m             server_descriptions = self._select_servers_loop(\n\u001b[0m\u001b[0;32m    200\u001b[0m                 selector, server_timeout, address)\n\u001b[0;32m    201\u001b[0m \u001b[1;33m\u001b[0m\u001b[0m\n",
      "\u001b[1;32m~\\AppData\\Roaming\\Python\\Python38\\site-packages\\pymongo\\topology.py\u001b[0m in \u001b[0;36m_select_servers_loop\u001b[1;34m(self, selector, timeout, address)\u001b[0m\n\u001b[0;32m    213\u001b[0m             \u001b[1;31m# No suitable servers.\u001b[0m\u001b[1;33m\u001b[0m\u001b[1;33m\u001b[0m\u001b[1;33m\u001b[0m\u001b[0m\n\u001b[0;32m    214\u001b[0m             \u001b[1;32mif\u001b[0m \u001b[0mtimeout\u001b[0m \u001b[1;33m==\u001b[0m \u001b[1;36m0\u001b[0m \u001b[1;32mor\u001b[0m \u001b[0mnow\u001b[0m \u001b[1;33m>\u001b[0m \u001b[0mend_time\u001b[0m\u001b[1;33m:\u001b[0m\u001b[1;33m\u001b[0m\u001b[1;33m\u001b[0m\u001b[0m\n\u001b[1;32m--> 215\u001b[1;33m                 raise ServerSelectionTimeoutError(\n\u001b[0m\u001b[0;32m    216\u001b[0m                     \u001b[1;34m\"%s, Timeout: %ss, Topology Description: %r\"\u001b[0m \u001b[1;33m%\u001b[0m\u001b[1;33m\u001b[0m\u001b[1;33m\u001b[0m\u001b[0m\n\u001b[0;32m    217\u001b[0m                     (self._error_message(selector), timeout, self.description))\n",
      "\u001b[1;31mServerSelectionTimeoutError\u001b[0m: localhost:27017: [WinError 10061] Aucune connexion n’a pu être établie car l’ordinateur cible l’a expressément refusée, Timeout: 30s, Topology Description: <TopologyDescription id: 601aab415d1f038194632aaf, topology_type: Single, servers: [<ServerDescription ('localhost', 27017) server_type: Unknown, rtt: None, error=AutoReconnect('localhost:27017: [WinError 10061] Aucune connexion n’a pu être établie car l’ordinateur cible l’a expressément refusée')>]>"
     ]
    }
   ],
   "source": [
    "db.ships.drop()\n",
    "\n",
    "with open('vaisseau.json') as f:\n",
    "    file_data = json.load(f)\n",
    "\n",
    "ships.insert_one(file_data)\n",
    "\n",
    "allships = ships.find()\n",
    "print(\"Tout les vaisseaus!\")\n",
    "for ship in allships:\n",
    "    pprint(ship)"
   ]
  },
  {
   "cell_type": "code",
   "execution_count": null,
   "metadata": {},
   "outputs": [],
   "source": [
    "print(\"Tout les vaisseaus!\")"
   ]
  },
  {
   "cell_type": "code",
   "execution_count": 11,
   "metadata": {},
   "outputs": [
    {
     "output_type": "stream",
     "name": "stdout",
     "text": [
      "Tout les vaisseaus!\n{'_id': ObjectId('601aad175d1f038194632ab0'),\n 'vaisseau': [{'constructeur': 'Anvil Aerospace',\n               'hauteur': 22,\n               'largeur': 6,\n               'masse': 73535,\n               'nom': 'F7C HORNET',\n               'prix': 150,\n               'role': 'Medium Fighter'},\n              {'constructeur': 'RSI',\n               'hauteur': 61,\n               'largeur': 14,\n               'masse': 439108,\n               'nom': 'CONSTELLATION AQUILA',\n               'prix': 372,\n               'role': 'Expedition'},\n              {'constructeur': 'RSI',\n               'hauteur': 18,\n               'largeur': 4,\n               'masse': 25172,\n               'nom': 'AURORA ES',\n               'prix': 24,\n               'role': 'Starter/Pathfinder'},\n              {'constructeur': 'RSI',\n               'hauteur': 30,\n               'largeur': 8,\n               'masse': 225621,\n               'nom': 'MANTIS',\n               'prix': 180,\n               'role': 'Military, Stealth'},\n              {'constructeur': 'RSI',\n               'hauteur': 61,\n               'largeur': 14,\n               'masse': 416009,\n               'nom': 'CONSTELLATION TAURUS',\n               'prix': 180,\n               'role': 'Medium Freight'},\n              {'constructeur': 'RSI',\n               'hauteur': 61,\n               'largeur': 14,\n               'masse': 439108,\n               'nom': 'CONSTELLATION AQUILA',\n               'prix': 372,\n               'role': 'Expedition'},\n              {'constructeur': 'RSI',\n               'hauteur': 61,\n               'largeur': 14,\n               'masse': 419850,\n               'nom': 'CONSTELLATION ANDROMEDA',\n               'prix': 330,\n               'role': 'Medium Freight / Gun Ship'},\n              {'constructeur': 'Origin',\n               'hauteur': 27,\n               'largeur': 8,\n               'masse': 66320,\n               'nom': '3001',\n               'prix': 72,\n               'role': 'Touring'},\n              {'constructeur': 'Drake',\n               'hauteur': 29,\n               'largeur': 10,\n               'masse': 226700,\n               'nom': 'CUTLASS BLACK',\n               'prix': 138,\n               'role': 'Medium Fighter / Medium Freight'},\n              {'constructeur': 'AEGIS',\n               'hauteur': 22,\n               'largeur': 5,\n               'masse': 50056,\n               'nom': 'AVENGER TITAN',\n               'prix': 84,\n               'role': 'Light Freight'},\n              {'constructeur': 'AEGIS',\n               'hauteur': 20,\n               'largeur': 5,\n               'masse': 48958,\n               'nom': 'GLADIUS',\n               'prix': 108,\n               'role': 'Light Fighter'},\n              {'constructeur': 'Anvil Aerospace',\n               'hauteur': 19,\n               'largeur': 6,\n               'masse': 86454,\n               'nom': 'TERRAPIN',\n               'prix': 1320,\n               'role': 'Pathfinder'},\n              {'constructeur': 'Anvil Aerospace',\n               'hauteur': 126,\n               'largeur': 36,\n               'masse': 4397858,\n               'nom': 'CARRACK EXPEDITION',\n               'prix': 1320,\n               'role': 'Expedition'},\n              {'constructeur': 'Anvil Aerospace',\n               'hauteur': 16,\n               'largeur': 4,\n               'masse': 30752,\n               'nom': 'ARROW',\n               'prix': 108,\n               'role': 'Light Fighter'},\n              {'constructeur': 'AEGIS',\n               'hauteur': 37,\n               'largeur': 11,\n               'masse': 120380,\n               'nom': 'REDEEMER',\n               'prix': 530,\n               'role': 'Gunship'},\n              {'constructeur': 'AEGIS',\n               'hauteur': 480,\n               'largeur': 72,\n               'masse': 109860179,\n               'nom': 'JAVELIN',\n               'prix': 1240,\n               'role': 'Destroyer'},\n              {'constructeur': 'AEGIS',\n               'hauteur': 125,\n               'largeur': 21,\n               'masse': 34567,\n               'nom': 'NAUTILUS',\n               'prix': 1240,\n               'role': 'Minelayer'},\n              {'constructeur': 'AEGIS',\n               'hauteur': 38,\n               'largeur': 10,\n               'masse': 625330,\n               'nom': 'VULCAN',\n               'prix': 134,\n               'role': 'Medium Repair / Medium Refuel'},\n              {'constructeur': 'ORIGIN',\n               'hauteur': 5,\n               'largeur': 1,\n               'masse': 1610,\n               'nom': 'X1 BASE',\n               'prix': 50,\n               'role': 'Touring'},\n              {'constructeur': 'Anvil Aerospace',\n               'hauteur': 17,\n               'largeur': 6,\n               'masse': 40000,\n               'nom': 'HAWK',\n               'prix': 650,\n               'role': 'Light Fighter'},\n              {'constructeur': 'Anvil Aerospace',\n               'hauteur': 90,\n               'largeur': 20,\n               'masse': 3650500,\n               'nom': 'CRUCIBLE',\n               'prix': 1800,\n               'role': 'Heavy Repair'},\n              {'constructeur': 'Anvil Aerospace',\n               'hauteur': 38,\n               'largeur': 9,\n               'masse': 56000,\n               'nom': 'VALKYRIE',\n               'prix': 650,\n               'role': 'Military, Industrial'},\n              {'constructeur': 'RSI',\n               'hauteur': 155,\n               'largeur': 35,\n               'masse': 17155000,\n               'nom': 'POLARIS',\n               'prix': 1790,\n               'role': 'Corvette'},\n              {'constructeur': 'RSI',\n               'hauteur': 170,\n               'largeur': 50,\n               'masse': 26496000,\n               'nom': 'ORION',\n               'prix': 780,\n               'role': 'Heavy Mining'},\n              {'constructeur': 'Drake',\n               'hauteur': 23,\n               'largeur': 9,\n               'masse': 64001,\n               'nom': 'HERALD',\n               'prix': 650,\n               'role': 'Medium data'},\n              {'constructeur': 'Drake',\n               'hauteur': 55,\n               'largeur': 31,\n               'masse': 45000,\n               'nom': 'CORSAIR',\n               'prix': 780,\n               'role': 'Exploration'},\n              {'constructeur': 'DRAKE',\n               'hauteur': 33,\n               'largeur': 9,\n               'masse': 55000,\n               'nom': 'VULTURE',\n               'prix': 549,\n               'role': 'Light Salvage'},\n              {'constructeur': 'Drake',\n               'hauteur': 111,\n               'largeur': 13,\n               'masse': 1608205,\n               'nom': 'CATERPILLAR',\n               'prix': 1200,\n               'role': 'Transport'},\n              {'constructeur': 'Drake',\n               'hauteur': 270,\n               'largeur': 64,\n               'masse': 37000,\n               'nom': 'KRAKEN',\n               'prix': 1450,\n               'role': 'Multi-Role - Light Carrier'},\n              {'constructeur': 'AEGIS',\n               'hauteur': 20,\n               'largeur': 4,\n               'masse': 54216,\n               'nom': 'ECLIPSE',\n               'prix': 490,\n               'role': 'Stealth Bomber'}]}\n"
     ]
    }
   ],
   "source": [
    "db.ships.drop()\n",
    "\n",
    "with open('vaisseau.json') as f:\n",
    "    file_data = json.load(f)\n",
    "\n",
    "ships.insert_one(file_data)\n",
    "\n",
    "allships = ships.find()\n",
    "print(\"Tout les vaisseaus!\")\n",
    "for ship in allships:\n",
    "    pprint(ship)"
   ]
  },
  {
   "cell_type": "code",
   "execution_count": 12,
   "metadata": {},
   "outputs": [
    {
     "output_type": "stream",
     "name": "stdout",
     "text": [
      "vaisseaux AEGIS!\n"
     ]
    }
   ],
   "source": [
    "aegisships = db.ships.find({\"constructeur\": \"AEGIS\"})\n",
    "print(\"vaisseaux AEGIS!\")\n",
    "compteur = 0\n",
    "for ship in aegisships:\n",
    "    pprint(ship)\n",
    "    print(\"vaisseau \" + compteur)"
   ]
  },
  {
   "cell_type": "code",
   "execution_count": 13,
   "metadata": {},
   "outputs": [
    {
     "output_type": "stream",
     "name": "stdout",
     "text": [
      "vaisseau \n"
     ]
    }
   ],
   "source": [
    "print(\"vaisseau \")"
   ]
  },
  {
   "cell_type": "code",
   "execution_count": 14,
   "metadata": {},
   "outputs": [
    {
     "output_type": "stream",
     "name": "stdout",
     "text": [
      "vaisseaux AEGIS!\n"
     ]
    }
   ],
   "source": [
    "aegisships = db.ships.find({\"constructeur\": \"AEGIS\"})\n",
    "print(\"vaisseaux AEGIS!\")\n",
    "compteur = 0\n",
    "for ship in aegisships:\n",
    "    pprint(ship)\n",
    "    print(\"vaisseau \" + compteur)"
   ]
  },
  {
   "cell_type": "code",
   "execution_count": 15,
   "metadata": {},
   "outputs": [
    {
     "output_type": "stream",
     "name": "stdout",
     "text": [
      "vaisseaux AEGIS!\n{'_id': ObjectId('601aad175d1f038194632ab0'),\n 'vaisseau': [{'constructeur': 'Anvil Aerospace',\n               'hauteur': 22,\n               'largeur': 6,\n               'masse': 73535,\n               'nom': 'F7C HORNET',\n               'prix': 150,\n               'role': 'Medium Fighter'},\n              {'constructeur': 'RSI',\n               'hauteur': 61,\n               'largeur': 14,\n               'masse': 439108,\n               'nom': 'CONSTELLATION AQUILA',\n               'prix': 372,\n               'role': 'Expedition'},\n              {'constructeur': 'RSI',\n               'hauteur': 18,\n               'largeur': 4,\n               'masse': 25172,\n               'nom': 'AURORA ES',\n               'prix': 24,\n               'role': 'Starter/Pathfinder'},\n              {'constructeur': 'RSI',\n               'hauteur': 30,\n               'largeur': 8,\n               'masse': 225621,\n               'nom': 'MANTIS',\n               'prix': 180,\n               'role': 'Military, Stealth'},\n              {'constructeur': 'RSI',\n               'hauteur': 61,\n               'largeur': 14,\n               'masse': 416009,\n               'nom': 'CONSTELLATION TAURUS',\n               'prix': 180,\n               'role': 'Medium Freight'},\n              {'constructeur': 'RSI',\n               'hauteur': 61,\n               'largeur': 14,\n               'masse': 439108,\n               'nom': 'CONSTELLATION AQUILA',\n               'prix': 372,\n               'role': 'Expedition'},\n              {'constructeur': 'RSI',\n               'hauteur': 61,\n               'largeur': 14,\n               'masse': 419850,\n               'nom': 'CONSTELLATION ANDROMEDA',\n               'prix': 330,\n               'role': 'Medium Freight / Gun Ship'},\n              {'constructeur': 'Origin',\n               'hauteur': 27,\n               'largeur': 8,\n               'masse': 66320,\n               'nom': '3001',\n               'prix': 72,\n               'role': 'Touring'},\n              {'constructeur': 'Drake',\n               'hauteur': 29,\n               'largeur': 10,\n               'masse': 226700,\n               'nom': 'CUTLASS BLACK',\n               'prix': 138,\n               'role': 'Medium Fighter / Medium Freight'},\n              {'constructeur': 'AEGIS',\n               'hauteur': 22,\n               'largeur': 5,\n               'masse': 50056,\n               'nom': 'AVENGER TITAN',\n               'prix': 84,\n               'role': 'Light Freight'},\n              {'constructeur': 'AEGIS',\n               'hauteur': 20,\n               'largeur': 5,\n               'masse': 48958,\n               'nom': 'GLADIUS',\n               'prix': 108,\n               'role': 'Light Fighter'},\n              {'constructeur': 'Anvil Aerospace',\n               'hauteur': 19,\n               'largeur': 6,\n               'masse': 86454,\n               'nom': 'TERRAPIN',\n               'prix': 1320,\n               'role': 'Pathfinder'},\n              {'constructeur': 'Anvil Aerospace',\n               'hauteur': 126,\n               'largeur': 36,\n               'masse': 4397858,\n               'nom': 'CARRACK EXPEDITION',\n               'prix': 1320,\n               'role': 'Expedition'},\n              {'constructeur': 'Anvil Aerospace',\n               'hauteur': 16,\n               'largeur': 4,\n               'masse': 30752,\n               'nom': 'ARROW',\n               'prix': 108,\n               'role': 'Light Fighter'},\n              {'constructeur': 'AEGIS',\n               'hauteur': 37,\n               'largeur': 11,\n               'masse': 120380,\n               'nom': 'REDEEMER',\n               'prix': 530,\n               'role': 'Gunship'},\n              {'constructeur': 'AEGIS',\n               'hauteur': 480,\n               'largeur': 72,\n               'masse': 109860179,\n               'nom': 'JAVELIN',\n               'prix': 1240,\n               'role': 'Destroyer'},\n              {'constructeur': 'AEGIS',\n               'hauteur': 125,\n               'largeur': 21,\n               'masse': 34567,\n               'nom': 'NAUTILUS',\n               'prix': 1240,\n               'role': 'Minelayer'},\n              {'constructeur': 'AEGIS',\n               'hauteur': 38,\n               'largeur': 10,\n               'masse': 625330,\n               'nom': 'VULCAN',\n               'prix': 134,\n               'role': 'Medium Repair / Medium Refuel'},\n              {'constructeur': 'ORIGIN',\n               'hauteur': 5,\n               'largeur': 1,\n               'masse': 1610,\n               'nom': 'X1 BASE',\n               'prix': 50,\n               'role': 'Touring'},\n              {'constructeur': 'Anvil Aerospace',\n               'hauteur': 17,\n               'largeur': 6,\n               'masse': 40000,\n               'nom': 'HAWK',\n               'prix': 650,\n               'role': 'Light Fighter'},\n              {'constructeur': 'Anvil Aerospace',\n               'hauteur': 90,\n               'largeur': 20,\n               'masse': 3650500,\n               'nom': 'CRUCIBLE',\n               'prix': 1800,\n               'role': 'Heavy Repair'},\n              {'constructeur': 'Anvil Aerospace',\n               'hauteur': 38,\n               'largeur': 9,\n               'masse': 56000,\n               'nom': 'VALKYRIE',\n               'prix': 650,\n               'role': 'Military, Industrial'},\n              {'constructeur': 'RSI',\n               'hauteur': 155,\n               'largeur': 35,\n               'masse': 17155000,\n               'nom': 'POLARIS',\n               'prix': 1790,\n               'role': 'Corvette'},\n              {'constructeur': 'RSI',\n               'hauteur': 170,\n               'largeur': 50,\n               'masse': 26496000,\n               'nom': 'ORION',\n               'prix': 780,\n               'role': 'Heavy Mining'},\n              {'constructeur': 'Drake',\n               'hauteur': 23,\n               'largeur': 9,\n               'masse': 64001,\n               'nom': 'HERALD',\n               'prix': 650,\n               'role': 'Medium data'},\n              {'constructeur': 'Drake',\n               'hauteur': 55,\n               'largeur': 31,\n               'masse': 45000,\n               'nom': 'CORSAIR',\n               'prix': 780,\n               'role': 'Exploration'},\n              {'constructeur': 'DRAKE',\n               'hauteur': 33,\n               'largeur': 9,\n               'masse': 55000,\n               'nom': 'VULTURE',\n               'prix': 549,\n               'role': 'Light Salvage'},\n              {'constructeur': 'Drake',\n               'hauteur': 111,\n               'largeur': 13,\n               'masse': 1608205,\n               'nom': 'CATERPILLAR',\n               'prix': 1200,\n               'role': 'Transport'},\n              {'constructeur': 'Drake',\n               'hauteur': 270,\n               'largeur': 64,\n               'masse': 37000,\n               'nom': 'KRAKEN',\n               'prix': 1450,\n               'role': 'Multi-Role - Light Carrier'},\n              {'constructeur': 'AEGIS',\n               'hauteur': 20,\n               'largeur': 4,\n               'masse': 54216,\n               'nom': 'ECLIPSE',\n               'prix': 490,\n               'role': 'Stealth Bomber'}]}\n"
     ]
    },
    {
     "output_type": "error",
     "ename": "TypeError",
     "evalue": "can only concatenate str (not \"int\") to str",
     "traceback": [
      "\u001b[1;31m---------------------------------------------------------------------------\u001b[0m",
      "\u001b[1;31mTypeError\u001b[0m                                 Traceback (most recent call last)",
      "\u001b[1;32m<ipython-input-15-6b580adc9516>\u001b[0m in \u001b[0;36m<module>\u001b[1;34m\u001b[0m\n\u001b[0;32m      4\u001b[0m \u001b[1;32mfor\u001b[0m \u001b[0mship\u001b[0m \u001b[1;32min\u001b[0m \u001b[0maegisships\u001b[0m\u001b[1;33m:\u001b[0m\u001b[1;33m\u001b[0m\u001b[1;33m\u001b[0m\u001b[0m\n\u001b[0;32m      5\u001b[0m     \u001b[0mpprint\u001b[0m\u001b[1;33m(\u001b[0m\u001b[0mship\u001b[0m\u001b[1;33m)\u001b[0m\u001b[1;33m\u001b[0m\u001b[1;33m\u001b[0m\u001b[0m\n\u001b[1;32m----> 6\u001b[1;33m     \u001b[0mprint\u001b[0m\u001b[1;33m(\u001b[0m\u001b[1;34m\"vaisseau \"\u001b[0m \u001b[1;33m+\u001b[0m \u001b[0mcompteur\u001b[0m\u001b[1;33m)\u001b[0m\u001b[1;33m\u001b[0m\u001b[1;33m\u001b[0m\u001b[0m\n\u001b[0m",
      "\u001b[1;31mTypeError\u001b[0m: can only concatenate str (not \"int\") to str"
     ]
    }
   ],
   "source": [
    "aegisships = db.ships.find({\"vaisseau.constructeur\": \"AEGIS\"})\n",
    "print(\"vaisseaux AEGIS!\")\n",
    "compteur = 0\n",
    "for ship in aegisships:\n",
    "    pprint(ship)\n",
    "    print(\"vaisseau \" + compteur)"
   ]
  },
  {
   "cell_type": "code",
   "execution_count": 16,
   "metadata": {},
   "outputs": [
    {
     "output_type": "error",
     "ename": "SyntaxError",
     "evalue": "invalid syntax (<ipython-input-16-d312a52176e7>, line 2)",
     "traceback": [
      "\u001b[1;36m  File \u001b[1;32m\"<ipython-input-16-d312a52176e7>\"\u001b[1;36m, line \u001b[1;32m2\u001b[0m\n\u001b[1;33m    {$match: {\"vaisseau.constructeur\": \"AEGIS\"}},\u001b[0m\n\u001b[1;37m     ^\u001b[0m\n\u001b[1;31mSyntaxError\u001b[0m\u001b[1;31m:\u001b[0m invalid syntax\n"
     ]
    }
   ],
   "source": [
    "db.ships.aggregate([\n",
    "    {$match: {\"vaisseau.constructeur\": \"AEGIS\"}},\n",
    "    {$project: {\n",
    "        vaisseau: {$filter: {\n",
    "            input: '$vaisseau',\n",
    "            as: 'nom',\n",
    "            cond: {$eq: ['$$nom.constructeur', 'AEGIS']}\n",
    "        }},\n",
    "        _id: 0\n",
    "    }}\n",
    "])"
   ]
  },
  {
   "cell_type": "code",
   "execution_count": 17,
   "metadata": {},
   "outputs": [
    {
     "output_type": "error",
     "ename": "SyntaxError",
     "evalue": "invalid syntax (<ipython-input-17-d4fe634bc5b0>, line 6)",
     "traceback": [
      "\u001b[1;36m  File \u001b[1;32m\"<ipython-input-17-d4fe634bc5b0>\"\u001b[1;36m, line \u001b[1;32m6\u001b[0m\n\u001b[1;33m    as: 'nom',\u001b[0m\n\u001b[1;37m    ^\u001b[0m\n\u001b[1;31mSyntaxError\u001b[0m\u001b[1;31m:\u001b[0m invalid syntax\n"
     ]
    }
   ],
   "source": [
    "db.ships.aggregate([\n",
    "    {\"$match\": {\"vaisseau.constructeur\": \"AEGIS\"}},\n",
    "    {\"$project\": {\n",
    "        vaisseau: {\"$filter\": {\n",
    "            input: '$vaisseau',\n",
    "            as: 'nom',\n",
    "            cond: {\"$eq\": ['$$nom.constructeur', 'AEGIS']}\n",
    "        }},\n",
    "        _id: 0\n",
    "    }}\n",
    "])"
   ]
  },
  {
   "cell_type": "code",
   "execution_count": 18,
   "metadata": {},
   "outputs": [
    {
     "output_type": "error",
     "ename": "OperationFailure",
     "evalue": "Unrecognized pipeline stage name: 'vaisseau.constructeur', full error: {'ok': 0.0, 'errmsg': \"Unrecognized pipeline stage name: 'vaisseau.constructeur'\", 'code': 40324, 'codeName': 'Location40324'}",
     "traceback": [
      "\u001b[1;31m---------------------------------------------------------------------------\u001b[0m",
      "\u001b[1;31mOperationFailure\u001b[0m                          Traceback (most recent call last)",
      "\u001b[1;32m<ipython-input-18-61de6f730802>\u001b[0m in \u001b[0;36m<module>\u001b[1;34m\u001b[0m\n\u001b[0;32m      1\u001b[0m \u001b[0mpipeline\u001b[0m \u001b[1;33m=\u001b[0m \u001b[1;33m[\u001b[0m\u001b[1;33m{\u001b[0m\u001b[1;34m\"vaisseau.constructeur\"\u001b[0m\u001b[1;33m:\u001b[0m \u001b[1;34m\"AEGIS\"\u001b[0m\u001b[1;33m}\u001b[0m\u001b[1;33m]\u001b[0m\u001b[1;33m\u001b[0m\u001b[1;33m\u001b[0m\u001b[0m\n\u001b[1;32m----> 2\u001b[1;33m \u001b[0mdb\u001b[0m\u001b[1;33m.\u001b[0m\u001b[0mships\u001b[0m\u001b[1;33m.\u001b[0m\u001b[0maggregate\u001b[0m\u001b[1;33m(\u001b[0m\u001b[0mpipeline\u001b[0m\u001b[1;33m)\u001b[0m\u001b[1;33m\u001b[0m\u001b[1;33m\u001b[0m\u001b[0m\n\u001b[0m",
      "\u001b[1;32m~\\AppData\\Roaming\\Python\\Python38\\site-packages\\pymongo\\collection.py\u001b[0m in \u001b[0;36maggregate\u001b[1;34m(self, pipeline, session, **kwargs)\u001b[0m\n\u001b[0;32m   2451\u001b[0m         \"\"\"\n\u001b[0;32m   2452\u001b[0m         \u001b[1;32mwith\u001b[0m \u001b[0mself\u001b[0m\u001b[1;33m.\u001b[0m\u001b[0m__database\u001b[0m\u001b[1;33m.\u001b[0m\u001b[0mclient\u001b[0m\u001b[1;33m.\u001b[0m\u001b[0m_tmp_session\u001b[0m\u001b[1;33m(\u001b[0m\u001b[0msession\u001b[0m\u001b[1;33m,\u001b[0m \u001b[0mclose\u001b[0m\u001b[1;33m=\u001b[0m\u001b[1;32mFalse\u001b[0m\u001b[1;33m)\u001b[0m \u001b[1;32mas\u001b[0m \u001b[0ms\u001b[0m\u001b[1;33m:\u001b[0m\u001b[1;33m\u001b[0m\u001b[1;33m\u001b[0m\u001b[0m\n\u001b[1;32m-> 2453\u001b[1;33m             return self._aggregate(_CollectionAggregationCommand,\n\u001b[0m\u001b[0;32m   2454\u001b[0m                                    \u001b[0mpipeline\u001b[0m\u001b[1;33m,\u001b[0m\u001b[1;33m\u001b[0m\u001b[1;33m\u001b[0m\u001b[0m\n\u001b[0;32m   2455\u001b[0m                                    \u001b[0mCommandCursor\u001b[0m\u001b[1;33m,\u001b[0m\u001b[1;33m\u001b[0m\u001b[1;33m\u001b[0m\u001b[0m\n",
      "\u001b[1;32m~\\AppData\\Roaming\\Python\\Python38\\site-packages\\pymongo\\collection.py\u001b[0m in \u001b[0;36m_aggregate\u001b[1;34m(self, aggregation_command, pipeline, cursor_class, session, explicit_session, **kwargs)\u001b[0m\n\u001b[0;32m   2373\u001b[0m             \u001b[0mself\u001b[0m\u001b[1;33m,\u001b[0m \u001b[0mcursor_class\u001b[0m\u001b[1;33m,\u001b[0m \u001b[0mpipeline\u001b[0m\u001b[1;33m,\u001b[0m \u001b[0mkwargs\u001b[0m\u001b[1;33m,\u001b[0m \u001b[0mexplicit_session\u001b[0m\u001b[1;33m,\u001b[0m\u001b[1;33m\u001b[0m\u001b[1;33m\u001b[0m\u001b[0m\n\u001b[0;32m   2374\u001b[0m             user_fields={'cursor': {'firstBatch': 1}}, use_cursor=use_cursor)\n\u001b[1;32m-> 2375\u001b[1;33m         return self.__database.client._retryable_read(\n\u001b[0m\u001b[0;32m   2376\u001b[0m             \u001b[0mcmd\u001b[0m\u001b[1;33m.\u001b[0m\u001b[0mget_cursor\u001b[0m\u001b[1;33m,\u001b[0m \u001b[0mcmd\u001b[0m\u001b[1;33m.\u001b[0m\u001b[0mget_read_preference\u001b[0m\u001b[1;33m(\u001b[0m\u001b[0msession\u001b[0m\u001b[1;33m)\u001b[0m\u001b[1;33m,\u001b[0m \u001b[0msession\u001b[0m\u001b[1;33m,\u001b[0m\u001b[1;33m\u001b[0m\u001b[1;33m\u001b[0m\u001b[0m\n\u001b[0;32m   2377\u001b[0m             retryable=not cmd._performs_write)\n",
      "\u001b[1;32m~\\AppData\\Roaming\\Python\\Python38\\site-packages\\pymongo\\mongo_client.py\u001b[0m in \u001b[0;36m_retryable_read\u001b[1;34m(self, func, read_pref, session, address, retryable, exhaust)\u001b[0m\n\u001b[0;32m   1469\u001b[0m                         \u001b[1;31m# not support retryable reads, raise the last error.\u001b[0m\u001b[1;33m\u001b[0m\u001b[1;33m\u001b[0m\u001b[1;33m\u001b[0m\u001b[0m\n\u001b[0;32m   1470\u001b[0m                         \u001b[1;32mraise\u001b[0m \u001b[0mlast_error\u001b[0m\u001b[1;33m\u001b[0m\u001b[1;33m\u001b[0m\u001b[0m\n\u001b[1;32m-> 1471\u001b[1;33m                     \u001b[1;32mreturn\u001b[0m \u001b[0mfunc\u001b[0m\u001b[1;33m(\u001b[0m\u001b[0msession\u001b[0m\u001b[1;33m,\u001b[0m \u001b[0mserver\u001b[0m\u001b[1;33m,\u001b[0m \u001b[0msock_info\u001b[0m\u001b[1;33m,\u001b[0m \u001b[0mslave_ok\u001b[0m\u001b[1;33m)\u001b[0m\u001b[1;33m\u001b[0m\u001b[1;33m\u001b[0m\u001b[0m\n\u001b[0m\u001b[0;32m   1472\u001b[0m             \u001b[1;32mexcept\u001b[0m \u001b[0mServerSelectionTimeoutError\u001b[0m\u001b[1;33m:\u001b[0m\u001b[1;33m\u001b[0m\u001b[1;33m\u001b[0m\u001b[0m\n\u001b[0;32m   1473\u001b[0m                 \u001b[1;32mif\u001b[0m \u001b[0mretrying\u001b[0m\u001b[1;33m:\u001b[0m\u001b[1;33m\u001b[0m\u001b[1;33m\u001b[0m\u001b[0m\n",
      "\u001b[1;32m~\\AppData\\Roaming\\Python\\Python38\\site-packages\\pymongo\\aggregation.py\u001b[0m in \u001b[0;36mget_cursor\u001b[1;34m(self, session, server, sock_info, slave_ok)\u001b[0m\n\u001b[0;32m    134\u001b[0m \u001b[1;33m\u001b[0m\u001b[0m\n\u001b[0;32m    135\u001b[0m         \u001b[1;31m# Run command.\u001b[0m\u001b[1;33m\u001b[0m\u001b[1;33m\u001b[0m\u001b[1;33m\u001b[0m\u001b[0m\n\u001b[1;32m--> 136\u001b[1;33m         result = sock_info.command(\n\u001b[0m\u001b[0;32m    137\u001b[0m             \u001b[0mself\u001b[0m\u001b[1;33m.\u001b[0m\u001b[0m_database\u001b[0m\u001b[1;33m.\u001b[0m\u001b[0mname\u001b[0m\u001b[1;33m,\u001b[0m\u001b[1;33m\u001b[0m\u001b[1;33m\u001b[0m\u001b[0m\n\u001b[0;32m    138\u001b[0m             \u001b[0mcmd\u001b[0m\u001b[1;33m,\u001b[0m\u001b[1;33m\u001b[0m\u001b[1;33m\u001b[0m\u001b[0m\n",
      "\u001b[1;32m~\\AppData\\Roaming\\Python\\Python38\\site-packages\\pymongo\\pool.py\u001b[0m in \u001b[0;36mcommand\u001b[1;34m(self, dbname, spec, slave_ok, read_preference, codec_options, check, allowable_errors, check_keys, read_concern, write_concern, parse_write_concern_error, collation, session, client, retryable_write, publish_events, user_fields, exhaust_allowed)\u001b[0m\n\u001b[0;32m    681\u001b[0m             \u001b[0mself\u001b[0m\u001b[1;33m.\u001b[0m\u001b[0m_raise_if_not_writable\u001b[0m\u001b[1;33m(\u001b[0m\u001b[0munacknowledged\u001b[0m\u001b[1;33m)\u001b[0m\u001b[1;33m\u001b[0m\u001b[1;33m\u001b[0m\u001b[0m\n\u001b[0;32m    682\u001b[0m         \u001b[1;32mtry\u001b[0m\u001b[1;33m:\u001b[0m\u001b[1;33m\u001b[0m\u001b[1;33m\u001b[0m\u001b[0m\n\u001b[1;32m--> 683\u001b[1;33m             return command(self, dbname, spec, slave_ok,\n\u001b[0m\u001b[0;32m    684\u001b[0m                            \u001b[0mself\u001b[0m\u001b[1;33m.\u001b[0m\u001b[0mis_mongos\u001b[0m\u001b[1;33m,\u001b[0m \u001b[0mread_preference\u001b[0m\u001b[1;33m,\u001b[0m \u001b[0mcodec_options\u001b[0m\u001b[1;33m,\u001b[0m\u001b[1;33m\u001b[0m\u001b[1;33m\u001b[0m\u001b[0m\n\u001b[0;32m    685\u001b[0m                            \u001b[0msession\u001b[0m\u001b[1;33m,\u001b[0m \u001b[0mclient\u001b[0m\u001b[1;33m,\u001b[0m \u001b[0mcheck\u001b[0m\u001b[1;33m,\u001b[0m \u001b[0mallowable_errors\u001b[0m\u001b[1;33m,\u001b[0m\u001b[1;33m\u001b[0m\u001b[1;33m\u001b[0m\u001b[0m\n",
      "\u001b[1;32m~\\AppData\\Roaming\\Python\\Python38\\site-packages\\pymongo\\network.py\u001b[0m in \u001b[0;36mcommand\u001b[1;34m(sock_info, dbname, spec, slave_ok, is_mongos, read_preference, codec_options, session, client, check, allowable_errors, address, check_keys, listeners, max_bson_size, read_concern, parse_write_concern_error, collation, compression_ctx, use_op_msg, unacknowledged, user_fields, exhaust_allowed)\u001b[0m\n\u001b[0;32m    157\u001b[0m                 \u001b[0mclient\u001b[0m\u001b[1;33m.\u001b[0m\u001b[0m_process_response\u001b[0m\u001b[1;33m(\u001b[0m\u001b[0mresponse_doc\u001b[0m\u001b[1;33m,\u001b[0m \u001b[0msession\u001b[0m\u001b[1;33m)\u001b[0m\u001b[1;33m\u001b[0m\u001b[1;33m\u001b[0m\u001b[0m\n\u001b[0;32m    158\u001b[0m             \u001b[1;32mif\u001b[0m \u001b[0mcheck\u001b[0m\u001b[1;33m:\u001b[0m\u001b[1;33m\u001b[0m\u001b[1;33m\u001b[0m\u001b[0m\n\u001b[1;32m--> 159\u001b[1;33m                 helpers._check_command_response(\n\u001b[0m\u001b[0;32m    160\u001b[0m                     \u001b[0mresponse_doc\u001b[0m\u001b[1;33m,\u001b[0m \u001b[0msock_info\u001b[0m\u001b[1;33m.\u001b[0m\u001b[0mmax_wire_version\u001b[0m\u001b[1;33m,\u001b[0m \u001b[0mallowable_errors\u001b[0m\u001b[1;33m,\u001b[0m\u001b[1;33m\u001b[0m\u001b[1;33m\u001b[0m\u001b[0m\n\u001b[0;32m    161\u001b[0m                     parse_write_concern_error=parse_write_concern_error)\n",
      "\u001b[1;32m~\\AppData\\Roaming\\Python\\Python38\\site-packages\\pymongo\\helpers.py\u001b[0m in \u001b[0;36m_check_command_response\u001b[1;34m(response, max_wire_version, allowable_errors, parse_write_concern_error)\u001b[0m\n\u001b[0;32m    158\u001b[0m         \u001b[1;32mraise\u001b[0m \u001b[0mCursorNotFound\u001b[0m\u001b[1;33m(\u001b[0m\u001b[0merrmsg\u001b[0m\u001b[1;33m,\u001b[0m \u001b[0mcode\u001b[0m\u001b[1;33m,\u001b[0m \u001b[0mresponse\u001b[0m\u001b[1;33m,\u001b[0m \u001b[0mmax_wire_version\u001b[0m\u001b[1;33m)\u001b[0m\u001b[1;33m\u001b[0m\u001b[1;33m\u001b[0m\u001b[0m\n\u001b[0;32m    159\u001b[0m \u001b[1;33m\u001b[0m\u001b[0m\n\u001b[1;32m--> 160\u001b[1;33m     \u001b[1;32mraise\u001b[0m \u001b[0mOperationFailure\u001b[0m\u001b[1;33m(\u001b[0m\u001b[0merrmsg\u001b[0m\u001b[1;33m,\u001b[0m \u001b[0mcode\u001b[0m\u001b[1;33m,\u001b[0m \u001b[0mresponse\u001b[0m\u001b[1;33m,\u001b[0m \u001b[0mmax_wire_version\u001b[0m\u001b[1;33m)\u001b[0m\u001b[1;33m\u001b[0m\u001b[1;33m\u001b[0m\u001b[0m\n\u001b[0m\u001b[0;32m    161\u001b[0m \u001b[1;33m\u001b[0m\u001b[0m\n\u001b[0;32m    162\u001b[0m \u001b[1;33m\u001b[0m\u001b[0m\n",
      "\u001b[1;31mOperationFailure\u001b[0m: Unrecognized pipeline stage name: 'vaisseau.constructeur', full error: {'ok': 0.0, 'errmsg': \"Unrecognized pipeline stage name: 'vaisseau.constructeur'\", 'code': 40324, 'codeName': 'Location40324'}"
     ]
    }
   ],
   "source": [
    "pipeline = [{\"vaisseau.constructeur\": \"AEGIS\"}]\n",
    "db.ships.aggregate(pipeline)"
   ]
  },
  {
   "cell_type": "code",
   "execution_count": 19,
   "metadata": {},
   "outputs": [
    {
     "output_type": "stream",
     "name": "stdout",
     "text": [
      "vaisseaux AEGIS!\n{'_id': ObjectId('601aad175d1f038194632ab0'), 'constructeur': 'AEGIS'}\n"
     ]
    }
   ],
   "source": [
    "aegisships = db.ships.find({},{\"constructeur\": \"AEGIS\"})\n",
    "print(\"vaisseaux AEGIS!\")\n",
    "for ship in aegisships:\n",
    "    pprint(ship)"
   ]
  },
  {
   "cell_type": "code",
   "execution_count": 1,
   "metadata": {},
   "outputs": [
    {
     "output_type": "error",
     "ename": "NameError",
     "evalue": "name 'db' is not defined",
     "traceback": [
      "\u001b[1;31m---------------------------------------------------------------------------\u001b[0m",
      "\u001b[1;31mNameError\u001b[0m                                 Traceback (most recent call last)",
      "\u001b[1;32m<ipython-input-1-371e807a5b1f>\u001b[0m in \u001b[0;36m<module>\u001b[1;34m\u001b[0m\n\u001b[1;32m----> 1\u001b[1;33m \u001b[0maegisships\u001b[0m \u001b[1;33m=\u001b[0m \u001b[0mdb\u001b[0m\u001b[1;33m.\u001b[0m\u001b[0mships\u001b[0m\u001b[1;33m.\u001b[0m\u001b[0mfind\u001b[0m\u001b[1;33m(\u001b[0m\u001b[1;33m{\u001b[0m\u001b[1;34m'constructeur'\u001b[0m\u001b[1;33m:\u001b[0m \u001b[1;34m'AEGIS'\u001b[0m\u001b[1;33m}\u001b[0m\u001b[1;33m)\u001b[0m\u001b[1;33m\u001b[0m\u001b[1;33m\u001b[0m\u001b[0m\n\u001b[0m\u001b[0;32m      2\u001b[0m \u001b[0mprint\u001b[0m\u001b[1;33m(\u001b[0m\u001b[1;34m\"vaisseaux AEGIS!\"\u001b[0m\u001b[1;33m)\u001b[0m\u001b[1;33m\u001b[0m\u001b[1;33m\u001b[0m\u001b[0m\n\u001b[0;32m      3\u001b[0m \u001b[1;32mfor\u001b[0m \u001b[0mship\u001b[0m \u001b[1;32min\u001b[0m \u001b[0maegisships\u001b[0m\u001b[1;33m:\u001b[0m\u001b[1;33m\u001b[0m\u001b[1;33m\u001b[0m\u001b[0m\n\u001b[0;32m      4\u001b[0m     \u001b[0mpprint\u001b[0m\u001b[1;33m(\u001b[0m\u001b[0mship\u001b[0m\u001b[1;33m)\u001b[0m\u001b[1;33m\u001b[0m\u001b[1;33m\u001b[0m\u001b[0m\n",
      "\u001b[1;31mNameError\u001b[0m: name 'db' is not defined"
     ]
    }
   ],
   "source": [
    "aegisships = db.ships.find({'constructeur': 'AEGIS'})\n",
    "print(\"vaisseaux AEGIS!\")\n",
    "for ship in aegisships:\n",
    "    pprint(ship)"
   ]
  },
  {
   "cell_type": "code",
   "execution_count": 2,
   "metadata": {},
   "outputs": [
    {
     "output_type": "stream",
     "name": "stdout",
     "text": [
      "connection !\nTout les vaisseaus!\n{'_id': ObjectId('601d1bf9bb8d3c788036a42b'),\n 'vaisseau': [{'constructeur': 'Anvil Aerospace',\n               'hauteur': 22,\n               'largeur': 6,\n               'masse': 73535,\n               'nom': 'F7C HORNET',\n               'prix': 150,\n               'role': 'Combat'},\n              {'constructeur': 'RSI',\n               'hauteur': 61,\n               'largeur': 14,\n               'masse': 439108,\n               'nom': 'CONSTELLATION AQUILA',\n               'prix': 372,\n               'role': 'Exploration'},\n              {'constructeur': 'RSI',\n               'hauteur': 18,\n               'largeur': 4,\n               'masse': 25172,\n               'nom': 'AURORA ES',\n               'prix': 24,\n               'role': 'Transport'},\n              {'constructeur': 'RSI',\n               'hauteur': 30,\n               'largeur': 8,\n               'masse': 225621,\n               'nom': 'MANTIS',\n               'prix': 180,\n               'role': 'Combat'},\n              {'constructeur': 'RSI',\n               'hauteur': 61,\n               'largeur': 14,\n               'masse': 416009,\n               'nom': 'CONSTELLATION TAURUS',\n               'prix': 180,\n               'role': 'Transport'},\n              {'constructeur': 'RSI',\n               'hauteur': 61,\n               'largeur': 14,\n               'masse': 439108,\n               'nom': 'CONSTELLATION AQUILA',\n               'prix': 372,\n               'role': 'Exploration'},\n              {'constructeur': 'RSI',\n               'hauteur': 61,\n               'largeur': 14,\n               'masse': 419850,\n               'nom': 'CONSTELLATION ANDROMEDA',\n               'prix': 330,\n               'role': 'Transport'},\n              {'constructeur': 'Origin',\n               'hauteur': 27,\n               'largeur': 8,\n               'masse': 66320,\n               'nom': '3001',\n               'prix': 72,\n               'role': 'Transport'},\n              {'constructeur': 'Drake',\n               'hauteur': 29,\n               'largeur': 10,\n               'masse': 226700,\n               'nom': 'CUTLASS BLACK',\n               'prix': 138,\n               'role': 'Combat'},\n              {'constructeur': 'AEGIS',\n               'hauteur': 22,\n               'largeur': 5,\n               'masse': 50056,\n               'nom': 'AVENGER TITAN',\n               'prix': 84,\n               'role': 'Transport'},\n              {'constructeur': 'AEGIS',\n               'hauteur': 20,\n               'largeur': 5,\n               'masse': 48958,\n               'nom': 'GLADIUS',\n               'prix': 108,\n               'role': 'Combat'},\n              {'constructeur': 'Anvil Aerospace',\n               'hauteur': 19,\n               'largeur': 6,\n               'masse': 86454,\n               'nom': 'TERRAPIN',\n               'prix': 1320,\n               'role': 'Combat'},\n              {'constructeur': 'Anvil Aerospace',\n               'hauteur': 126,\n               'largeur': 36,\n               'masse': 4397858,\n               'nom': 'CARRACK EXPEDITION',\n               'prix': 1320,\n               'role': 'Exploration'},\n              {'constructeur': 'Anvil Aerospace',\n               'hauteur': 16,\n               'largeur': 4,\n               'masse': 30752,\n               'nom': 'ARROW',\n               'prix': 108,\n               'role': 'Combat'},\n              {'constructeur': 'AEGIS',\n               'hauteur': 37,\n               'largeur': 11,\n               'masse': 120380,\n               'nom': 'REDEEMER',\n               'prix': 530,\n               'role': 'Combat'},\n              {'constructeur': 'AEGIS',\n               'hauteur': 480,\n               'largeur': 72,\n               'masse': 109860179,\n               'nom': 'JAVELIN',\n               'prix': 1240,\n               'role': 'Combat'},\n              {'constructeur': 'AEGIS',\n               'hauteur': 125,\n               'largeur': 21,\n               'masse': 34567,\n               'nom': 'NAUTILUS',\n               'prix': 1240,\n               'role': 'Combat'},\n              {'constructeur': 'AEGIS',\n               'hauteur': 38,\n               'largeur': 10,\n               'masse': 625330,\n               'nom': 'VULCAN',\n               'prix': 134,\n               'role': 'Transport'},\n              {'constructeur': 'ORIGIN',\n               'hauteur': 5,\n               'largeur': 1,\n               'masse': 1610,\n               'nom': 'X1 BASE',\n               'prix': 50,\n               'role': 'Transport'},\n              {'constructeur': 'Anvil Aerospace',\n               'hauteur': 17,\n               'largeur': 6,\n               'masse': 40000,\n               'nom': 'HAWK',\n               'prix': 650,\n               'role': 'Combat'},\n              {'constructeur': 'Anvil Aerospace',\n               'hauteur': 90,\n               'largeur': 20,\n               'masse': 3650500,\n               'nom': 'CRUCIBLE',\n               'prix': 1800,\n               'role': 'Transport'},\n              {'constructeur': 'Anvil Aerospace',\n               'hauteur': 38,\n               'largeur': 9,\n               'masse': 56000,\n               'nom': 'VALKYRIE',\n               'prix': 650,\n               'role': 'Combat'},\n              {'constructeur': 'RSI',\n               'hauteur': 155,\n               'largeur': 35,\n               'masse': 17155000,\n               'nom': 'POLARIS',\n               'prix': 1790,\n               'role': 'Combat'},\n              {'constructeur': 'RSI',\n               'hauteur': 170,\n               'largeur': 50,\n               'masse': 26496000,\n               'nom': 'ORION',\n               'prix': 780,\n               'role': 'Transport'},\n              {'constructeur': 'Drake',\n               'hauteur': 23,\n               'largeur': 9,\n               'masse': 64001,\n               'nom': 'HERALD',\n               'prix': 650,\n               'role': 'Transport'},\n              {'constructeur': 'Drake',\n               'hauteur': 55,\n               'largeur': 31,\n               'masse': 45000,\n               'nom': 'CORSAIR',\n               'prix': 780,\n               'role': 'Exploration'},\n              {'constructeur': 'DRAKE',\n               'hauteur': 33,\n               'largeur': 9,\n               'masse': 55000,\n               'nom': 'VULTURE',\n               'prix': 549,\n               'role': 'Transport'},\n              {'constructeur': 'Drake',\n               'hauteur': 111,\n               'largeur': 13,\n               'masse': 1608205,\n               'nom': 'CATERPILLAR',\n               'prix': 1200,\n               'role': 'Transport'},\n              {'constructeur': 'Drake',\n               'hauteur': 270,\n               'largeur': 64,\n               'masse': 37000,\n               'nom': 'KRAKEN',\n               'prix': 1450,\n               'role': 'Combat'},\n              {'constructeur': 'AEGIS',\n               'hauteur': 20,\n               'largeur': 4,\n               'masse': 54216,\n               'nom': 'ECLIPSE',\n               'prix': 490,\n               'role': 'Combat'}]}\n"
     ]
    }
   ],
   "source": [
    "import pymongo\n",
    "import json\n",
    "from pprint import pprint\n",
    "from pymongo import MongoClient\n",
    "client = MongoClient('localhost', 27017)\n",
    "db = client.startest\n",
    "ships = db.ships\n",
    "\n",
    "print('connection !')\n",
    "\n",
    "db.ships.drop()\n",
    "\n",
    "with open('vaisseau.json') as f:\n",
    "    file_data = json.load(f)\n",
    "\n",
    "ships.insert_one(file_data)\n",
    "\n",
    "allships = ships.find()\n",
    "print(\"Tout les vaisseaus!\")\n",
    "for ship in allships:\n",
    "    pprint(ship)"
   ]
  },
  {
   "cell_type": "code",
   "execution_count": 3,
   "metadata": {},
   "outputs": [
    {
     "output_type": "stream",
     "name": "stdout",
     "text": [
      "vaisseaux AEGIS!\n"
     ]
    }
   ],
   "source": [
    "aegisships = db.ships.find({'constructeur': 'AEGIS'})\n",
    "print(\"vaisseaux AEGIS!\")\n",
    "for ship in aegisships:\n",
    "    pprint(ship)"
   ]
  },
  {
   "cell_type": "code",
   "execution_count": 4,
   "metadata": {},
   "outputs": [
    {
     "output_type": "stream",
     "name": "stdout",
     "text": [
      "vaisseaux AEGIS!\n{'_id': ObjectId('601d1bf9bb8d3c788036a42b'),\n 'vaisseau': [{'constructeur': 'Anvil Aerospace',\n               'hauteur': 22,\n               'largeur': 6,\n               'masse': 73535,\n               'nom': 'F7C HORNET',\n               'prix': 150,\n               'role': 'Combat'},\n              {'constructeur': 'RSI',\n               'hauteur': 61,\n               'largeur': 14,\n               'masse': 439108,\n               'nom': 'CONSTELLATION AQUILA',\n               'prix': 372,\n               'role': 'Exploration'},\n              {'constructeur': 'RSI',\n               'hauteur': 18,\n               'largeur': 4,\n               'masse': 25172,\n               'nom': 'AURORA ES',\n               'prix': 24,\n               'role': 'Transport'},\n              {'constructeur': 'RSI',\n               'hauteur': 30,\n               'largeur': 8,\n               'masse': 225621,\n               'nom': 'MANTIS',\n               'prix': 180,\n               'role': 'Combat'},\n              {'constructeur': 'RSI',\n               'hauteur': 61,\n               'largeur': 14,\n               'masse': 416009,\n               'nom': 'CONSTELLATION TAURUS',\n               'prix': 180,\n               'role': 'Transport'},\n              {'constructeur': 'RSI',\n               'hauteur': 61,\n               'largeur': 14,\n               'masse': 439108,\n               'nom': 'CONSTELLATION AQUILA',\n               'prix': 372,\n               'role': 'Exploration'},\n              {'constructeur': 'RSI',\n               'hauteur': 61,\n               'largeur': 14,\n               'masse': 419850,\n               'nom': 'CONSTELLATION ANDROMEDA',\n               'prix': 330,\n               'role': 'Transport'},\n              {'constructeur': 'Origin',\n               'hauteur': 27,\n               'largeur': 8,\n               'masse': 66320,\n               'nom': '3001',\n               'prix': 72,\n               'role': 'Transport'},\n              {'constructeur': 'Drake',\n               'hauteur': 29,\n               'largeur': 10,\n               'masse': 226700,\n               'nom': 'CUTLASS BLACK',\n               'prix': 138,\n               'role': 'Combat'},\n              {'constructeur': 'AEGIS',\n               'hauteur': 22,\n               'largeur': 5,\n               'masse': 50056,\n               'nom': 'AVENGER TITAN',\n               'prix': 84,\n               'role': 'Transport'},\n              {'constructeur': 'AEGIS',\n               'hauteur': 20,\n               'largeur': 5,\n               'masse': 48958,\n               'nom': 'GLADIUS',\n               'prix': 108,\n               'role': 'Combat'},\n              {'constructeur': 'Anvil Aerospace',\n               'hauteur': 19,\n               'largeur': 6,\n               'masse': 86454,\n               'nom': 'TERRAPIN',\n               'prix': 1320,\n               'role': 'Combat'},\n              {'constructeur': 'Anvil Aerospace',\n               'hauteur': 126,\n               'largeur': 36,\n               'masse': 4397858,\n               'nom': 'CARRACK EXPEDITION',\n               'prix': 1320,\n               'role': 'Exploration'},\n              {'constructeur': 'Anvil Aerospace',\n               'hauteur': 16,\n               'largeur': 4,\n               'masse': 30752,\n               'nom': 'ARROW',\n               'prix': 108,\n               'role': 'Combat'},\n              {'constructeur': 'AEGIS',\n               'hauteur': 37,\n               'largeur': 11,\n               'masse': 120380,\n               'nom': 'REDEEMER',\n               'prix': 530,\n               'role': 'Combat'},\n              {'constructeur': 'AEGIS',\n               'hauteur': 480,\n               'largeur': 72,\n               'masse': 109860179,\n               'nom': 'JAVELIN',\n               'prix': 1240,\n               'role': 'Combat'},\n              {'constructeur': 'AEGIS',\n               'hauteur': 125,\n               'largeur': 21,\n               'masse': 34567,\n               'nom': 'NAUTILUS',\n               'prix': 1240,\n               'role': 'Combat'},\n              {'constructeur': 'AEGIS',\n               'hauteur': 38,\n               'largeur': 10,\n               'masse': 625330,\n               'nom': 'VULCAN',\n               'prix': 134,\n               'role': 'Transport'},\n              {'constructeur': 'ORIGIN',\n               'hauteur': 5,\n               'largeur': 1,\n               'masse': 1610,\n               'nom': 'X1 BASE',\n               'prix': 50,\n               'role': 'Transport'},\n              {'constructeur': 'Anvil Aerospace',\n               'hauteur': 17,\n               'largeur': 6,\n               'masse': 40000,\n               'nom': 'HAWK',\n               'prix': 650,\n               'role': 'Combat'},\n              {'constructeur': 'Anvil Aerospace',\n               'hauteur': 90,\n               'largeur': 20,\n               'masse': 3650500,\n               'nom': 'CRUCIBLE',\n               'prix': 1800,\n               'role': 'Transport'},\n              {'constructeur': 'Anvil Aerospace',\n               'hauteur': 38,\n               'largeur': 9,\n               'masse': 56000,\n               'nom': 'VALKYRIE',\n               'prix': 650,\n               'role': 'Combat'},\n              {'constructeur': 'RSI',\n               'hauteur': 155,\n               'largeur': 35,\n               'masse': 17155000,\n               'nom': 'POLARIS',\n               'prix': 1790,\n               'role': 'Combat'},\n              {'constructeur': 'RSI',\n               'hauteur': 170,\n               'largeur': 50,\n               'masse': 26496000,\n               'nom': 'ORION',\n               'prix': 780,\n               'role': 'Transport'},\n              {'constructeur': 'Drake',\n               'hauteur': 23,\n               'largeur': 9,\n               'masse': 64001,\n               'nom': 'HERALD',\n               'prix': 650,\n               'role': 'Transport'},\n              {'constructeur': 'Drake',\n               'hauteur': 55,\n               'largeur': 31,\n               'masse': 45000,\n               'nom': 'CORSAIR',\n               'prix': 780,\n               'role': 'Exploration'},\n              {'constructeur': 'DRAKE',\n               'hauteur': 33,\n               'largeur': 9,\n               'masse': 55000,\n               'nom': 'VULTURE',\n               'prix': 549,\n               'role': 'Transport'},\n              {'constructeur': 'Drake',\n               'hauteur': 111,\n               'largeur': 13,\n               'masse': 1608205,\n               'nom': 'CATERPILLAR',\n               'prix': 1200,\n               'role': 'Transport'},\n              {'constructeur': 'Drake',\n               'hauteur': 270,\n               'largeur': 64,\n               'masse': 37000,\n               'nom': 'KRAKEN',\n               'prix': 1450,\n               'role': 'Combat'},\n              {'constructeur': 'AEGIS',\n               'hauteur': 20,\n               'largeur': 4,\n               'masse': 54216,\n               'nom': 'ECLIPSE',\n               'prix': 490,\n               'role': 'Combat'}]}\n"
     ]
    }
   ],
   "source": [
    "aegisships = db.ships.find({'vaisseau.constructeur': 'AEGIS'})\n",
    "print(\"vaisseaux AEGIS!\")\n",
    "for ship in aegisships:\n",
    "    pprint(ship)"
   ]
  },
  {
   "cell_type": "code",
   "execution_count": 6,
   "metadata": {},
   "outputs": [
    {
     "output_type": "stream",
     "name": "stdout",
     "text": [
      "<pymongo.cursor.Cursor object at 0x000002306D879460>\n"
     ]
    }
   ],
   "source": [
    "aegisships = db.ships.find({'vaisseau.constructeur': 'AEGIS'})\n",
    "pprint(aegisships)"
   ]
  },
  {
   "cell_type": "code",
   "execution_count": 7,
   "metadata": {},
   "outputs": [],
   "source": [
    "db.ships.drop()\n",
    "\n",
    "vaisseauxlist = [\n",
    "    {\n",
    "     \"nom\": \"F7C HORNET\",\n",
    "     \"constructeur\": \"Anvil Aerospace\",\n",
    "     \"hauteur\": 22,\n",
    "     \"largeur\": 6,\n",
    "     \"masse\" : 73535,\n",
    "     \"role\": \"Combat\",\n",
    "     \"prix\": 150\n",
    "        },\n",
    "      {\n",
    "     \"nom\": \"CONSTELLATION AQUILA\",\n",
    "     \"constructeur\": \"RSI\",\n",
    "     \"hauteur\": 61,\n",
    "     \"largeur\": 14,\n",
    "     \"masse\" : 439108,\n",
    "     \"role\": \"Exploration\",\n",
    "     \"prix\": 372\n",
    "        },\n",
    "    {\n",
    "     \"nom\": \"AURORA ES\",\n",
    "     \"constructeur\": \"RSI\",\n",
    "     \"hauteur\": 18,\n",
    "     \"largeur\": 4,\n",
    "     \"masse\" : 25172,\n",
    "     \"role\": \"Transport\",\n",
    "     \"prix\": 24\n",
    "        },\n",
    "    {\n",
    "     \"nom\": \"MANTIS\",\n",
    "     \"constructeur\": \"RSI\",\n",
    "     \"hauteur\": 30,\n",
    "     \"largeur\": 8,\n",
    "     \"masse\" : 225621,\n",
    "     \"role\": \"Combat\",\n",
    "     \"prix\": 180\n",
    "        },\n",
    "    {\n",
    "     \"nom\": \"CONSTELLATION TAURUS\",\n",
    "     \"constructeur\": \"RSI\",\n",
    "     \"hauteur\": 61,\n",
    "     \"largeur\": 14,\n",
    "     \"masse\" : 416009,\n",
    "     \"role\": \"Transport\",\n",
    "     \"prix\": 180\n",
    "        },\n",
    "    {\n",
    "     \"nom\": \"CONSTELLATION AQUILA\",\n",
    "     \"constructeur\": \"RSI\",\n",
    "     \"hauteur\": 61,\n",
    "     \"largeur\": 14,\n",
    "     \"masse\" :439108,\n",
    "     \"role\": \"Exploration\",\n",
    "     \"prix\": 372\n",
    "        },\n",
    "    {\n",
    "     \"nom\": \"CONSTELLATION ANDROMEDA\",\n",
    "     \"constructeur\": \"RSI\",\n",
    "     \"hauteur\": 61,\n",
    "     \"largeur\": 14,\n",
    "     \"masse\" :419850,\n",
    "     \"role\": \"Transport\",\n",
    "     \"prix\": 330\n",
    "        },\n",
    "    {\n",
    "     \"nom\": \"3001\",\n",
    "     \"constructeur\": \"Origin\",\n",
    "     \"hauteur\": 27,\n",
    "     \"largeur\": 8,\n",
    "     \"masse\" : 66320,\n",
    "     \"role\": \"Transport\",\n",
    "     \"prix\": 72\n",
    "        },\n",
    "    {\n",
    "     \"nom\": \"CUTLASS BLACK\",\n",
    "     \"constructeur\": \"Drake\",\n",
    "     \"hauteur\": 29,\n",
    "     \"largeur\": 10,\n",
    "     \"masse\" : 226700,\n",
    "     \"role\": \"Combat\",\n",
    "     \"prix\": 138\n",
    "        },\n",
    "    {\n",
    "     \"nom\": \"AVENGER TITAN\",\n",
    "     \"constructeur\": \"AEGIS\",\n",
    "     \"hauteur\": 22,\n",
    "     \"largeur\": 5,\n",
    "     \"masse\" : 50056,\n",
    "     \"role\": \"Transport\",\n",
    "     \"prix\": 84\n",
    "        },\n",
    "    {\n",
    "     \"nom\": \"GLADIUS\",\n",
    "     \"constructeur\": \"AEGIS\",\n",
    "     \"hauteur\": 20,\n",
    "     \"largeur\" : 5,\n",
    "     \"masse\" : 48958,\n",
    "     \"role\": \"Combat\",\n",
    "     \"prix\": 108\n",
    "        },\n",
    "    {\n",
    "     \"nom\": \"TERRAPIN\",\n",
    "     \"constructeur\": \"Anvil Aerospace\",\n",
    "     \"hauteur\": 19,\n",
    "     \"largeur\" : 6,\n",
    "     \"masse\" :86454,\n",
    "     \"role\": \"Combat\",\n",
    "     \"prix\": 1320\n",
    "        },\n",
    "    {\n",
    "     \"nom\": \"CARRACK EXPEDITION\",\n",
    "     \"constructeur\": \"Anvil Aerospace\",\n",
    "     \"hauteur\": 126,\n",
    "     \"largeur\": 36,\n",
    "     \"masse\" : 4397858,\n",
    "     \"role\": \"Exploration\",\n",
    "     \"prix\": 1320\n",
    "        },\n",
    "    {\n",
    "     \"nom\": \"ARROW\",\n",
    "     \"constructeur\": \"Anvil Aerospace\",\n",
    "     \"hauteur\": 16,\n",
    "     \"largeur\": 4,\n",
    "     \"masse\" : 30752,\n",
    "     \"role\": \"Combat\",\n",
    "     \"prix\": 108\n",
    "        },\n",
    "   {\n",
    "     \"nom\": \"REDEEMER\",\n",
    "     \"constructeur\": \"AEGIS\",\n",
    "     \"hauteur\": 37,\n",
    "     \"largeur\": 11,\n",
    "     \"masse\" : 120380,\n",
    "     \"role\": \"Combat\",\n",
    "     \"prix\": 530\n",
    "         },\n",
    "   {\n",
    "     \"nom\": \"JAVELIN\",\n",
    "     \"constructeur\": \"AEGIS\",\n",
    "     \"hauteur\": 480,\n",
    "     \"largeur\": 72,\n",
    "     \"masse\" : 109860179,\n",
    "     \"role\": \"Combat\",\n",
    "     \"prix\": 1240\n",
    "         },\n",
    "   {\n",
    "     \"nom\": \"NAUTILUS\",\n",
    "     \"constructeur\": \"AEGIS\",\n",
    "     \"hauteur\": 125,\n",
    "     \"largeur\": 21,\n",
    "     \"masse\" : 34567,\n",
    "     \"role\": \"Combat\",\n",
    "     \"prix\": 1240\n",
    "         },\n",
    "   {\n",
    "     \"nom\": \"VULCAN\",\n",
    "     \"constructeur\": \"AEGIS\",\n",
    "     \"hauteur\": 38,\n",
    "     \"largeur\": 10,\n",
    "     \"masse\" : 625330,\n",
    "     \"role\": \"Transport\",\n",
    "     \"prix\": 134\n",
    "         },\n",
    "   {\n",
    "     \"nom\": \"X1 BASE\",\n",
    "     \"constructeur\": \"ORIGIN\",\n",
    "     \"hauteur\": 5,\n",
    "     \"largeur\": 1,\n",
    "     \"masse\" : 1610,\n",
    "     \"role\": \"Transport\",\n",
    "     \"prix\": 50\n",
    "         },\n",
    "      {\n",
    "     \"nom\": \"HAWK\",\n",
    "     \"constructeur\": \"Anvil Aerospace\",\n",
    "     \"hauteur\": 17,\n",
    "     \"largeur\": 6,\n",
    "     \"masse\" : 40000,\n",
    "     \"role\": \"Combat\",\n",
    "     \"prix\": 650\n",
    "         },\n",
    "   {\n",
    "     \"nom\": \"CRUCIBLE\",\n",
    "     \"constructeur\": \"Anvil Aerospace\",\n",
    "     \"hauteur\": 90,\n",
    "     \"largeur\": 20,\n",
    "     \"masse\" : 3650500,\n",
    "     \"role\": \"Transport\",\n",
    "     \"prix\": 1800\n",
    "         },\n",
    "   {\n",
    "     \"nom\": \"VALKYRIE\",\n",
    "     \"constructeur\": \"Anvil Aerospace\",\n",
    "     \"hauteur\": 38,\n",
    "     \"largeur\": 9,\n",
    "     \"masse\" : 56000,\n",
    "     \"role\": \"Combat\",\n",
    "     \"prix\": 650\n",
    "         },\n",
    "   {\n",
    "     \"nom\": \"POLARIS\",\n",
    "     \"constructeur\": \"RSI\",\n",
    "     \"hauteur\": 155,\n",
    "     \"largeur\": 35,\n",
    "     \"masse\" : 17155000,\n",
    "     \"role\": \"Combat\",\n",
    "     \"prix\": 1790\n",
    "         },\n",
    "   {\n",
    "     \"nom\": \"ORION\",\n",
    "     \"constructeur\": \"RSI\",\n",
    "     \"hauteur\": 170,\n",
    "     \"largeur\": 50,\n",
    "     \"masse\" : 26496000,\n",
    "     \"role\": \"Transport\",\n",
    "     \"prix\": 780\n",
    "         },\n",
    "   {\n",
    "     \"nom\": \"HERALD\",\n",
    "     \"constructeur\": \"Drake\",\n",
    "     \"hauteur\": 23,\n",
    "     \"largeur\": 9,\n",
    "     \"masse\" : 64001,\n",
    "     \"role\": \"Transport\",\n",
    "     \"prix\": 650\n",
    "         },\n",
    "   {\n",
    "     \"nom\": \"CORSAIR\",\n",
    "     \"constructeur\": \"Drake\",\n",
    "     \"hauteur\": 55,\n",
    "     \"largeur\": 31,\n",
    "     \"masse\" : 45000,\n",
    "     \"role\": \"Exploration\",\n",
    "     \"prix\": 780\n",
    "         },\n",
    "   {\n",
    "     \"nom\": \"VULTURE\",\n",
    "     \"constructeur\": \"DRAKE\",\n",
    "     \"hauteur\": 33,\n",
    "     \"largeur\": 9,\n",
    "     \"masse\" : 55000,\n",
    "     \"role\": \"Transport\",\n",
    "     \"prix\": 549\n",
    "         },\n",
    "   {\n",
    "     \"nom\": \"CATERPILLAR\",\n",
    "     \"constructeur\": \"Drake\",\n",
    "     \"hauteur\": 111,\n",
    "     \"largeur\": 13,\n",
    "     \"masse\" : 1608205,\n",
    "     \"role\": \"Transport\",\n",
    "     \"prix\": 1200\n",
    "         },\n",
    "   {\n",
    "     \"nom\": \"KRAKEN\",\n",
    "     \"constructeur\": \"Drake\",\n",
    "     \"hauteur\": 270,\n",
    "     \"largeur\": 64,\n",
    "     \"masse\" : 37000,\n",
    "     \"role\": \"Combat\",\n",
    "     \"prix\": 1450\n",
    "         },\n",
    "   {\n",
    "     \"nom\": \"ECLIPSE\",\n",
    "     \"constructeur\": \"AEGIS\",\n",
    "     \"hauteur\": 20,\n",
    "     \"largeur\": 4,\n",
    "     \"masse\" : 54216,\n",
    "     \"role\": \"Combat\",\n",
    "     \"prix\": 490\n",
    "         }\n",
    "]\n",
    "\n",
    "try:\n",
    "    ships.insert_many(vaisseauxlist)\n",
    "except:\n",
    "    print(\"Erreur Insertion\")\n",
    "\n"
   ]
  },
  {
   "cell_type": "code",
   "execution_count": 8,
   "metadata": {},
   "outputs": [
    {
     "output_type": "stream",
     "name": "stdout",
     "text": [
      "vaisseaux AEGIS!\n{'_id': ObjectId('601d1ea2bb8d3c788036a435'),\n 'constructeur': 'AEGIS',\n 'hauteur': 22,\n 'largeur': 5,\n 'masse': 50056,\n 'nom': 'AVENGER TITAN',\n 'prix': 84,\n 'role': 'Transport'}\n{'_id': ObjectId('601d1ea2bb8d3c788036a436'),\n 'constructeur': 'AEGIS',\n 'hauteur': 20,\n 'largeur': 5,\n 'masse': 48958,\n 'nom': 'GLADIUS',\n 'prix': 108,\n 'role': 'Combat'}\n{'_id': ObjectId('601d1ea2bb8d3c788036a43a'),\n 'constructeur': 'AEGIS',\n 'hauteur': 37,\n 'largeur': 11,\n 'masse': 120380,\n 'nom': 'REDEEMER',\n 'prix': 530,\n 'role': 'Combat'}\n{'_id': ObjectId('601d1ea2bb8d3c788036a43b'),\n 'constructeur': 'AEGIS',\n 'hauteur': 480,\n 'largeur': 72,\n 'masse': 109860179,\n 'nom': 'JAVELIN',\n 'prix': 1240,\n 'role': 'Combat'}\n{'_id': ObjectId('601d1ea2bb8d3c788036a43c'),\n 'constructeur': 'AEGIS',\n 'hauteur': 125,\n 'largeur': 21,\n 'masse': 34567,\n 'nom': 'NAUTILUS',\n 'prix': 1240,\n 'role': 'Combat'}\n{'_id': ObjectId('601d1ea2bb8d3c788036a43d'),\n 'constructeur': 'AEGIS',\n 'hauteur': 38,\n 'largeur': 10,\n 'masse': 625330,\n 'nom': 'VULCAN',\n 'prix': 134,\n 'role': 'Transport'}\n{'_id': ObjectId('601d1ea2bb8d3c788036a449'),\n 'constructeur': 'AEGIS',\n 'hauteur': 20,\n 'largeur': 4,\n 'masse': 54216,\n 'nom': 'ECLIPSE',\n 'prix': 490,\n 'role': 'Combat'}\n"
     ]
    }
   ],
   "source": [
    "aegisships = db.ships.find({'constructeur': 'AEGIS'})\n",
    "print(\"vaisseaux AEGIS!\")\n",
    "for ship in aegisships:\n",
    "    pprint(ship)"
   ]
  },
  {
   "cell_type": "code",
   "execution_count": 9,
   "metadata": {},
   "outputs": [
    {
     "output_type": "stream",
     "name": "stdout",
     "text": [
      "vaisseaux AEGIS!\n{'_id': ObjectId('601d1ea2bb8d3c788036a42c'),\n 'constructeur': 'Anvil Aerospace',\n 'hauteur': 22,\n 'largeur': 6,\n 'masse': 73535,\n 'nom': 'F7C HORNET',\n 'prix': 150,\n 'role': 'Combat'}\n{'_id': ObjectId('601d1ea2bb8d3c788036a42f'),\n 'constructeur': 'RSI',\n 'hauteur': 30,\n 'largeur': 8,\n 'masse': 225621,\n 'nom': 'MANTIS',\n 'prix': 180,\n 'role': 'Combat'}\n{'_id': ObjectId('601d1ea2bb8d3c788036a434'),\n 'constructeur': 'Drake',\n 'hauteur': 29,\n 'largeur': 10,\n 'masse': 226700,\n 'nom': 'CUTLASS BLACK',\n 'prix': 138,\n 'role': 'Combat'}\n{'_id': ObjectId('601d1ea2bb8d3c788036a436'),\n 'constructeur': 'AEGIS',\n 'hauteur': 20,\n 'largeur': 5,\n 'masse': 48958,\n 'nom': 'GLADIUS',\n 'prix': 108,\n 'role': 'Combat'}\n{'_id': ObjectId('601d1ea2bb8d3c788036a437'),\n 'constructeur': 'Anvil Aerospace',\n 'hauteur': 19,\n 'largeur': 6,\n 'masse': 86454,\n 'nom': 'TERRAPIN',\n 'prix': 1320,\n 'role': 'Combat'}\n{'_id': ObjectId('601d1ea2bb8d3c788036a439'),\n 'constructeur': 'Anvil Aerospace',\n 'hauteur': 16,\n 'largeur': 4,\n 'masse': 30752,\n 'nom': 'ARROW',\n 'prix': 108,\n 'role': 'Combat'}\n{'_id': ObjectId('601d1ea2bb8d3c788036a43a'),\n 'constructeur': 'AEGIS',\n 'hauteur': 37,\n 'largeur': 11,\n 'masse': 120380,\n 'nom': 'REDEEMER',\n 'prix': 530,\n 'role': 'Combat'}\n{'_id': ObjectId('601d1ea2bb8d3c788036a43b'),\n 'constructeur': 'AEGIS',\n 'hauteur': 480,\n 'largeur': 72,\n 'masse': 109860179,\n 'nom': 'JAVELIN',\n 'prix': 1240,\n 'role': 'Combat'}\n{'_id': ObjectId('601d1ea2bb8d3c788036a43c'),\n 'constructeur': 'AEGIS',\n 'hauteur': 125,\n 'largeur': 21,\n 'masse': 34567,\n 'nom': 'NAUTILUS',\n 'prix': 1240,\n 'role': 'Combat'}\n{'_id': ObjectId('601d1ea2bb8d3c788036a43f'),\n 'constructeur': 'Anvil Aerospace',\n 'hauteur': 17,\n 'largeur': 6,\n 'masse': 40000,\n 'nom': 'HAWK',\n 'prix': 650,\n 'role': 'Combat'}\n{'_id': ObjectId('601d1ea2bb8d3c788036a441'),\n 'constructeur': 'Anvil Aerospace',\n 'hauteur': 38,\n 'largeur': 9,\n 'masse': 56000,\n 'nom': 'VALKYRIE',\n 'prix': 650,\n 'role': 'Combat'}\n{'_id': ObjectId('601d1ea2bb8d3c788036a442'),\n 'constructeur': 'RSI',\n 'hauteur': 155,\n 'largeur': 35,\n 'masse': 17155000,\n 'nom': 'POLARIS',\n 'prix': 1790,\n 'role': 'Combat'}\n{'_id': ObjectId('601d1ea2bb8d3c788036a448'),\n 'constructeur': 'Drake',\n 'hauteur': 270,\n 'largeur': 64,\n 'masse': 37000,\n 'nom': 'KRAKEN',\n 'prix': 1450,\n 'role': 'Combat'}\n{'_id': ObjectId('601d1ea2bb8d3c788036a449'),\n 'constructeur': 'AEGIS',\n 'hauteur': 20,\n 'largeur': 4,\n 'masse': 54216,\n 'nom': 'ECLIPSE',\n 'prix': 490,\n 'role': 'Combat'}\n"
     ]
    }
   ],
   "source": [
    "combatships = db.ships.find({\"role\": \"Combat\"})\n",
    "print(\"vaisseaux AEGIS!\")\n",
    "for ship in combatships:\n",
    "    pprint(ship)"
   ]
  },
  {
   "cell_type": "code",
   "execution_count": null,
   "metadata": {},
   "outputs": [],
   "source": []
  }
 ]
}