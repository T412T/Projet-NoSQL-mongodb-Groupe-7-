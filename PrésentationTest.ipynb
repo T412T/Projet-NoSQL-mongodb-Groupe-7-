{
 "metadata": {
  "language_info": {
   "codemirror_mode": {
    "name": "ipython",
    "version": 3
   },
   "file_extension": ".py",
   "mimetype": "text/x-python",
   "name": "python",
   "nbconvert_exporter": "python",
   "pygments_lexer": "ipython3",
   "version": "3.8.3-final"
  },
  "orig_nbformat": 2,
  "kernelspec": {
   "name": "python3",
   "display_name": "Python 3",
   "language": "python"
  }
 },
 "nbformat": 4,
 "nbformat_minor": 2,
 "cells": [
  {
   "cell_type": "code",
   "execution_count": 2,
   "metadata": {},
   "outputs": [
    {
     "output_type": "stream",
     "name": "stdout",
     "text": [
      "connection !\n"
     ]
    }
   ],
   "source": [
    "import pymongo\n",
    "import json\n",
    "from pprint import pprint\n",
    "from pymongo import MongoClient\n",
    "client = MongoClient('localhost', 27017)\n",
    "db = client.startest\n",
    "ships = db.ship\n",
    "\n",
    "print('connection !')\n",
    "\n",
    "db.ship.drop()"
   ]
  },
  {
   "cell_type": "code",
   "execution_count": 3,
   "metadata": {},
   "outputs": [
    {
     "output_type": "execute_result",
     "data": {
      "text/plain": [
       "<pymongo.results.InsertOneResult at 0x26aafe28680>"
      ]
     },
     "metadata": {},
     "execution_count": 3
    }
   ],
   "source": [
    "with open('vaisseau.json') as f:\n",
    "    file_data = json.load(f)\n",
    "\n",
    "ships.insert_one(file_data)"
   ]
  },
  {
   "cell_type": "code",
   "execution_count": 4,
   "metadata": {},
   "outputs": [
    {
     "output_type": "stream",
     "name": "stdout",
     "text": [
      "Tout les vaisseaus!\n{'_id': ObjectId('6020f4ce6f74f4b7b1fa5f6d'),\n 'vaisseau': [{'constructeur': 'Anvil Aerospace',\n               'hauteur': 22,\n               'largeur': 6,\n               'masse': 73535,\n               'nom': 'F7C HORNET',\n               'prix': 150,\n               'role': 'Combat'},\n              {'constructeur': 'RSI',\n               'hauteur': 61,\n               'largeur': 14,\n               'masse': 439108,\n               'nom': 'CONSTELLATION AQUILA',\n               'prix': 372,\n               'role': 'Exploration'},\n              {'constructeur': 'RSI',\n               'hauteur': 18,\n               'largeur': 4,\n               'masse': 25172,\n               'nom': 'AURORA ES',\n               'prix': 24,\n               'role': 'Transport'},\n              {'constructeur': 'RSI',\n               'hauteur': 30,\n               'largeur': 8,\n               'masse': 225621,\n               'nom': 'MANTIS',\n               'prix': 180,\n               'role': 'Combat'},\n              {'constructeur': 'RSI',\n               'hauteur': 61,\n               'largeur': 14,\n               'masse': 416009,\n               'nom': 'CONSTELLATION TAURUS',\n               'prix': 180,\n               'role': 'Transport'},\n              {'constructeur': 'RSI',\n               'hauteur': 61,\n               'largeur': 14,\n               'masse': 439108,\n               'nom': 'CONSTELLATION AQUILA',\n               'prix': 372,\n               'role': 'Exploration'},\n              {'constructeur': 'RSI',\n               'hauteur': 61,\n               'largeur': 14,\n               'masse': 419850,\n               'nom': 'CONSTELLATION ANDROMEDA',\n               'prix': 330,\n               'role': 'Transport'},\n              {'constructeur': 'Origin',\n               'hauteur': 27,\n               'largeur': 8,\n               'masse': 66320,\n               'nom': '3001',\n               'prix': 72,\n               'role': 'Transport'},\n              {'constructeur': 'Drake',\n               'hauteur': 29,\n               'largeur': 10,\n               'masse': 226700,\n               'nom': 'CUTLASS BLACK',\n               'prix': 138,\n               'role': 'Combat'},\n              {'constructeur': 'AEGIS',\n               'hauteur': 22,\n               'largeur': 5,\n               'masse': 50056,\n               'nom': 'AVENGER TITAN',\n               'prix': 84,\n               'role': 'Transport'},\n              {'constructeur': 'AEGIS',\n               'hauteur': 20,\n               'largeur': 5,\n               'masse': 48958,\n               'nom': 'GLADIUS',\n               'prix': 108,\n               'role': 'Combat'},\n              {'constructeur': 'Anvil Aerospace',\n               'hauteur': 19,\n               'largeur': 6,\n               'masse': 86454,\n               'nom': 'TERRAPIN',\n               'prix': 1320,\n               'role': 'Combat'},\n              {'constructeur': 'Anvil Aerospace',\n               'hauteur': 126,\n               'largeur': 36,\n               'masse': 4397858,\n               'nom': 'CARRACK EXPEDITION',\n               'prix': 1320,\n               'role': 'Exploration'},\n              {'constructeur': 'Anvil Aerospace',\n               'hauteur': 16,\n               'largeur': 4,\n               'masse': 30752,\n               'nom': 'ARROW',\n               'prix': 108,\n               'role': 'Combat'},\n              {'constructeur': 'AEGIS',\n               'hauteur': 37,\n               'largeur': 11,\n               'masse': 120380,\n               'nom': 'REDEEMER',\n               'prix': 530,\n               'role': 'Combat'},\n              {'constructeur': 'AEGIS',\n               'hauteur': 480,\n               'largeur': 72,\n               'masse': 109860179,\n               'nom': 'JAVELIN',\n               'prix': 1240,\n               'role': 'Combat'},\n              {'constructeur': 'AEGIS',\n               'hauteur': 125,\n               'largeur': 21,\n               'masse': 34567,\n               'nom': 'NAUTILUS',\n               'prix': 1240,\n               'role': 'Combat'},\n              {'constructeur': 'AEGIS',\n               'hauteur': 38,\n               'largeur': 10,\n               'masse': 625330,\n               'nom': 'VULCAN',\n               'prix': 134,\n               'role': 'Transport'},\n              {'constructeur': 'ORIGIN',\n               'hauteur': 5,\n               'largeur': 1,\n               'masse': 1610,\n               'nom': 'X1 BASE',\n               'prix': 50,\n               'role': 'Transport'},\n              {'constructeur': 'Anvil Aerospace',\n               'hauteur': 17,\n               'largeur': 6,\n               'masse': 40000,\n               'nom': 'HAWK',\n               'prix': 650,\n               'role': 'Combat'},\n              {'constructeur': 'Anvil Aerospace',\n               'hauteur': 90,\n               'largeur': 20,\n               'masse': 3650500,\n               'nom': 'CRUCIBLE',\n               'prix': 1800,\n               'role': 'Transport'},\n              {'constructeur': 'Anvil Aerospace',\n               'hauteur': 38,\n               'largeur': 9,\n               'masse': 56000,\n               'nom': 'VALKYRIE',\n               'prix': 650,\n               'role': 'Combat'},\n              {'constructeur': 'RSI',\n               'hauteur': 155,\n               'largeur': 35,\n               'masse': 17155000,\n               'nom': 'POLARIS',\n               'prix': 1790,\n               'role': 'Combat'},\n              {'constructeur': 'RSI',\n               'hauteur': 170,\n               'largeur': 50,\n               'masse': 26496000,\n               'nom': 'ORION',\n               'prix': 780,\n               'role': 'Transport'},\n              {'constructeur': 'Drake',\n               'hauteur': 23,\n               'largeur': 9,\n               'masse': 64001,\n               'nom': 'HERALD',\n               'prix': 650,\n               'role': 'Transport'},\n              {'constructeur': 'Drake',\n               'hauteur': 55,\n               'largeur': 31,\n               'masse': 45000,\n               'nom': 'CORSAIR',\n               'prix': 780,\n               'role': 'Exploration'},\n              {'constructeur': 'DRAKE',\n               'hauteur': 33,\n               'largeur': 9,\n               'masse': 55000,\n               'nom': 'VULTURE',\n               'prix': 549,\n               'role': 'Transport'},\n              {'constructeur': 'Drake',\n               'hauteur': 111,\n               'largeur': 13,\n               'masse': 1608205,\n               'nom': 'CATERPILLAR',\n               'prix': 1200,\n               'role': 'Transport'},\n              {'constructeur': 'Drake',\n               'hauteur': 270,\n               'largeur': 64,\n               'masse': 37000,\n               'nom': 'KRAKEN',\n               'prix': 1450,\n               'role': 'Combat'},\n              {'constructeur': 'AEGIS',\n               'hauteur': 20,\n               'largeur': 4,\n               'masse': 54216,\n               'nom': 'ECLIPSE',\n               'prix': 490,\n               'role': 'Combat'}]}\n"
     ]
    }
   ],
   "source": [
    "allships = ships.find()\n",
    "print(\"Tout les vaisseaus!\")\n",
    "for ship in allships:\n",
    "    pprint(ship)"
   ]
  },
  {
   "cell_type": "code",
   "execution_count": 5,
   "metadata": {},
   "outputs": [
    {
     "output_type": "stream",
     "name": "stdout",
     "text": [
      "vaisseaux AEGIS!\n"
     ]
    }
   ],
   "source": [
    "aegisships = db.ships.find({'constructeur': 'AEGIS'})\n",
    "print(\"vaisseaux AEGIS!\")\n",
    "for ship in aegisships:\n",
    "    pprint(ship)"
   ]
  },
  {
   "cell_type": "code",
   "execution_count": 6,
   "metadata": {},
   "outputs": [
    {
     "output_type": "stream",
     "name": "stdout",
     "text": [
      "vaisseaux AEGIS!\n"
     ]
    }
   ],
   "source": [
    "aegisships = db.ships.find({'vaisseau.constructeur': 'AEGIS'})\n",
    "print(\"vaisseaux AEGIS!\")\n",
    "for ship in aegisships:\n",
    "    pprint(ship)"
   ]
  },
  {
   "cell_type": "code",
   "execution_count": 7,
   "metadata": {},
   "outputs": [],
   "source": [
    "db.ship.drop()"
   ]
  },
  {
   "cell_type": "code",
   "execution_count": 8,
   "metadata": {},
   "outputs": [
    {
     "output_type": "stream",
     "name": "stdout",
     "text": [
      "Tout les vaisseaus!\n"
     ]
    }
   ],
   "source": [
    "allships = ships.find()\n",
    "print(\"Tout les vaisseaus!\")\n",
    "for ship in allships:\n",
    "    pprint(ship)"
   ]
  },
  {
   "cell_type": "code",
   "execution_count": 9,
   "metadata": {},
   "outputs": [],
   "source": [
    "vaisseauxlist = [\n",
    "    {\n",
    "     \"nom\": \"F7C HORNET\",\n",
    "     \"constructeur\": \"Anvil Aerospace\",\n",
    "     \"hauteur\": 22,\n",
    "     \"largeur\": 6,\n",
    "     \"masse\" : 73535,\n",
    "     \"role\": \"Combat\",\n",
    "     \"prix\": 150\n",
    "        },\n",
    "      {\n",
    "     \"nom\": \"CONSTELLATION AQUILA\",\n",
    "     \"constructeur\": \"RSI\",\n",
    "     \"hauteur\": 61,\n",
    "     \"largeur\": 14,\n",
    "     \"masse\" : 439108,\n",
    "     \"role\": \"Exploration\",\n",
    "     \"prix\": 372\n",
    "        },\n",
    "    {\n",
    "     \"nom\": \"AURORA ES\",\n",
    "     \"constructeur\": \"RSI\",\n",
    "     \"hauteur\": 18,\n",
    "     \"largeur\": 4,\n",
    "     \"masse\" : 25172,\n",
    "     \"role\": \"Transport\",\n",
    "     \"prix\": 24\n",
    "        },\n",
    "    {\n",
    "     \"nom\": \"MANTIS\",\n",
    "     \"constructeur\": \"RSI\",\n",
    "     \"hauteur\": 30,\n",
    "     \"largeur\": 8,\n",
    "     \"masse\" : 225621,\n",
    "     \"role\": \"Combat\",\n",
    "     \"prix\": 180\n",
    "        },\n",
    "    {\n",
    "     \"nom\": \"CONSTELLATION TAURUS\",\n",
    "     \"constructeur\": \"RSI\",\n",
    "     \"hauteur\": 61,\n",
    "     \"largeur\": 14,\n",
    "     \"masse\" : 416009,\n",
    "     \"role\": \"Transport\",\n",
    "     \"prix\": 180\n",
    "        },\n",
    "    {\n",
    "     \"nom\": \"CONSTELLATION AQUILA\",\n",
    "     \"constructeur\": \"RSI\",\n",
    "     \"hauteur\": 61,\n",
    "     \"largeur\": 14,\n",
    "     \"masse\" :439108,\n",
    "     \"role\": \"Exploration\",\n",
    "     \"prix\": 372\n",
    "        },\n",
    "    {\n",
    "     \"nom\": \"CONSTELLATION ANDROMEDA\",\n",
    "     \"constructeur\": \"RSI\",\n",
    "     \"hauteur\": 61,\n",
    "     \"largeur\": 14,\n",
    "     \"masse\" :419850,\n",
    "     \"role\": \"Transport\",\n",
    "     \"prix\": 330\n",
    "        },\n",
    "    {\n",
    "     \"nom\": \"3001\",\n",
    "     \"constructeur\": \"Origin\",\n",
    "     \"hauteur\": 27,\n",
    "     \"largeur\": 8,\n",
    "     \"masse\" : 66320,\n",
    "     \"role\": \"Transport\",\n",
    "     \"prix\": 72\n",
    "        },\n",
    "    {\n",
    "     \"nom\": \"CUTLASS BLACK\",\n",
    "     \"constructeur\": \"Drake\",\n",
    "     \"hauteur\": 29,\n",
    "     \"largeur\": 10,\n",
    "     \"masse\" : 226700,\n",
    "     \"role\": \"Combat\",\n",
    "     \"prix\": 138\n",
    "        },\n",
    "    {\n",
    "     \"nom\": \"AVENGER TITAN\",\n",
    "     \"constructeur\": \"AEGIS\",\n",
    "     \"hauteur\": 22,\n",
    "     \"largeur\": 5,\n",
    "     \"masse\" : 50056,\n",
    "     \"role\": \"Transport\",\n",
    "     \"prix\": 84\n",
    "        },\n",
    "    {\n",
    "     \"nom\": \"GLADIUS\",\n",
    "     \"constructeur\": \"AEGIS\",\n",
    "     \"hauteur\": 20,\n",
    "     \"largeur\" : 5,\n",
    "     \"masse\" : 48958,\n",
    "     \"role\": \"Combat\",\n",
    "     \"prix\": 108\n",
    "        },\n",
    "    {\n",
    "     \"nom\": \"TERRAPIN\",\n",
    "     \"constructeur\": \"Anvil Aerospace\",\n",
    "     \"hauteur\": 19,\n",
    "     \"largeur\" : 6,\n",
    "     \"masse\" :86454,\n",
    "     \"role\": \"Combat\",\n",
    "     \"prix\": 1320\n",
    "        },\n",
    "    {\n",
    "     \"nom\": \"CARRACK EXPEDITION\",\n",
    "     \"constructeur\": \"Anvil Aerospace\",\n",
    "     \"hauteur\": 126,\n",
    "     \"largeur\": 36,\n",
    "     \"masse\" : 4397858,\n",
    "     \"role\": \"Exploration\",\n",
    "     \"prix\": 1320\n",
    "        },\n",
    "    {\n",
    "     \"nom\": \"ARROW\",\n",
    "     \"constructeur\": \"Anvil Aerospace\",\n",
    "     \"hauteur\": 16,\n",
    "     \"largeur\": 4,\n",
    "     \"masse\" : 30752,\n",
    "     \"role\": \"Combat\",\n",
    "     \"prix\": 108\n",
    "        },\n",
    "   {\n",
    "     \"nom\": \"REDEEMER\",\n",
    "     \"constructeur\": \"AEGIS\",\n",
    "     \"hauteur\": 37,\n",
    "     \"largeur\": 11,\n",
    "     \"masse\" : 120380,\n",
    "     \"role\": \"Combat\",\n",
    "     \"prix\": 530\n",
    "         },\n",
    "   {\n",
    "     \"nom\": \"JAVELIN\",\n",
    "     \"constructeur\": \"AEGIS\",\n",
    "     \"hauteur\": 480,\n",
    "     \"largeur\": 72,\n",
    "     \"masse\" : 109860179,\n",
    "     \"role\": \"Combat\",\n",
    "     \"prix\": 1240\n",
    "         },\n",
    "   {\n",
    "     \"nom\": \"NAUTILUS\",\n",
    "     \"constructeur\": \"AEGIS\",\n",
    "     \"hauteur\": 125,\n",
    "     \"largeur\": 21,\n",
    "     \"masse\" : 34567,\n",
    "     \"role\": \"Combat\",\n",
    "     \"prix\": 1240\n",
    "         },\n",
    "   {\n",
    "     \"nom\": \"VULCAN\",\n",
    "     \"constructeur\": \"AEGIS\",\n",
    "     \"hauteur\": 38,\n",
    "     \"largeur\": 10,\n",
    "     \"masse\" : 625330,\n",
    "     \"role\": \"Transport\",\n",
    "     \"prix\": 134\n",
    "         },\n",
    "   {\n",
    "     \"nom\": \"X1 BASE\",\n",
    "     \"constructeur\": \"ORIGIN\",\n",
    "     \"hauteur\": 5,\n",
    "     \"largeur\": 1,\n",
    "     \"masse\" : 1610,\n",
    "     \"role\": \"Transport\",\n",
    "     \"prix\": 50\n",
    "         },\n",
    "      {\n",
    "     \"nom\": \"HAWK\",\n",
    "     \"constructeur\": \"Anvil Aerospace\",\n",
    "     \"hauteur\": 17,\n",
    "     \"largeur\": 6,\n",
    "     \"masse\" : 40000,\n",
    "     \"role\": \"Combat\",\n",
    "     \"prix\": 650\n",
    "         },\n",
    "   {\n",
    "     \"nom\": \"CRUCIBLE\",\n",
    "     \"constructeur\": \"Anvil Aerospace\",\n",
    "     \"hauteur\": 90,\n",
    "     \"largeur\": 20,\n",
    "     \"masse\" : 3650500,\n",
    "     \"role\": \"Transport\",\n",
    "     \"prix\": 1800\n",
    "         },\n",
    "   {\n",
    "     \"nom\": \"VALKYRIE\",\n",
    "     \"constructeur\": \"Anvil Aerospace\",\n",
    "     \"hauteur\": 38,\n",
    "     \"largeur\": 9,\n",
    "     \"masse\" : 56000,\n",
    "     \"role\": \"Combat\",\n",
    "     \"prix\": 650\n",
    "         },\n",
    "   {\n",
    "     \"nom\": \"POLARIS\",\n",
    "     \"constructeur\": \"RSI\",\n",
    "     \"hauteur\": 155,\n",
    "     \"largeur\": 35,\n",
    "     \"masse\" : 17155000,\n",
    "     \"role\": \"Combat\",\n",
    "     \"prix\": 1790\n",
    "         },\n",
    "   {\n",
    "     \"nom\": \"ORION\",\n",
    "     \"constructeur\": \"RSI\",\n",
    "     \"hauteur\": 170,\n",
    "     \"largeur\": 50,\n",
    "     \"masse\" : 26496000,\n",
    "     \"role\": \"Transport\",\n",
    "     \"prix\": 780\n",
    "         },\n",
    "   {\n",
    "     \"nom\": \"HERALD\",\n",
    "     \"constructeur\": \"Drake\",\n",
    "     \"hauteur\": 23,\n",
    "     \"largeur\": 9,\n",
    "     \"masse\" : 64001,\n",
    "     \"role\": \"Transport\",\n",
    "     \"prix\": 650\n",
    "         },\n",
    "   {\n",
    "     \"nom\": \"CORSAIR\",\n",
    "     \"constructeur\": \"Drake\",\n",
    "     \"hauteur\": 55,\n",
    "     \"largeur\": 31,\n",
    "     \"masse\" : 45000,\n",
    "     \"role\": \"Exploration\",\n",
    "     \"prix\": 780\n",
    "         },\n",
    "   {\n",
    "     \"nom\": \"VULTURE\",\n",
    "     \"constructeur\": \"DRAKE\",\n",
    "     \"hauteur\": 33,\n",
    "     \"largeur\": 9,\n",
    "     \"masse\" : 55000,\n",
    "     \"role\": \"Transport\",\n",
    "     \"prix\": 549\n",
    "         },\n",
    "   {\n",
    "     \"nom\": \"CATERPILLAR\",\n",
    "     \"constructeur\": \"Drake\",\n",
    "     \"hauteur\": 111,\n",
    "     \"largeur\": 13,\n",
    "     \"masse\" : 1608205,\n",
    "     \"role\": \"Transport\",\n",
    "     \"prix\": 1200\n",
    "         },\n",
    "   {\n",
    "     \"nom\": \"KRAKEN\",\n",
    "     \"constructeur\": \"Drake\",\n",
    "     \"hauteur\": 270,\n",
    "     \"largeur\": 64,\n",
    "     \"masse\" : 37000,\n",
    "     \"role\": \"Combat\",\n",
    "     \"prix\": 1450\n",
    "         },\n",
    "   {\n",
    "     \"nom\": \"ECLIPSE\",\n",
    "     \"constructeur\": \"AEGIS\",\n",
    "     \"hauteur\": 20,\n",
    "     \"largeur\": 4,\n",
    "     \"masse\" : 54216,\n",
    "     \"role\": \"Combat\",\n",
    "     \"prix\": 490\n",
    "         }\n",
    "]\n",
    "\n",
    "try:\n",
    "    ships.insert_many(vaisseauxlist)\n",
    "except:\n",
    "    print(\"Erreur Insertion\")\n"
   ]
  },
  {
   "cell_type": "code",
   "execution_count": 10,
   "metadata": {},
   "outputs": [
    {
     "output_type": "stream",
     "name": "stdout",
     "text": [
      "Tout les vaisseaus!\n{'_id': ObjectId('6020f5466f74f4b7b1fa5f6e'),\n 'constructeur': 'Anvil Aerospace',\n 'hauteur': 22,\n 'largeur': 6,\n 'masse': 73535,\n 'nom': 'F7C HORNET',\n 'prix': 150,\n 'role': 'Combat'}\n{'_id': ObjectId('6020f5466f74f4b7b1fa5f6f'),\n 'constructeur': 'RSI',\n 'hauteur': 61,\n 'largeur': 14,\n 'masse': 439108,\n 'nom': 'CONSTELLATION AQUILA',\n 'prix': 372,\n 'role': 'Exploration'}\n{'_id': ObjectId('6020f5466f74f4b7b1fa5f70'),\n 'constructeur': 'RSI',\n 'hauteur': 18,\n 'largeur': 4,\n 'masse': 25172,\n 'nom': 'AURORA ES',\n 'prix': 24,\n 'role': 'Transport'}\n{'_id': ObjectId('6020f5466f74f4b7b1fa5f71'),\n 'constructeur': 'RSI',\n 'hauteur': 30,\n 'largeur': 8,\n 'masse': 225621,\n 'nom': 'MANTIS',\n 'prix': 180,\n 'role': 'Combat'}\n{'_id': ObjectId('6020f5466f74f4b7b1fa5f72'),\n 'constructeur': 'RSI',\n 'hauteur': 61,\n 'largeur': 14,\n 'masse': 416009,\n 'nom': 'CONSTELLATION TAURUS',\n 'prix': 180,\n 'role': 'Transport'}\n{'_id': ObjectId('6020f5466f74f4b7b1fa5f73'),\n 'constructeur': 'RSI',\n 'hauteur': 61,\n 'largeur': 14,\n 'masse': 439108,\n 'nom': 'CONSTELLATION AQUILA',\n 'prix': 372,\n 'role': 'Exploration'}\n{'_id': ObjectId('6020f5466f74f4b7b1fa5f74'),\n 'constructeur': 'RSI',\n 'hauteur': 61,\n 'largeur': 14,\n 'masse': 419850,\n 'nom': 'CONSTELLATION ANDROMEDA',\n 'prix': 330,\n 'role': 'Transport'}\n{'_id': ObjectId('6020f5466f74f4b7b1fa5f75'),\n 'constructeur': 'Origin',\n 'hauteur': 27,\n 'largeur': 8,\n 'masse': 66320,\n 'nom': '3001',\n 'prix': 72,\n 'role': 'Transport'}\n{'_id': ObjectId('6020f5466f74f4b7b1fa5f76'),\n 'constructeur': 'Drake',\n 'hauteur': 29,\n 'largeur': 10,\n 'masse': 226700,\n 'nom': 'CUTLASS BLACK',\n 'prix': 138,\n 'role': 'Combat'}\n{'_id': ObjectId('6020f5466f74f4b7b1fa5f77'),\n 'constructeur': 'AEGIS',\n 'hauteur': 22,\n 'largeur': 5,\n 'masse': 50056,\n 'nom': 'AVENGER TITAN',\n 'prix': 84,\n 'role': 'Transport'}\n{'_id': ObjectId('6020f5466f74f4b7b1fa5f78'),\n 'constructeur': 'AEGIS',\n 'hauteur': 20,\n 'largeur': 5,\n 'masse': 48958,\n 'nom': 'GLADIUS',\n 'prix': 108,\n 'role': 'Combat'}\n{'_id': ObjectId('6020f5466f74f4b7b1fa5f79'),\n 'constructeur': 'Anvil Aerospace',\n 'hauteur': 19,\n 'largeur': 6,\n 'masse': 86454,\n 'nom': 'TERRAPIN',\n 'prix': 1320,\n 'role': 'Combat'}\n{'_id': ObjectId('6020f5466f74f4b7b1fa5f7a'),\n 'constructeur': 'Anvil Aerospace',\n 'hauteur': 126,\n 'largeur': 36,\n 'masse': 4397858,\n 'nom': 'CARRACK EXPEDITION',\n 'prix': 1320,\n 'role': 'Exploration'}\n{'_id': ObjectId('6020f5466f74f4b7b1fa5f7b'),\n 'constructeur': 'Anvil Aerospace',\n 'hauteur': 16,\n 'largeur': 4,\n 'masse': 30752,\n 'nom': 'ARROW',\n 'prix': 108,\n 'role': 'Combat'}\n{'_id': ObjectId('6020f5466f74f4b7b1fa5f7c'),\n 'constructeur': 'AEGIS',\n 'hauteur': 37,\n 'largeur': 11,\n 'masse': 120380,\n 'nom': 'REDEEMER',\n 'prix': 530,\n 'role': 'Combat'}\n{'_id': ObjectId('6020f5466f74f4b7b1fa5f7d'),\n 'constructeur': 'AEGIS',\n 'hauteur': 480,\n 'largeur': 72,\n 'masse': 109860179,\n 'nom': 'JAVELIN',\n 'prix': 1240,\n 'role': 'Combat'}\n{'_id': ObjectId('6020f5466f74f4b7b1fa5f7e'),\n 'constructeur': 'AEGIS',\n 'hauteur': 125,\n 'largeur': 21,\n 'masse': 34567,\n 'nom': 'NAUTILUS',\n 'prix': 1240,\n 'role': 'Combat'}\n{'_id': ObjectId('6020f5466f74f4b7b1fa5f7f'),\n 'constructeur': 'AEGIS',\n 'hauteur': 38,\n 'largeur': 10,\n 'masse': 625330,\n 'nom': 'VULCAN',\n 'prix': 134,\n 'role': 'Transport'}\n{'_id': ObjectId('6020f5466f74f4b7b1fa5f80'),\n 'constructeur': 'ORIGIN',\n 'hauteur': 5,\n 'largeur': 1,\n 'masse': 1610,\n 'nom': 'X1 BASE',\n 'prix': 50,\n 'role': 'Transport'}\n{'_id': ObjectId('6020f5466f74f4b7b1fa5f81'),\n 'constructeur': 'Anvil Aerospace',\n 'hauteur': 17,\n 'largeur': 6,\n 'masse': 40000,\n 'nom': 'HAWK',\n 'prix': 650,\n 'role': 'Combat'}\n{'_id': ObjectId('6020f5466f74f4b7b1fa5f82'),\n 'constructeur': 'Anvil Aerospace',\n 'hauteur': 90,\n 'largeur': 20,\n 'masse': 3650500,\n 'nom': 'CRUCIBLE',\n 'prix': 1800,\n 'role': 'Transport'}\n{'_id': ObjectId('6020f5466f74f4b7b1fa5f83'),\n 'constructeur': 'Anvil Aerospace',\n 'hauteur': 38,\n 'largeur': 9,\n 'masse': 56000,\n 'nom': 'VALKYRIE',\n 'prix': 650,\n 'role': 'Combat'}\n{'_id': ObjectId('6020f5466f74f4b7b1fa5f84'),\n 'constructeur': 'RSI',\n 'hauteur': 155,\n 'largeur': 35,\n 'masse': 17155000,\n 'nom': 'POLARIS',\n 'prix': 1790,\n 'role': 'Combat'}\n{'_id': ObjectId('6020f5466f74f4b7b1fa5f85'),\n 'constructeur': 'RSI',\n 'hauteur': 170,\n 'largeur': 50,\n 'masse': 26496000,\n 'nom': 'ORION',\n 'prix': 780,\n 'role': 'Transport'}\n{'_id': ObjectId('6020f5466f74f4b7b1fa5f86'),\n 'constructeur': 'Drake',\n 'hauteur': 23,\n 'largeur': 9,\n 'masse': 64001,\n 'nom': 'HERALD',\n 'prix': 650,\n 'role': 'Transport'}\n{'_id': ObjectId('6020f5466f74f4b7b1fa5f87'),\n 'constructeur': 'Drake',\n 'hauteur': 55,\n 'largeur': 31,\n 'masse': 45000,\n 'nom': 'CORSAIR',\n 'prix': 780,\n 'role': 'Exploration'}\n{'_id': ObjectId('6020f5466f74f4b7b1fa5f88'),\n 'constructeur': 'DRAKE',\n 'hauteur': 33,\n 'largeur': 9,\n 'masse': 55000,\n 'nom': 'VULTURE',\n 'prix': 549,\n 'role': 'Transport'}\n{'_id': ObjectId('6020f5466f74f4b7b1fa5f89'),\n 'constructeur': 'Drake',\n 'hauteur': 111,\n 'largeur': 13,\n 'masse': 1608205,\n 'nom': 'CATERPILLAR',\n 'prix': 1200,\n 'role': 'Transport'}\n{'_id': ObjectId('6020f5466f74f4b7b1fa5f8a'),\n 'constructeur': 'Drake',\n 'hauteur': 270,\n 'largeur': 64,\n 'masse': 37000,\n 'nom': 'KRAKEN',\n 'prix': 1450,\n 'role': 'Combat'}\n{'_id': ObjectId('6020f5466f74f4b7b1fa5f8b'),\n 'constructeur': 'AEGIS',\n 'hauteur': 20,\n 'largeur': 4,\n 'masse': 54216,\n 'nom': 'ECLIPSE',\n 'prix': 490,\n 'role': 'Combat'}\n"
     ]
    }
   ],
   "source": [
    "allships = ships.find()\n",
    "print(\"Tout les vaisseaus!\")\n",
    "for ship in allships:\n",
    "    pprint(ship)"
   ]
  },
  {
   "cell_type": "code",
   "execution_count": 12,
   "metadata": {},
   "outputs": [
    {
     "output_type": "stream",
     "name": "stdout",
     "text": [
      "vaisseaux Origin!\n{'_id': ObjectId('6020f5466f74f4b7b1fa5f75'),\n 'constructeur': 'Origin',\n 'hauteur': 27,\n 'largeur': 8,\n 'masse': 66320,\n 'nom': '3001',\n 'prix': 72,\n 'role': 'Transport'}\n"
     ]
    }
   ],
   "source": [
    "Originship = db.ship.find({'constructeur': 'Origin'})\n",
    "print(\"vaisseaux Origin!\")\n",
    "for ship in Originship:\n",
    "    pprint(ship)"
   ]
  },
  {
   "cell_type": "code",
   "execution_count": 13,
   "metadata": {},
   "outputs": [
    {
     "output_type": "stream",
     "name": "stdout",
     "text": [
      "vaisseaux de COmbat!\n{'_id': ObjectId('6020f5466f74f4b7b1fa5f6e'),\n 'constructeur': 'Anvil Aerospace',\n 'hauteur': 22,\n 'largeur': 6,\n 'masse': 73535,\n 'nom': 'F7C HORNET',\n 'prix': 150,\n 'role': 'Combat'}\n{'_id': ObjectId('6020f5466f74f4b7b1fa5f71'),\n 'constructeur': 'RSI',\n 'hauteur': 30,\n 'largeur': 8,\n 'masse': 225621,\n 'nom': 'MANTIS',\n 'prix': 180,\n 'role': 'Combat'}\n{'_id': ObjectId('6020f5466f74f4b7b1fa5f76'),\n 'constructeur': 'Drake',\n 'hauteur': 29,\n 'largeur': 10,\n 'masse': 226700,\n 'nom': 'CUTLASS BLACK',\n 'prix': 138,\n 'role': 'Combat'}\n{'_id': ObjectId('6020f5466f74f4b7b1fa5f78'),\n 'constructeur': 'AEGIS',\n 'hauteur': 20,\n 'largeur': 5,\n 'masse': 48958,\n 'nom': 'GLADIUS',\n 'prix': 108,\n 'role': 'Combat'}\n{'_id': ObjectId('6020f5466f74f4b7b1fa5f79'),\n 'constructeur': 'Anvil Aerospace',\n 'hauteur': 19,\n 'largeur': 6,\n 'masse': 86454,\n 'nom': 'TERRAPIN',\n 'prix': 1320,\n 'role': 'Combat'}\n{'_id': ObjectId('6020f5466f74f4b7b1fa5f7b'),\n 'constructeur': 'Anvil Aerospace',\n 'hauteur': 16,\n 'largeur': 4,\n 'masse': 30752,\n 'nom': 'ARROW',\n 'prix': 108,\n 'role': 'Combat'}\n{'_id': ObjectId('6020f5466f74f4b7b1fa5f7c'),\n 'constructeur': 'AEGIS',\n 'hauteur': 37,\n 'largeur': 11,\n 'masse': 120380,\n 'nom': 'REDEEMER',\n 'prix': 530,\n 'role': 'Combat'}\n{'_id': ObjectId('6020f5466f74f4b7b1fa5f7d'),\n 'constructeur': 'AEGIS',\n 'hauteur': 480,\n 'largeur': 72,\n 'masse': 109860179,\n 'nom': 'JAVELIN',\n 'prix': 1240,\n 'role': 'Combat'}\n{'_id': ObjectId('6020f5466f74f4b7b1fa5f7e'),\n 'constructeur': 'AEGIS',\n 'hauteur': 125,\n 'largeur': 21,\n 'masse': 34567,\n 'nom': 'NAUTILUS',\n 'prix': 1240,\n 'role': 'Combat'}\n{'_id': ObjectId('6020f5466f74f4b7b1fa5f81'),\n 'constructeur': 'Anvil Aerospace',\n 'hauteur': 17,\n 'largeur': 6,\n 'masse': 40000,\n 'nom': 'HAWK',\n 'prix': 650,\n 'role': 'Combat'}\n{'_id': ObjectId('6020f5466f74f4b7b1fa5f83'),\n 'constructeur': 'Anvil Aerospace',\n 'hauteur': 38,\n 'largeur': 9,\n 'masse': 56000,\n 'nom': 'VALKYRIE',\n 'prix': 650,\n 'role': 'Combat'}\n{'_id': ObjectId('6020f5466f74f4b7b1fa5f84'),\n 'constructeur': 'RSI',\n 'hauteur': 155,\n 'largeur': 35,\n 'masse': 17155000,\n 'nom': 'POLARIS',\n 'prix': 1790,\n 'role': 'Combat'}\n{'_id': ObjectId('6020f5466f74f4b7b1fa5f8a'),\n 'constructeur': 'Drake',\n 'hauteur': 270,\n 'largeur': 64,\n 'masse': 37000,\n 'nom': 'KRAKEN',\n 'prix': 1450,\n 'role': 'Combat'}\n{'_id': ObjectId('6020f5466f74f4b7b1fa5f8b'),\n 'constructeur': 'AEGIS',\n 'hauteur': 20,\n 'largeur': 4,\n 'masse': 54216,\n 'nom': 'ECLIPSE',\n 'prix': 490,\n 'role': 'Combat'}\n"
     ]
    }
   ],
   "source": [
    "combatship = db.ship.find({\"role\": \"Combat\"})\n",
    "print(\"vaisseaux de COmbat!\")\n",
    "for ship in combatship:\n",
    "    pprint(ship)"
   ]
  },
  {
   "cell_type": "code",
   "execution_count": 14,
   "metadata": {},
   "outputs": [
    {
     "output_type": "stream",
     "name": "stdout",
     "text": [
      "vaisseaux AEGIS de combat!\n{'_id': ObjectId('6020f5466f74f4b7b1fa5f78'),\n 'constructeur': 'AEGIS',\n 'hauteur': 20,\n 'largeur': 5,\n 'masse': 48958,\n 'nom': 'GLADIUS',\n 'prix': 108,\n 'role': 'Combat'}\n{'_id': ObjectId('6020f5466f74f4b7b1fa5f7c'),\n 'constructeur': 'AEGIS',\n 'hauteur': 37,\n 'largeur': 11,\n 'masse': 120380,\n 'nom': 'REDEEMER',\n 'prix': 530,\n 'role': 'Combat'}\n{'_id': ObjectId('6020f5466f74f4b7b1fa5f7d'),\n 'constructeur': 'AEGIS',\n 'hauteur': 480,\n 'largeur': 72,\n 'masse': 109860179,\n 'nom': 'JAVELIN',\n 'prix': 1240,\n 'role': 'Combat'}\n{'_id': ObjectId('6020f5466f74f4b7b1fa5f7e'),\n 'constructeur': 'AEGIS',\n 'hauteur': 125,\n 'largeur': 21,\n 'masse': 34567,\n 'nom': 'NAUTILUS',\n 'prix': 1240,\n 'role': 'Combat'}\n{'_id': ObjectId('6020f5466f74f4b7b1fa5f8b'),\n 'constructeur': 'AEGIS',\n 'hauteur': 20,\n 'largeur': 4,\n 'masse': 54216,\n 'nom': 'ECLIPSE',\n 'prix': 490,\n 'role': 'Combat'}\n"
     ]
    }
   ],
   "source": [
    "combatshipsaegis = db.ship.find({'constructeur': 'AEGIS', \"role\": \"Combat\"})\n",
    "print(\"vaisseaux AEGIS de combat!\")\n",
    "for ship in combatshipsaegis:\n",
    "    pprint(ship)"
   ]
  },
  {
   "cell_type": "code",
   "execution_count": 16,
   "metadata": {},
   "outputs": [
    {
     "output_type": "stream",
     "name": "stdout",
     "text": [
      "vaisseaux de transport pas chère!\n{'_id': ObjectId('6020f5466f74f4b7b1fa5f70'),\n 'constructeur': 'RSI',\n 'hauteur': 18,\n 'largeur': 4,\n 'masse': 25172,\n 'nom': 'AURORA ES',\n 'prix': 24,\n 'role': 'Transport'}\n{'_id': ObjectId('6020f5466f74f4b7b1fa5f75'),\n 'constructeur': 'Origin',\n 'hauteur': 27,\n 'largeur': 8,\n 'masse': 66320,\n 'nom': '3001',\n 'prix': 72,\n 'role': 'Transport'}\n{'_id': ObjectId('6020f5466f74f4b7b1fa5f77'),\n 'constructeur': 'AEGIS',\n 'hauteur': 22,\n 'largeur': 5,\n 'masse': 50056,\n 'nom': 'AVENGER TITAN',\n 'prix': 84,\n 'role': 'Transport'}\n{'_id': ObjectId('6020f5466f74f4b7b1fa5f80'),\n 'constructeur': 'ORIGIN',\n 'hauteur': 5,\n 'largeur': 1,\n 'masse': 1610,\n 'nom': 'X1 BASE',\n 'prix': 50,\n 'role': 'Transport'}\n"
     ]
    }
   ],
   "source": [
    "transportships = db.ship.find({\"role\": \"Transport\", \"prix\": {\"$lte\": 100 }})\n",
    "print(\"vaisseaux de transport pas chère!\")\n",
    "for ship in transportships:\n",
    "    pprint(ship)"
   ]
  },
  {
   "cell_type": "code",
   "execution_count": 18,
   "metadata": {},
   "outputs": [
    {
     "output_type": "stream",
     "name": "stdout",
     "text": [
      "vaisseaux de combat moyen!\n{'_id': ObjectId('6020f5466f74f4b7b1fa5f6e'),\n 'constructeur': 'Anvil Aerospace',\n 'hauteur': 22,\n 'largeur': 6,\n 'masse': 73535,\n 'nom': 'F7C HORNET',\n 'prix': 150,\n 'role': 'Combat'}\n{'_id': ObjectId('6020f5466f74f4b7b1fa5f71'),\n 'constructeur': 'RSI',\n 'hauteur': 30,\n 'largeur': 8,\n 'masse': 225621,\n 'nom': 'MANTIS',\n 'prix': 180,\n 'role': 'Combat'}\n{'_id': ObjectId('6020f5466f74f4b7b1fa5f76'),\n 'constructeur': 'Drake',\n 'hauteur': 29,\n 'largeur': 10,\n 'masse': 226700,\n 'nom': 'CUTLASS BLACK',\n 'prix': 138,\n 'role': 'Combat'}\n{'_id': ObjectId('6020f5466f74f4b7b1fa5f78'),\n 'constructeur': 'AEGIS',\n 'hauteur': 20,\n 'largeur': 5,\n 'masse': 48958,\n 'nom': 'GLADIUS',\n 'prix': 108,\n 'role': 'Combat'}\n{'_id': ObjectId('6020f5466f74f4b7b1fa5f7b'),\n 'constructeur': 'Anvil Aerospace',\n 'hauteur': 16,\n 'largeur': 4,\n 'masse': 30752,\n 'nom': 'ARROW',\n 'prix': 108,\n 'role': 'Combat'}\n"
     ]
    }
   ],
   "source": [
    "COmbatship = db.ship.find({\"role\": \"Combat\", \"prix\": {\"$gte\": 100, \"$lte\": 300 }})\n",
    "print(\"vaisseaux de combat moyen!\")\n",
    "for ship in COmbatship:\n",
    "    pprint(ship)"
   ]
  },
  {
   "cell_type": "code",
   "execution_count": 19,
   "metadata": {},
   "outputs": [
    {
     "output_type": "error",
     "ename": "SyntaxError",
     "evalue": "invalid syntax (<ipython-input-19-2d002c7e678b>, line 1)",
     "traceback": [
      "\u001b[1;36m  File \u001b[1;32m\"<ipython-input-19-2d002c7e678b>\"\u001b[1;36m, line \u001b[1;32m1\u001b[0m\n\u001b[1;33m    F():\u001b[0m\n\u001b[1;37m        ^\u001b[0m\n\u001b[1;31mSyntaxError\u001b[0m\u001b[1;31m:\u001b[0m invalid syntax\n"
     ]
    }
   ],
   "source": [
    "F(a,b):\n",
    "COmbatship = db.ship.find({\"role\": \"Combat\", \"prix\": {\"$gte\": a, \"$lte\": b }})\n",
    "print(\"vaisseaux de combat moyen!\")\n",
    "for ship in COmbatship:\n",
    "    pprint(ship)"
   ]
  },
  {
   "cell_type": "code",
   "execution_count": 20,
   "metadata": {},
   "outputs": [],
   "source": [
    "def findConstructeur(constructeur):\n",
    "    Constructeurship = db.ship.find({'constructeur': constructeur})\n",
    "    print(\"vaisseaux : \" + constructeur)\n",
    "    for ship in Constructeurship:\n",
    "        pprint(ship)"
   ]
  },
  {
   "cell_type": "code",
   "execution_count": 22,
   "metadata": {},
   "outputs": [
    {
     "output_type": "stream",
     "name": "stdout",
     "text": [
      "vaisseaux : Origin\n{'_id': ObjectId('6020f5466f74f4b7b1fa5f75'),\n 'constructeur': 'Origin',\n 'hauteur': 27,\n 'largeur': 8,\n 'masse': 66320,\n 'nom': '3001',\n 'prix': 72,\n 'role': 'Transport'}\n"
     ]
    }
   ],
   "source": [
    "findConstructeur(\"Origin\")"
   ]
  },
  {
   "cell_type": "code",
   "execution_count": 26,
   "metadata": {},
   "outputs": [],
   "source": [
    "def findPerfect(role, minimum, maximum):\n",
    "    Budgetship = db.ship.find({\"role\": role, \"prix\": {\"$gte\": minimum, \"$lte\": maximum }})\n",
    "    print(\"vaisseaux dans votre budget!\")\n",
    "    for ship in Budgetship:\n",
    "        pprint(ship)"
   ]
  },
  {
   "cell_type": "code",
   "execution_count": 27,
   "metadata": {},
   "outputs": [
    {
     "output_type": "stream",
     "name": "stdout",
     "text": [
      "vaisseaux dans votre budget!\n{'_id': ObjectId('6020f5466f74f4b7b1fa5f6e'),\n 'constructeur': 'Anvil Aerospace',\n 'hauteur': 22,\n 'largeur': 6,\n 'masse': 73535,\n 'nom': 'F7C HORNET',\n 'prix': 150,\n 'role': 'Combat'}\n{'_id': ObjectId('6020f5466f74f4b7b1fa5f71'),\n 'constructeur': 'RSI',\n 'hauteur': 30,\n 'largeur': 8,\n 'masse': 225621,\n 'nom': 'MANTIS',\n 'prix': 180,\n 'role': 'Combat'}\n{'_id': ObjectId('6020f5466f74f4b7b1fa5f76'),\n 'constructeur': 'Drake',\n 'hauteur': 29,\n 'largeur': 10,\n 'masse': 226700,\n 'nom': 'CUTLASS BLACK',\n 'prix': 138,\n 'role': 'Combat'}\n{'_id': ObjectId('6020f5466f74f4b7b1fa5f78'),\n 'constructeur': 'AEGIS',\n 'hauteur': 20,\n 'largeur': 5,\n 'masse': 48958,\n 'nom': 'GLADIUS',\n 'prix': 108,\n 'role': 'Combat'}\n{'_id': ObjectId('6020f5466f74f4b7b1fa5f7b'),\n 'constructeur': 'Anvil Aerospace',\n 'hauteur': 16,\n 'largeur': 4,\n 'masse': 30752,\n 'nom': 'ARROW',\n 'prix': 108,\n 'role': 'Combat'}\n"
     ]
    }
   ],
   "source": [
    "findPerfect(\"Combat\", 100, 200)"
   ]
  },
  {
   "cell_type": "code",
   "execution_count": null,
   "metadata": {},
   "outputs": [],
   "source": []
  }
 ]
}