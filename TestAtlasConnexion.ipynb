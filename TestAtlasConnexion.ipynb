{
 "metadata": {
  "language_info": {
   "codemirror_mode": {
    "name": "ipython",
    "version": 3
   },
   "file_extension": ".py",
   "mimetype": "text/x-python",
   "name": "python",
   "nbconvert_exporter": "python",
   "pygments_lexer": "ipython3",
   "version": 3
  },
  "orig_nbformat": 2
 },
 "nbformat": 4,
 "nbformat_minor": 2,
 "cells": [
  {
   "cell_type": "code",
   "execution_count": null,
   "metadata": {},
   "outputs": [],
   "source": [
    "import pymongo\n",
    "import json\n",
    "from pprint import pprint\n",
    "from pymongo import MongoClient\n",
    "client = pymongo.MongoClient(\"mongodb+srv://User1:<P@ssword1234>@cluster0.jbf6t.mongodb.net/test\")\n",
    "db = client.startest\n",
    "ships = db.ships"
   ]
  }
 ]
}